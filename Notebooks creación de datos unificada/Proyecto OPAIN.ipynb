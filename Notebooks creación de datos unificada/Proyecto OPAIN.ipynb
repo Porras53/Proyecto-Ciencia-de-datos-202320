{
  "cells": [
    {
      "cell_type": "markdown",
      "id": "ae860b32",
      "metadata": {
        "colab_type": "text",
        "id": "view-in-github"
      },
      "source": [
        "<a href=\"https://colab.research.google.com/github/Porras53/Proyecto-Ciencia-de-datos-202320/blob/main/Proyecto%20OPAIN.ipynb\" target=\"_parent\"><img src=\"https://colab.research.google.com/assets/colab-badge.svg\" alt=\"Open In Colab\"/></a>"
      ]
    },
    {
      "cell_type": "markdown",
      "id": "5c479685",
      "metadata": {},
      "source": [
        "# Librerias"
      ]
    },
    {
      "cell_type": "code",
      "execution_count": 1,
      "id": "b5b106c1-cc17-46e3-af8a-0ec829d21c5d",
      "metadata": {
        "id": "b5b106c1-cc17-46e3-af8a-0ec829d21c5d"
      },
      "outputs": [],
      "source": [
        "import warnings\n",
        "warnings.filterwarnings('ignore')\n",
        "import pandas as pd\n",
        "import numpy as np\n",
        "import matplotlib.pyplot as plt\n",
        "import datetime\n",
        "import seaborn as sns; sns.set()  # for plot styling\n",
        "import locale\n",
        "from difflib import SequenceMatcher\n",
        "from sklearn.ensemble import GradientBoostingRegressor\n",
        "from sklearn.metrics import mean_absolute_error, mean_squared_error, r2_score\n",
        "from sklearn.model_selection import RandomizedSearchCV"
      ]
    },
    {
      "cell_type": "markdown",
      "id": "65056de7",
      "metadata": {},
      "source": [
        "# Carga de datos"
      ]
    },
    {
      "cell_type": "code",
      "execution_count": 2,
      "id": "ad2d30dc-f38b-40c4-b4e4-1f14e037450c",
      "metadata": {
        "id": "ad2d30dc-f38b-40c4-b4e4-1f14e037450c"
      },
      "outputs": [],
      "source": [
        "archivo_marca1= pd.read_excel(\"Informacion Bases de datos Comercial Marca 1.xlsx\", sheet_name=None)\n",
        "archivo_marca2_10= pd.read_excel(\"Informacion Bases de datos Comercial Marca 2 - 10.xlsx\", sheet_name=None)"
      ]
    },
    {
      "cell_type": "code",
      "execution_count": 3,
      "id": "6610d429-bfc5-43a9-88c8-797426428f46",
      "metadata": {
        "colab": {
          "base_uri": "https://localhost:8080/"
        },
        "id": "6610d429-bfc5-43a9-88c8-797426428f46",
        "outputId": "0b2d6313-744a-420b-b814-a7404ae334a9"
      },
      "outputs": [
        {
          "data": {
            "text/plain": [
              "dict_keys(['Marca 2', 'Marca 3', 'Marca 4', 'Marca 5', 'Marca 6', 'Marca 7', 'marca 8', 'marca 9', 'marca 10'])"
            ]
          },
          "execution_count": 3,
          "metadata": {},
          "output_type": "execute_result"
        }
      ],
      "source": [
        "archivo_marca2_10.keys()"
      ]
    },
    {
      "cell_type": "code",
      "execution_count": 4,
      "id": "394106ce-bd32-4028-b813-c1462803d65d",
      "metadata": {
        "id": "394106ce-bd32-4028-b813-c1462803d65d"
      },
      "outputs": [],
      "source": [
        "def sacar_anio(entrada):\n",
        "    return entrada.year\n",
        "def sacar_mes(entrada):\n",
        "    return entrada.month\n",
        "def sacar_dia(entrada):\n",
        "    return entrada.day"
      ]
    },
    {
      "cell_type": "code",
      "execution_count": 5,
      "id": "f4e5e426-a86e-48b5-ba07-dfaa522583ce",
      "metadata": {
        "id": "f4e5e426-a86e-48b5-ba07-dfaa522583ce"
      },
      "outputs": [],
      "source": [
        "def obt_horas_minutos_marca4(entrada):\n",
        "    entrada=  entrada.replace(\".0\",\"\")\n",
        "    return entrada.split(\":\")[1] + \":\"+ entrada.split(\":\")[2]"
      ]
    },
    {
      "cell_type": "code",
      "execution_count": 6,
      "id": "c84b2da5-4209-4ea2-9ab8-87a3ceb32912",
      "metadata": {
        "id": "c84b2da5-4209-4ea2-9ab8-87a3ceb32912"
      },
      "outputs": [],
      "source": [
        "def obt_horas_marca8(entrada):\n",
        "    return entrada.split(\":\")[0]\n",
        "def obt_horas_minutos_marca8(entrada):\n",
        "    return entrada[:-3]"
      ]
    },
    {
      "cell_type": "code",
      "execution_count": 7,
      "id": "b207a193-4740-4368-ad3b-eba621d0a77a",
      "metadata": {
        "id": "b207a193-4740-4368-ad3b-eba621d0a77a"
      },
      "outputs": [],
      "source": [
        "def obt_horas_minutos_marca10(entrada):\n",
        "    return entrada.split(\":\")[1] + \":\"+ entrada.split(\":\")[2]"
      ]
    },
    {
      "cell_type": "code",
      "execution_count": 8,
      "id": "3d66cb03-d3d1-4fbf-b4d0-d83f6e24faa2",
      "metadata": {
        "id": "3d66cb03-d3d1-4fbf-b4d0-d83f6e24faa2",
        "outputId": "21be6662-5f6c-4e45-817b-ee9bbaaf2bc0"
      },
      "outputs": [
        {
          "data": {
            "text/plain": [
              "'es_ES.UTF-8'"
            ]
          },
          "execution_count": 8,
          "metadata": {},
          "output_type": "execute_result"
        }
      ],
      "source": [
        "locale.setlocale(locale.LC_ALL,'es_ES.UTF-8')"
      ]
    },
    {
      "cell_type": "code",
      "execution_count": 9,
      "id": "097d28d7-68aa-426f-9c7c-86dd4038554e",
      "metadata": {
        "colab": {
          "base_uri": "https://localhost:8080/"
        },
        "id": "097d28d7-68aa-426f-9c7c-86dd4038554e",
        "outputId": "4bb3669f-28ec-4eb4-c3f4-d5bd42d4710d"
      },
      "outputs": [
        {
          "name": "stdout",
          "output_type": "stream",
          "text": [
            "<class 'pandas.core.frame.DataFrame'>\n",
            "RangeIndex: 83370 entries, 0 to 83369\n",
            "Data columns (total 12 columns):\n",
            " #   Column          Non-Null Count  Dtype         \n",
            "---  ------          --------------  -----         \n",
            " 0   fecha_de_venta  83370 non-null  datetime64[ns]\n",
            " 1   tienda          83370 non-null  object        \n",
            " 2   ventas          83370 non-null  int64         \n",
            " 3   muelle          83370 non-null  object        \n",
            " 4   hora_entera     83282 non-null  float64       \n",
            " 5   transacciones   83282 non-null  float64       \n",
            " 6   semana          83370 non-null  int64         \n",
            " 7   anio_entero     83370 non-null  int64         \n",
            " 8   mes_entero      83370 non-null  int64         \n",
            " 9   dia_entero      83370 non-null  int64         \n",
            " 10  mes_string      83370 non-null  object        \n",
            " 11  marca           83370 non-null  object        \n",
            "dtypes: datetime64[ns](1), float64(2), int64(5), object(4)\n",
            "memory usage: 7.6+ MB\n"
          ]
        }
      ],
      "source": [
        "marca1=archivo_marca1['MARCA 1'].copy()\n",
        "marca1=marca1.rename(columns={'Fecha de Venta':'fecha_de_venta','Centro de consumo':'tienda','Ventas Netas':'ventas','ZONA':'muelle','HORA':'hora_entera','TRANSACCIONES':'transacciones','SEMANA':'semana','Año':'anio_entero','Mes':'mes_entero','Día':'dia_entero','Mes(2)':'mes_string'})\n",
        "marca1['marca'] = 'marca1'\n",
        "marca1.info()"
      ]
    },
    {
      "cell_type": "code",
      "execution_count": 10,
      "id": "45ab576f-87d9-4248-9f76-28f34704ad74",
      "metadata": {
        "colab": {
          "base_uri": "https://localhost:8080/"
        },
        "id": "45ab576f-87d9-4248-9f76-28f34704ad74",
        "outputId": "da9fb082-df70-4f46-c6d4-c46cbe2f79c7"
      },
      "outputs": [
        {
          "name": "stdout",
          "output_type": "stream",
          "text": [
            "<class 'pandas.core.frame.DataFrame'>\n",
            "RangeIndex: 22297 entries, 0 to 22296\n",
            "Data columns (total 13 columns):\n",
            " #   Column          Non-Null Count  Dtype         \n",
            "---  ------          --------------  -----         \n",
            " 0   tienda          22297 non-null  object        \n",
            " 1   hora_entera     22297 non-null  int64         \n",
            " 2   fecha_de_venta  22297 non-null  datetime64[ns]\n",
            " 3   ventas          22297 non-null  float64       \n",
            " 4   transacciones   22297 non-null  int64         \n",
            " 5   unidades        22297 non-null  int64         \n",
            " 6   muelle          22297 non-null  object        \n",
            " 7   marca           22297 non-null  object        \n",
            " 8   anio_entero     22297 non-null  int64         \n",
            " 9   mes_entero      22297 non-null  int64         \n",
            " 10  dia_entero      22297 non-null  int64         \n",
            " 11  mes_string      22297 non-null  object        \n",
            " 12  semana          22297 non-null  int64         \n",
            "dtypes: datetime64[ns](1), float64(1), int64(7), object(4)\n",
            "memory usage: 2.2+ MB\n"
          ]
        }
      ],
      "source": [
        "marca2=archivo_marca2_10['Marca 2'].copy()\n",
        "# marca2=marca2.drop(columns=['Unnamed: 7','Unnamed: 8','Unnamed: 9'])\n",
        "marca2=marca2.rename(columns={'Fecha':'fecha_de_venta','Tienda':'tienda','Ventas':'ventas','Muelle':'muelle','Hora entera':'hora_entera','Transacciones':'transacciones','Unidades':'unidades'})\n",
        "marca2['marca'] = 'marca2'\n",
        "marca2['anio_entero'] = marca2['fecha_de_venta'].apply(sacar_anio)\n",
        "marca2['mes_entero'] = marca2['fecha_de_venta'].apply(sacar_mes)\n",
        "marca2['dia_entero'] = marca2['fecha_de_venta'].apply(sacar_dia)\n",
        "marca2['mes_string'] = marca2['fecha_de_venta'].dt.strftime('%B')\n",
        "marca2['semana'] = marca2['fecha_de_venta'].dt.week\n",
        "# dates.dt.week\n",
        "marca2.info()"
      ]
    },
    {
      "cell_type": "code",
      "execution_count": 11,
      "id": "15f18add-fcaa-4995-ae8a-e69d7864473f",
      "metadata": {
        "colab": {
          "base_uri": "https://localhost:8080/",
          "height": 313
        },
        "id": "15f18add-fcaa-4995-ae8a-e69d7864473f",
        "outputId": "21562013-043d-40a3-8e36-f9767946313b"
      },
      "outputs": [
        {
          "data": {
            "text/html": [
              "<div>\n",
              "<style scoped>\n",
              "    .dataframe tbody tr th:only-of-type {\n",
              "        vertical-align: middle;\n",
              "    }\n",
              "\n",
              "    .dataframe tbody tr th {\n",
              "        vertical-align: top;\n",
              "    }\n",
              "\n",
              "    .dataframe thead th {\n",
              "        text-align: right;\n",
              "    }\n",
              "</style>\n",
              "<table border=\"1\" class=\"dataframe\">\n",
              "  <thead>\n",
              "    <tr style=\"text-align: right;\">\n",
              "      <th></th>\n",
              "      <th>tienda</th>\n",
              "      <th>hora_entera</th>\n",
              "      <th>fecha_de_venta</th>\n",
              "      <th>ventas</th>\n",
              "      <th>transacciones</th>\n",
              "      <th>unidades</th>\n",
              "      <th>muelle</th>\n",
              "      <th>marca</th>\n",
              "      <th>anio_entero</th>\n",
              "      <th>mes_entero</th>\n",
              "      <th>dia_entero</th>\n",
              "      <th>mes_string</th>\n",
              "      <th>semana</th>\n",
              "    </tr>\n",
              "  </thead>\n",
              "  <tbody>\n",
              "    <tr>\n",
              "      <th>0</th>\n",
              "      <td>Tienda A</td>\n",
              "      <td>7</td>\n",
              "      <td>2022-01-01</td>\n",
              "      <td>27121380.0</td>\n",
              "      <td>7</td>\n",
              "      <td>23</td>\n",
              "      <td>Internacional Oriente</td>\n",
              "      <td>marca2</td>\n",
              "      <td>2022</td>\n",
              "      <td>1</td>\n",
              "      <td>1</td>\n",
              "      <td>enero</td>\n",
              "      <td>52</td>\n",
              "    </tr>\n",
              "    <tr>\n",
              "      <th>1</th>\n",
              "      <td>Tienda A</td>\n",
              "      <td>8</td>\n",
              "      <td>2022-01-01</td>\n",
              "      <td>4636320.0</td>\n",
              "      <td>3</td>\n",
              "      <td>5</td>\n",
              "      <td>Internacional Oriente</td>\n",
              "      <td>marca2</td>\n",
              "      <td>2022</td>\n",
              "      <td>1</td>\n",
              "      <td>1</td>\n",
              "      <td>enero</td>\n",
              "      <td>52</td>\n",
              "    </tr>\n",
              "    <tr>\n",
              "      <th>2</th>\n",
              "      <td>Tienda A</td>\n",
              "      <td>9</td>\n",
              "      <td>2022-01-01</td>\n",
              "      <td>10518300.0</td>\n",
              "      <td>4</td>\n",
              "      <td>12</td>\n",
              "      <td>Internacional Oriente</td>\n",
              "      <td>marca2</td>\n",
              "      <td>2022</td>\n",
              "      <td>1</td>\n",
              "      <td>1</td>\n",
              "      <td>enero</td>\n",
              "      <td>52</td>\n",
              "    </tr>\n",
              "    <tr>\n",
              "      <th>3</th>\n",
              "      <td>Tienda A</td>\n",
              "      <td>10</td>\n",
              "      <td>2022-01-01</td>\n",
              "      <td>9620520.0</td>\n",
              "      <td>6</td>\n",
              "      <td>16</td>\n",
              "      <td>Internacional Oriente</td>\n",
              "      <td>marca2</td>\n",
              "      <td>2022</td>\n",
              "      <td>1</td>\n",
              "      <td>1</td>\n",
              "      <td>enero</td>\n",
              "      <td>52</td>\n",
              "    </tr>\n",
              "    <tr>\n",
              "      <th>4</th>\n",
              "      <td>Tienda A</td>\n",
              "      <td>11</td>\n",
              "      <td>2022-01-01</td>\n",
              "      <td>22212840.0</td>\n",
              "      <td>7</td>\n",
              "      <td>21</td>\n",
              "      <td>Internacional Oriente</td>\n",
              "      <td>marca2</td>\n",
              "      <td>2022</td>\n",
              "      <td>1</td>\n",
              "      <td>1</td>\n",
              "      <td>enero</td>\n",
              "      <td>52</td>\n",
              "    </tr>\n",
              "  </tbody>\n",
              "</table>\n",
              "</div>"
            ],
            "text/plain": [
              "     tienda  hora_entera fecha_de_venta      ventas  transacciones  unidades  \\\n",
              "0  Tienda A            7     2022-01-01  27121380.0              7        23   \n",
              "1  Tienda A            8     2022-01-01   4636320.0              3         5   \n",
              "2  Tienda A            9     2022-01-01  10518300.0              4        12   \n",
              "3  Tienda A           10     2022-01-01   9620520.0              6        16   \n",
              "4  Tienda A           11     2022-01-01  22212840.0              7        21   \n",
              "\n",
              "                  muelle   marca  anio_entero  mes_entero  dia_entero  \\\n",
              "0  Internacional Oriente  marca2         2022           1           1   \n",
              "1  Internacional Oriente  marca2         2022           1           1   \n",
              "2  Internacional Oriente  marca2         2022           1           1   \n",
              "3  Internacional Oriente  marca2         2022           1           1   \n",
              "4  Internacional Oriente  marca2         2022           1           1   \n",
              "\n",
              "  mes_string  semana  \n",
              "0      enero      52  \n",
              "1      enero      52  \n",
              "2      enero      52  \n",
              "3      enero      52  \n",
              "4      enero      52  "
            ]
          },
          "execution_count": 11,
          "metadata": {},
          "output_type": "execute_result"
        }
      ],
      "source": [
        "marca2.head()"
      ]
    },
    {
      "cell_type": "code",
      "execution_count": 12,
      "id": "db3ab137-1479-4097-a734-ea1c4d5b486e",
      "metadata": {
        "id": "db3ab137-1479-4097-a734-ea1c4d5b486e"
      },
      "outputs": [],
      "source": [
        "marca4=archivo_marca2_10['Marca 4'].copy()\n",
        "marca4=marca4.rename(columns={'FECHA':'fecha_de_venta','TIENDA1':'tienda','TOTAL_LOC':'ventas','Muelle':'muelle','HORA ENTERA':'hora_entera','HORA':'hora_minutos','TRANSACCIONES':'transacciones','UNIDADES':'unidades','CATEGORÍA':'categoria','Num fact':'num_fact','DESCRIPCION':'descripcion','PRECIO_NETO_LOC':'precio_neto_loc','PRECIO_BRUTO_LOC':'precio_bruto_loc','IMPUESTO_LOC':'impuesto_loc','DESCUENTO_LOC':'descuento_loc'})\n",
        "marca4['marca'] = 'marca4'\n",
        "marca4['anio_entero'] = marca4['fecha_de_venta'].apply(sacar_anio)\n",
        "marca4['mes_entero'] = marca4['fecha_de_venta'].apply(sacar_mes)\n",
        "marca4['dia_entero'] = marca4['fecha_de_venta'].apply(sacar_dia)\n",
        "marca4['mes_string'] = marca4['fecha_de_venta'].dt.strftime('%B')\n",
        "marca4['semana'] = marca4['fecha_de_venta'].dt.week\n",
        "marca4['hora_minutos'] = marca4['hora_minutos'].apply(obt_horas_minutos_marca4)"
      ]
    },
    {
      "cell_type": "code",
      "execution_count": 13,
      "id": "1d7c65d8-12b0-48e0-9bb9-cfda04f0dffb",
      "metadata": {
        "id": "1d7c65d8-12b0-48e0-9bb9-cfda04f0dffb"
      },
      "outputs": [],
      "source": [
        "marca4['ventas_sin_iva'] = round(marca4['precio_neto_loc'] * marca4['unidades'],0)\n",
        "marca4['impuesto_loc'] = round(marca4['impuesto_loc'],0)"
      ]
    },
    {
      "cell_type": "code",
      "execution_count": 14,
      "id": "521c8881-7c4a-44c9-8b06-dcfe3c9d2536",
      "metadata": {
        "id": "521c8881-7c4a-44c9-8b06-dcfe3c9d2536"
      },
      "outputs": [],
      "source": [
        "marca4['categoria']=marca4['categoria'].str.lower()"
      ]
    },
    {
      "cell_type": "code",
      "execution_count": 15,
      "id": "88bf8d84-fea9-41fe-a329-8abd9c8e37fa",
      "metadata": {
        "colab": {
          "base_uri": "https://localhost:8080/"
        },
        "id": "88bf8d84-fea9-41fe-a329-8abd9c8e37fa",
        "outputId": "6114a626-0602-4dd3-a4c6-bab0a5405daa"
      },
      "outputs": [
        {
          "data": {
            "text/plain": [
              "array(['alimentos y bebidas retail', 'golosinas', 'cuidado personal',\n",
              "       'souvenirs', 'textiles de regalo', 'cafe', 'artesanias', nan,\n",
              "       'vicios', 'juegos y juguetes', 'joyeria', 'articulos de viaje',\n",
              "       'libros', 'revistas y periodicos', 'productos de papel',\n",
              "       'reposteria dulce', 'comida', 'tecnologia', 'complementos cafe',\n",
              "       'textiles de playa'], dtype=object)"
            ]
          },
          "execution_count": 15,
          "metadata": {},
          "output_type": "execute_result"
        }
      ],
      "source": [
        "marca4['categoria'].unique()"
      ]
    },
    {
      "cell_type": "code",
      "execution_count": 16,
      "id": "5d9abd11-7eca-498b-8d96-d063e9af387d",
      "metadata": {
        "colab": {
          "base_uri": "https://localhost:8080/"
        },
        "id": "5d9abd11-7eca-498b-8d96-d063e9af387d",
        "outputId": "2619eea6-7e96-4c16-f21f-ee80d1baf2fc"
      },
      "outputs": [
        {
          "name": "stdout",
          "output_type": "stream",
          "text": [
            "<class 'pandas.core.frame.DataFrame'>\n",
            "RangeIndex: 1037749 entries, 0 to 1037748\n",
            "Data columns (total 19 columns):\n",
            " #   Column                      Non-Null Count    Dtype\n",
            "---  ------                      --------------    -----\n",
            " 0   alimentos y bebidas retail  1037749 non-null  uint8\n",
            " 1   artesanias                  1037749 non-null  uint8\n",
            " 2   articulos de viaje          1037749 non-null  uint8\n",
            " 3   cafe                        1037749 non-null  uint8\n",
            " 4   comida                      1037749 non-null  uint8\n",
            " 5   complementos cafe           1037749 non-null  uint8\n",
            " 6   cuidado personal            1037749 non-null  uint8\n",
            " 7   golosinas                   1037749 non-null  uint8\n",
            " 8   joyeria                     1037749 non-null  uint8\n",
            " 9   juegos y juguetes           1037749 non-null  uint8\n",
            " 10  libros                      1037749 non-null  uint8\n",
            " 11  productos de papel          1037749 non-null  uint8\n",
            " 12  reposteria dulce            1037749 non-null  uint8\n",
            " 13  revistas y periodicos       1037749 non-null  uint8\n",
            " 14  souvenirs                   1037749 non-null  uint8\n",
            " 15  tecnologia                  1037749 non-null  uint8\n",
            " 16  textiles de playa           1037749 non-null  uint8\n",
            " 17  textiles de regalo          1037749 non-null  uint8\n",
            " 18  vicios                      1037749 non-null  uint8\n",
            "dtypes: uint8(19)\n",
            "memory usage: 18.8 MB\n"
          ]
        }
      ],
      "source": [
        "marca4_dummies_cat = pd.get_dummies(marca4.categoria)\n",
        "marca4_dummies_cat.info()"
      ]
    },
    {
      "cell_type": "code",
      "execution_count": 17,
      "id": "4ec8e181-5ca8-47e6-ba2f-31a3b23b8993",
      "metadata": {
        "colab": {
          "base_uri": "https://localhost:8080/"
        },
        "id": "4ec8e181-5ca8-47e6-ba2f-31a3b23b8993",
        "outputId": "05611b13-426a-4277-d2db-0295ccd96409"
      },
      "outputs": [
        {
          "data": {
            "text/plain": [
              "Index(['alimentos y bebidas retail', 'artesanias', 'articulos de viaje',\n",
              "       'cafe', 'comida', 'complementos cafe', 'cuidado personal', 'golosinas',\n",
              "       'joyeria', 'juegos y juguetes', 'libros', 'productos de papel',\n",
              "       'reposteria dulce', 'revistas y periodicos', 'souvenirs', 'tecnologia',\n",
              "       'textiles de playa', 'textiles de regalo', 'vicios'],\n",
              "      dtype='object')"
            ]
          },
          "execution_count": 17,
          "metadata": {},
          "output_type": "execute_result"
        }
      ],
      "source": [
        "marca4_dummies_cat.columns"
      ]
    },
    {
      "cell_type": "code",
      "execution_count": 18,
      "id": "c3d7e8d5-d012-408f-98f9-579cd452ab5c",
      "metadata": {
        "colab": {
          "base_uri": "https://localhost:8080/"
        },
        "id": "c3d7e8d5-d012-408f-98f9-579cd452ab5c",
        "outputId": "a1c12409-6b5c-4f6d-a4e6-3fb8ab30927a"
      },
      "outputs": [
        {
          "name": "stdout",
          "output_type": "stream",
          "text": [
            "<class 'pandas.core.frame.DataFrame'>\n",
            "RangeIndex: 1037749 entries, 0 to 1037748\n",
            "Data columns (total 41 columns):\n",
            " #   Column                      Non-Null Count    Dtype         \n",
            "---  ------                      --------------    -----         \n",
            " 0   tienda                      1037749 non-null  object        \n",
            " 1   muelle                      1037749 non-null  object        \n",
            " 2   fecha_de_venta              1037749 non-null  datetime64[ns]\n",
            " 3   hora_minutos                1037749 non-null  object        \n",
            " 4   hora_entera                 1037749 non-null  int64         \n",
            " 5   num_fact                    1037749 non-null  int64         \n",
            " 6   transacciones               1037749 non-null  int64         \n",
            " 7   descripcion                 1037749 non-null  object        \n",
            " 8   unidades                    1037749 non-null  int64         \n",
            " 9   precio_neto_loc             1037749 non-null  float64       \n",
            " 10  precio_bruto_loc            1037749 non-null  float64       \n",
            " 11  impuesto_loc                1037749 non-null  float64       \n",
            " 12  descuento_loc               1037749 non-null  float64       \n",
            " 13  ventas                      1037749 non-null  float64       \n",
            " 14  categoria                   1006939 non-null  object        \n",
            " 15  marca                       1037749 non-null  object        \n",
            " 16  anio_entero                 1037749 non-null  int64         \n",
            " 17  mes_entero                  1037749 non-null  int64         \n",
            " 18  dia_entero                  1037749 non-null  int64         \n",
            " 19  mes_string                  1037749 non-null  object        \n",
            " 20  semana                      1037749 non-null  int64         \n",
            " 21  ventas_sin_iva              1037749 non-null  float64       \n",
            " 22  alimentos y bebidas retail  1037749 non-null  uint8         \n",
            " 23  artesanias                  1037749 non-null  uint8         \n",
            " 24  articulos de viaje          1037749 non-null  uint8         \n",
            " 25  cafe                        1037749 non-null  uint8         \n",
            " 26  comida                      1037749 non-null  uint8         \n",
            " 27  complementos cafe           1037749 non-null  uint8         \n",
            " 28  cuidado personal            1037749 non-null  uint8         \n",
            " 29  golosinas                   1037749 non-null  uint8         \n",
            " 30  joyeria                     1037749 non-null  uint8         \n",
            " 31  juegos y juguetes           1037749 non-null  uint8         \n",
            " 32  libros                      1037749 non-null  uint8         \n",
            " 33  productos de papel          1037749 non-null  uint8         \n",
            " 34  reposteria dulce            1037749 non-null  uint8         \n",
            " 35  revistas y periodicos       1037749 non-null  uint8         \n",
            " 36  souvenirs                   1037749 non-null  uint8         \n",
            " 37  tecnologia                  1037749 non-null  uint8         \n",
            " 38  textiles de playa           1037749 non-null  uint8         \n",
            " 39  textiles de regalo          1037749 non-null  uint8         \n",
            " 40  vicios                      1037749 non-null  uint8         \n",
            "dtypes: datetime64[ns](1), float64(6), int64(8), object(7), uint8(19)\n",
            "memory usage: 193.0+ MB\n"
          ]
        }
      ],
      "source": [
        "marca4=pd.concat([marca4,marca4_dummies_cat],axis=1)\n",
        "marca4.info()"
      ]
    },
    {
      "cell_type": "code",
      "execution_count": 19,
      "id": "22e647ff-5697-47f2-99bf-766f23cf74d3",
      "metadata": {
        "id": "22e647ff-5697-47f2-99bf-766f23cf74d3"
      },
      "outputs": [],
      "source": [
        "# marca4_dummies_desc = pd.get_dummies(marca4.descripcion)\n",
        "# marca4_dummies_desc.info()"
      ]
    },
    {
      "cell_type": "code",
      "execution_count": 20,
      "id": "66de6bb7-66d3-4d68-a37f-67041320519a",
      "metadata": {
        "id": "66de6bb7-66d3-4d68-a37f-67041320519a"
      },
      "outputs": [],
      "source": [
        "marca4_agrupado=marca4.groupby(by=['tienda','anio_entero','mes_entero','dia_entero','hora_entera']).sum()[['ventas_sin_iva','precio_bruto_loc','impuesto_loc','descuento_loc','unidades','ventas','transacciones','alimentos y bebidas retail', 'artesanias', 'articulos de viaje',\n",
        "       'cafe', 'comida', 'complementos cafe', 'cuidado personal', 'golosinas',\n",
        "       'joyeria', 'juegos y juguetes', 'libros', 'productos de papel',\n",
        "       'reposteria dulce', 'revistas y periodicos', 'souvenirs', 'tecnologia',\n",
        "       'textiles de playa', 'textiles de regalo', 'vicios']].reset_index()"
      ]
    },
    {
      "cell_type": "code",
      "execution_count": 21,
      "id": "03f95bc0-c3fb-4b64-912a-812a97c3f778",
      "metadata": {
        "id": "03f95bc0-c3fb-4b64-912a-812a97c3f778"
      },
      "outputs": [],
      "source": [
        "columnas_esp=['tienda','muelle','fecha_de_venta','hora_entera','marca','anio_entero','mes_entero','dia_entero','mes_string','semana']"
      ]
    },
    {
      "cell_type": "code",
      "execution_count": 22,
      "id": "1b21b528-b30e-4d88-b0de-53fba069c420",
      "metadata": {
        "id": "1b21b528-b30e-4d88-b0de-53fba069c420"
      },
      "outputs": [],
      "source": [
        "marca4_conglomerado= marca4.drop_duplicates(subset=['tienda','anio_entero','mes_entero','dia_entero','hora_entera'])[columnas_esp].merge(marca4_agrupado,on=['tienda','anio_entero','mes_entero','dia_entero','hora_entera'],how=\"left\")"
      ]
    },
    {
      "cell_type": "code",
      "execution_count": 23,
      "id": "c607b0ec-7195-4897-9706-28048ce24526",
      "metadata": {
        "id": "c607b0ec-7195-4897-9706-28048ce24526"
      },
      "outputs": [],
      "source": [
        "marca4_conglomerado=marca4_conglomerado.rename(columns={'precio_bruto_loc':'precio_bruto_total','impuesto_loc':'impuesto_total','descuento_loc':'descuento_total'})"
      ]
    },
    {
      "cell_type": "code",
      "execution_count": 24,
      "id": "e8f094d8-9af1-4582-af1a-75d8787f666b",
      "metadata": {
        "id": "e8f094d8-9af1-4582-af1a-75d8787f666b"
      },
      "outputs": [],
      "source": [
        "# marca4_conglomerado['categoria']= pd.Series(categoria_col)\n",
        "# marca4_conglomerado['descripcion'] = pd.Series(descripcion_col)"
      ]
    },
    {
      "cell_type": "code",
      "execution_count": 25,
      "id": "039a01ae-a31b-4236-8a08-f838785e0f0c",
      "metadata": {
        "colab": {
          "base_uri": "https://localhost:8080/"
        },
        "id": "039a01ae-a31b-4236-8a08-f838785e0f0c",
        "outputId": "e49726dc-593e-4024-a627-a4f966afef45"
      },
      "outputs": [
        {
          "name": "stdout",
          "output_type": "stream",
          "text": [
            "<class 'pandas.core.frame.DataFrame'>\n",
            "Int64Index: 17766 entries, 0 to 17765\n",
            "Data columns (total 36 columns):\n",
            " #   Column                      Non-Null Count  Dtype         \n",
            "---  ------                      --------------  -----         \n",
            " 0   tienda                      17766 non-null  object        \n",
            " 1   muelle                      17766 non-null  object        \n",
            " 2   fecha_de_venta              17766 non-null  datetime64[ns]\n",
            " 3   hora_entera                 17766 non-null  int64         \n",
            " 4   marca                       17766 non-null  object        \n",
            " 5   anio_entero                 17766 non-null  int64         \n",
            " 6   mes_entero                  17766 non-null  int64         \n",
            " 7   dia_entero                  17766 non-null  int64         \n",
            " 8   mes_string                  17766 non-null  object        \n",
            " 9   semana                      17766 non-null  int64         \n",
            " 10  ventas_sin_iva              17766 non-null  float64       \n",
            " 11  precio_bruto_total          17766 non-null  float64       \n",
            " 12  impuesto_total              17766 non-null  float64       \n",
            " 13  descuento_total             17766 non-null  float64       \n",
            " 14  unidades                    17766 non-null  int64         \n",
            " 15  ventas                      17766 non-null  float64       \n",
            " 16  transacciones               17766 non-null  int64         \n",
            " 17  alimentos y bebidas retail  17766 non-null  uint8         \n",
            " 18  artesanias                  17766 non-null  uint8         \n",
            " 19  articulos de viaje          17766 non-null  uint8         \n",
            " 20  cafe                        17766 non-null  uint8         \n",
            " 21  comida                      17766 non-null  uint8         \n",
            " 22  complementos cafe           17766 non-null  uint8         \n",
            " 23  cuidado personal            17766 non-null  uint8         \n",
            " 24  golosinas                   17766 non-null  uint8         \n",
            " 25  joyeria                     17766 non-null  uint8         \n",
            " 26  juegos y juguetes           17766 non-null  uint8         \n",
            " 27  libros                      17766 non-null  uint8         \n",
            " 28  productos de papel          17766 non-null  uint8         \n",
            " 29  reposteria dulce            17766 non-null  uint8         \n",
            " 30  revistas y periodicos       17766 non-null  uint8         \n",
            " 31  souvenirs                   17766 non-null  uint8         \n",
            " 32  tecnologia                  17766 non-null  uint8         \n",
            " 33  textiles de playa           17766 non-null  uint8         \n",
            " 34  textiles de regalo          17766 non-null  uint8         \n",
            " 35  vicios                      17766 non-null  uint8         \n",
            "dtypes: datetime64[ns](1), float64(5), int64(7), object(4), uint8(19)\n",
            "memory usage: 2.8+ MB\n"
          ]
        }
      ],
      "source": [
        "marca4_conglomerado.info()"
      ]
    },
    {
      "cell_type": "code",
      "execution_count": 26,
      "id": "584fe9d3-1325-4d92-9526-c72de4079d17",
      "metadata": {
        "colab": {
          "base_uri": "https://localhost:8080/",
          "height": 377
        },
        "id": "584fe9d3-1325-4d92-9526-c72de4079d17",
        "outputId": "fff4efb6-39dc-44b0-b3b5-6723bb7574ed"
      },
      "outputs": [
        {
          "data": {
            "text/html": [
              "<div>\n",
              "<style scoped>\n",
              "    .dataframe tbody tr th:only-of-type {\n",
              "        vertical-align: middle;\n",
              "    }\n",
              "\n",
              "    .dataframe tbody tr th {\n",
              "        vertical-align: top;\n",
              "    }\n",
              "\n",
              "    .dataframe thead th {\n",
              "        text-align: right;\n",
              "    }\n",
              "</style>\n",
              "<table border=\"1\" class=\"dataframe\">\n",
              "  <thead>\n",
              "    <tr style=\"text-align: right;\">\n",
              "      <th></th>\n",
              "      <th>tienda</th>\n",
              "      <th>muelle</th>\n",
              "      <th>fecha_de_venta</th>\n",
              "      <th>hora_entera</th>\n",
              "      <th>marca</th>\n",
              "      <th>anio_entero</th>\n",
              "      <th>mes_entero</th>\n",
              "      <th>dia_entero</th>\n",
              "      <th>mes_string</th>\n",
              "      <th>semana</th>\n",
              "      <th>...</th>\n",
              "      <th>juegos y juguetes</th>\n",
              "      <th>libros</th>\n",
              "      <th>productos de papel</th>\n",
              "      <th>reposteria dulce</th>\n",
              "      <th>revistas y periodicos</th>\n",
              "      <th>souvenirs</th>\n",
              "      <th>tecnologia</th>\n",
              "      <th>textiles de playa</th>\n",
              "      <th>textiles de regalo</th>\n",
              "      <th>vicios</th>\n",
              "    </tr>\n",
              "  </thead>\n",
              "  <tbody>\n",
              "    <tr>\n",
              "      <th>0</th>\n",
              "      <td>Tienda 1</td>\n",
              "      <td>Internacional Oriente</td>\n",
              "      <td>2022-01-01</td>\n",
              "      <td>0</td>\n",
              "      <td>marca4</td>\n",
              "      <td>2022</td>\n",
              "      <td>1</td>\n",
              "      <td>1</td>\n",
              "      <td>enero</td>\n",
              "      <td>52</td>\n",
              "      <td>...</td>\n",
              "      <td>0</td>\n",
              "      <td>0</td>\n",
              "      <td>0</td>\n",
              "      <td>0</td>\n",
              "      <td>0</td>\n",
              "      <td>5</td>\n",
              "      <td>0</td>\n",
              "      <td>0</td>\n",
              "      <td>2</td>\n",
              "      <td>1</td>\n",
              "    </tr>\n",
              "    <tr>\n",
              "      <th>1</th>\n",
              "      <td>Tienda 1</td>\n",
              "      <td>Internacional Oriente</td>\n",
              "      <td>2022-01-01</td>\n",
              "      <td>1</td>\n",
              "      <td>marca4</td>\n",
              "      <td>2022</td>\n",
              "      <td>1</td>\n",
              "      <td>1</td>\n",
              "      <td>enero</td>\n",
              "      <td>52</td>\n",
              "      <td>...</td>\n",
              "      <td>1</td>\n",
              "      <td>0</td>\n",
              "      <td>0</td>\n",
              "      <td>0</td>\n",
              "      <td>0</td>\n",
              "      <td>1</td>\n",
              "      <td>0</td>\n",
              "      <td>0</td>\n",
              "      <td>0</td>\n",
              "      <td>0</td>\n",
              "    </tr>\n",
              "    <tr>\n",
              "      <th>2</th>\n",
              "      <td>Tienda 1</td>\n",
              "      <td>Internacional Oriente</td>\n",
              "      <td>2022-01-01</td>\n",
              "      <td>3</td>\n",
              "      <td>marca4</td>\n",
              "      <td>2022</td>\n",
              "      <td>1</td>\n",
              "      <td>1</td>\n",
              "      <td>enero</td>\n",
              "      <td>52</td>\n",
              "      <td>...</td>\n",
              "      <td>1</td>\n",
              "      <td>0</td>\n",
              "      <td>0</td>\n",
              "      <td>0</td>\n",
              "      <td>0</td>\n",
              "      <td>8</td>\n",
              "      <td>0</td>\n",
              "      <td>0</td>\n",
              "      <td>2</td>\n",
              "      <td>0</td>\n",
              "    </tr>\n",
              "    <tr>\n",
              "      <th>3</th>\n",
              "      <td>Tienda 1</td>\n",
              "      <td>Internacional Oriente</td>\n",
              "      <td>2022-01-01</td>\n",
              "      <td>4</td>\n",
              "      <td>marca4</td>\n",
              "      <td>2022</td>\n",
              "      <td>1</td>\n",
              "      <td>1</td>\n",
              "      <td>enero</td>\n",
              "      <td>52</td>\n",
              "      <td>...</td>\n",
              "      <td>0</td>\n",
              "      <td>0</td>\n",
              "      <td>0</td>\n",
              "      <td>0</td>\n",
              "      <td>0</td>\n",
              "      <td>5</td>\n",
              "      <td>0</td>\n",
              "      <td>0</td>\n",
              "      <td>0</td>\n",
              "      <td>0</td>\n",
              "    </tr>\n",
              "    <tr>\n",
              "      <th>4</th>\n",
              "      <td>Tienda 1</td>\n",
              "      <td>Internacional Oriente</td>\n",
              "      <td>2022-01-01</td>\n",
              "      <td>5</td>\n",
              "      <td>marca4</td>\n",
              "      <td>2022</td>\n",
              "      <td>1</td>\n",
              "      <td>1</td>\n",
              "      <td>enero</td>\n",
              "      <td>52</td>\n",
              "      <td>...</td>\n",
              "      <td>1</td>\n",
              "      <td>0</td>\n",
              "      <td>0</td>\n",
              "      <td>0</td>\n",
              "      <td>0</td>\n",
              "      <td>1</td>\n",
              "      <td>0</td>\n",
              "      <td>0</td>\n",
              "      <td>0</td>\n",
              "      <td>0</td>\n",
              "    </tr>\n",
              "  </tbody>\n",
              "</table>\n",
              "<p>5 rows × 36 columns</p>\n",
              "</div>"
            ],
            "text/plain": [
              "     tienda                 muelle fecha_de_venta  hora_entera   marca  \\\n",
              "0  Tienda 1  Internacional Oriente     2022-01-01            0  marca4   \n",
              "1  Tienda 1  Internacional Oriente     2022-01-01            1  marca4   \n",
              "2  Tienda 1  Internacional Oriente     2022-01-01            3  marca4   \n",
              "3  Tienda 1  Internacional Oriente     2022-01-01            4  marca4   \n",
              "4  Tienda 1  Internacional Oriente     2022-01-01            5  marca4   \n",
              "\n",
              "   anio_entero  mes_entero  dia_entero mes_string  semana  ...  \\\n",
              "0         2022           1           1      enero      52  ...   \n",
              "1         2022           1           1      enero      52  ...   \n",
              "2         2022           1           1      enero      52  ...   \n",
              "3         2022           1           1      enero      52  ...   \n",
              "4         2022           1           1      enero      52  ...   \n",
              "\n",
              "   juegos y juguetes  libros  productos de papel  reposteria dulce  \\\n",
              "0                  0       0                   0                 0   \n",
              "1                  1       0                   0                 0   \n",
              "2                  1       0                   0                 0   \n",
              "3                  0       0                   0                 0   \n",
              "4                  1       0                   0                 0   \n",
              "\n",
              "   revistas y periodicos  souvenirs  tecnologia  textiles de playa  \\\n",
              "0                      0          5           0                  0   \n",
              "1                      0          1           0                  0   \n",
              "2                      0          8           0                  0   \n",
              "3                      0          5           0                  0   \n",
              "4                      0          1           0                  0   \n",
              "\n",
              "   textiles de regalo  vicios  \n",
              "0                   2       1  \n",
              "1                   0       0  \n",
              "2                   2       0  \n",
              "3                   0       0  \n",
              "4                   0       0  \n",
              "\n",
              "[5 rows x 36 columns]"
            ]
          },
          "execution_count": 26,
          "metadata": {},
          "output_type": "execute_result"
        }
      ],
      "source": [
        "marca4_conglomerado.head()"
      ]
    },
    {
      "cell_type": "code",
      "execution_count": 27,
      "id": "8c5bb465-b9a2-4930-a880-4b96e5072526",
      "metadata": {
        "colab": {
          "base_uri": "https://localhost:8080/"
        },
        "id": "8c5bb465-b9a2-4930-a880-4b96e5072526",
        "outputId": "57486026-66a8-4fa0-c1ec-ad619c064433"
      },
      "outputs": [
        {
          "name": "stdout",
          "output_type": "stream",
          "text": [
            "<class 'pandas.core.frame.DataFrame'>\n",
            "Int64Index: 235931 entries, 0 to 236964\n",
            "Data columns (total 15 columns):\n",
            " #   Column          Non-Null Count   Dtype         \n",
            "---  ------          --------------   -----         \n",
            " 0   tienda          235931 non-null  object        \n",
            " 1   tipo_de_tienda  235931 non-null  object        \n",
            " 2   muelle          235931 non-null  object        \n",
            " 3   fecha_de_venta  235931 non-null  datetime64[ns]\n",
            " 4   ventas          235931 non-null  float64       \n",
            " 5   hora_entera     235931 non-null  int64         \n",
            " 6   transacciones   235931 non-null  int64         \n",
            " 7   unidades        235931 non-null  float64       \n",
            " 8   categoria       235931 non-null  object        \n",
            " 9   marca           235931 non-null  object        \n",
            " 10  anio_entero     235931 non-null  int64         \n",
            " 11  mes_entero      235931 non-null  int64         \n",
            " 12  dia_entero      235931 non-null  int64         \n",
            " 13  mes_string      235931 non-null  object        \n",
            " 14  semana          235931 non-null  int64         \n",
            "dtypes: datetime64[ns](1), float64(2), int64(6), object(6)\n",
            "memory usage: 28.8+ MB\n"
          ]
        }
      ],
      "source": [
        "marca3=archivo_marca2_10['Marca 3'].copy()\n",
        "marca3=marca3.drop(columns=['Unnamed: 9','Unnamed: 10'])\n",
        "marca3=marca3.rename(columns={'FECHA':'fecha_de_venta','Cód tienda':'tienda','VENTAS':'ventas','UBICACIÓN':'muelle','Hora entera':'hora_entera','TRANSACCIONES':'transacciones','UNIDADES':'unidades','CATEGORÍA':'categoria','Tipo de tienda':'tipo_de_tienda'})\n",
        "marca3= marca3[~(marca3['ventas']==0)]\n",
        "marca3['marca'] = 'marca3'\n",
        "marca3['anio_entero'] = marca3['fecha_de_venta'].apply(sacar_anio)\n",
        "marca3['mes_entero'] = marca3['fecha_de_venta'].apply(sacar_mes)\n",
        "marca3['dia_entero'] = marca3['fecha_de_venta'].apply(sacar_dia)\n",
        "marca3['mes_string'] = marca3['fecha_de_venta'].dt.strftime('%B')\n",
        "marca3['semana'] = marca3['fecha_de_venta'].dt.week\n",
        "marca3.info()"
      ]
    },
    {
      "cell_type": "code",
      "execution_count": 28,
      "id": "f33b1018-57ee-4928-bd6a-b95dafce2348",
      "metadata": {
        "id": "f33b1018-57ee-4928-bd6a-b95dafce2348"
      },
      "outputs": [],
      "source": [
        "marca3['categoria']=marca3['categoria'].str.lower()"
      ]
    },
    {
      "cell_type": "code",
      "execution_count": 29,
      "id": "3f287e44-20c1-4eef-b80f-0e636d886b73",
      "metadata": {
        "id": "3f287e44-20c1-4eef-b80f-0e636d886b73"
      },
      "outputs": [],
      "source": [
        "# 'alimentos y bebidas retail', 'golosinas', 'cuidado personal',\n",
        "#        'souvenirs', 'textiles de regalo', 'cafe', 'artesanias', nan,\n",
        "#        'vicios', 'juegos y juguetes', 'joyeria', 'articulos de viaje',\n",
        "#        'libros', 'revistas y periodicos', 'productos de papel',\n",
        "#        'reposteria dulce', 'comida', 'tecnologia', 'complementos cafe',\n",
        "#        'textiles de playa'"
      ]
    },
    {
      "cell_type": "code",
      "execution_count": 30,
      "id": "9b1fecc4-1b10-4e86-86d0-6470b89a7d42",
      "metadata": {
        "id": "9b1fecc4-1b10-4e86-86d0-6470b89a7d42"
      },
      "outputs": [],
      "source": [
        "def cambiar_categoria_marca3(entrada):\n",
        "    if entrada==\"textiles\":\n",
        "        return \"textiles de regalo\"\n",
        "    elif entrada==\"tecno\":\n",
        "        return \"tecnologia\"\n",
        "    elif entrada==\"librería\":\n",
        "        return \"libros\"\n",
        "    elif entrada==\"belleza\":\n",
        "        return \"cuidado personal\"\n",
        "    elif entrada==\"alimentos\":\n",
        "        return \"comida\"\n",
        "    elif entrada==\"licor\":\n",
        "        return \"vicios\"\n",
        "    elif entrada==\"juguetes\":\n",
        "        return \"juegos y juguetes\"\n",
        "    else:\n",
        "        return entrada"
      ]
    },
    {
      "cell_type": "code",
      "execution_count": 31,
      "id": "4cd3b9e2-d750-44fb-a03b-ad1855ada91a",
      "metadata": {
        "id": "4cd3b9e2-d750-44fb-a03b-ad1855ada91a"
      },
      "outputs": [],
      "source": [
        "marca3['categoria']= marca3['categoria'].apply(cambiar_categoria_marca3)"
      ]
    },
    {
      "cell_type": "code",
      "execution_count": 32,
      "id": "d0412b9b-0a88-46a9-bf0d-3f17b6bd256b",
      "metadata": {
        "colab": {
          "base_uri": "https://localhost:8080/"
        },
        "id": "d0412b9b-0a88-46a9-bf0d-3f17b6bd256b",
        "outputId": "93bbcb85-871d-4ef7-bf58-c2c80258d3dd"
      },
      "outputs": [
        {
          "data": {
            "text/plain": [
              "array(['textiles de regalo', 'lujo', 'libros', 'cuidado personal',\n",
              "       'souvenirs', 'comida', 'accesorios', 'tecnologia', 'perfumería',\n",
              "       'vicios', 'golosinas', 'juegos y juguetes', 'miscelanea'],\n",
              "      dtype=object)"
            ]
          },
          "execution_count": 32,
          "metadata": {},
          "output_type": "execute_result"
        }
      ],
      "source": [
        "marca3['categoria'].unique()"
      ]
    },
    {
      "cell_type": "code",
      "execution_count": 33,
      "id": "6b39a202-b56b-4338-8023-66e7b7f98bcc",
      "metadata": {
        "colab": {
          "base_uri": "https://localhost:8080/"
        },
        "id": "6b39a202-b56b-4338-8023-66e7b7f98bcc",
        "outputId": "8884e783-1d80-478e-921c-7eb7602f4670"
      },
      "outputs": [
        {
          "name": "stdout",
          "output_type": "stream",
          "text": [
            "<class 'pandas.core.frame.DataFrame'>\n",
            "Int64Index: 235931 entries, 0 to 236964\n",
            "Data columns (total 13 columns):\n",
            " #   Column              Non-Null Count   Dtype\n",
            "---  ------              --------------   -----\n",
            " 0   accesorios          235931 non-null  uint8\n",
            " 1   comida              235931 non-null  uint8\n",
            " 2   cuidado personal    235931 non-null  uint8\n",
            " 3   golosinas           235931 non-null  uint8\n",
            " 4   juegos y juguetes   235931 non-null  uint8\n",
            " 5   libros              235931 non-null  uint8\n",
            " 6   lujo                235931 non-null  uint8\n",
            " 7   miscelanea          235931 non-null  uint8\n",
            " 8   perfumería          235931 non-null  uint8\n",
            " 9   souvenirs           235931 non-null  uint8\n",
            " 10  tecnologia          235931 non-null  uint8\n",
            " 11  textiles de regalo  235931 non-null  uint8\n",
            " 12  vicios              235931 non-null  uint8\n",
            "dtypes: uint8(13)\n",
            "memory usage: 4.7 MB\n"
          ]
        }
      ],
      "source": [
        "marca3_dummies_cat = pd.get_dummies(marca3.categoria)\n",
        "marca3_dummies_cat.info()"
      ]
    },
    {
      "cell_type": "code",
      "execution_count": 34,
      "id": "406baa69-e79b-4f1f-b1b8-19fa8b19682e",
      "metadata": {
        "colab": {
          "base_uri": "https://localhost:8080/"
        },
        "id": "406baa69-e79b-4f1f-b1b8-19fa8b19682e",
        "outputId": "9484bca3-ab45-48d7-bf2d-e5a79e0f0e06"
      },
      "outputs": [
        {
          "name": "stdout",
          "output_type": "stream",
          "text": [
            "<class 'pandas.core.frame.DataFrame'>\n",
            "Int64Index: 235931 entries, 0 to 236964\n",
            "Data columns (total 28 columns):\n",
            " #   Column              Non-Null Count   Dtype         \n",
            "---  ------              --------------   -----         \n",
            " 0   tienda              235931 non-null  object        \n",
            " 1   tipo_de_tienda      235931 non-null  object        \n",
            " 2   muelle              235931 non-null  object        \n",
            " 3   fecha_de_venta      235931 non-null  datetime64[ns]\n",
            " 4   ventas              235931 non-null  float64       \n",
            " 5   hora_entera         235931 non-null  int64         \n",
            " 6   transacciones       235931 non-null  int64         \n",
            " 7   unidades            235931 non-null  float64       \n",
            " 8   categoria           235931 non-null  object        \n",
            " 9   marca               235931 non-null  object        \n",
            " 10  anio_entero         235931 non-null  int64         \n",
            " 11  mes_entero          235931 non-null  int64         \n",
            " 12  dia_entero          235931 non-null  int64         \n",
            " 13  mes_string          235931 non-null  object        \n",
            " 14  semana              235931 non-null  int64         \n",
            " 15  accesorios          235931 non-null  uint8         \n",
            " 16  comida              235931 non-null  uint8         \n",
            " 17  cuidado personal    235931 non-null  uint8         \n",
            " 18  golosinas           235931 non-null  uint8         \n",
            " 19  juegos y juguetes   235931 non-null  uint8         \n",
            " 20  libros              235931 non-null  uint8         \n",
            " 21  lujo                235931 non-null  uint8         \n",
            " 22  miscelanea          235931 non-null  uint8         \n",
            " 23  perfumería          235931 non-null  uint8         \n",
            " 24  souvenirs           235931 non-null  uint8         \n",
            " 25  tecnologia          235931 non-null  uint8         \n",
            " 26  textiles de regalo  235931 non-null  uint8         \n",
            " 27  vicios              235931 non-null  uint8         \n",
            "dtypes: datetime64[ns](1), float64(2), int64(6), object(6), uint8(13)\n",
            "memory usage: 31.7+ MB\n"
          ]
        }
      ],
      "source": [
        "marca3=pd.concat([marca3,marca3_dummies_cat],axis=1)\n",
        "marca3.info()"
      ]
    },
    {
      "cell_type": "code",
      "execution_count": 35,
      "id": "da0c1324-1c67-4adb-80cf-1710f36757a4",
      "metadata": {
        "id": "da0c1324-1c67-4adb-80cf-1710f36757a4"
      },
      "outputs": [],
      "source": [
        "cols_groupby=['tienda','anio_entero','mes_entero','dia_entero','hora_entera']\n",
        "cols_merge=['tienda','anio_entero','mes_entero','dia_entero','hora_entera','semana','tipo_de_tienda','fecha_de_venta','marca','mes_string']"
      ]
    },
    {
      "cell_type": "code",
      "execution_count": 36,
      "id": "8cda7c52-3e14-48c5-bd2b-3dcd5376d7fe",
      "metadata": {
        "colab": {
          "base_uri": "https://localhost:8080/"
        },
        "id": "8cda7c52-3e14-48c5-bd2b-3dcd5376d7fe",
        "outputId": "ad5aed87-2331-4b8e-84ce-8689963d0e11"
      },
      "outputs": [
        {
          "name": "stdout",
          "output_type": "stream",
          "text": [
            "<class 'pandas.core.frame.DataFrame'>\n",
            "Int64Index: 79358 entries, 0 to 79357\n",
            "Data columns (total 26 columns):\n",
            " #   Column              Non-Null Count  Dtype         \n",
            "---  ------              --------------  -----         \n",
            " 0   tienda              79358 non-null  object        \n",
            " 1   anio_entero         79358 non-null  int64         \n",
            " 2   mes_entero          79358 non-null  int64         \n",
            " 3   dia_entero          79358 non-null  int64         \n",
            " 4   hora_entera         79358 non-null  int64         \n",
            " 5   ventas              79358 non-null  float64       \n",
            " 6   transacciones       79358 non-null  int64         \n",
            " 7   unidades            79358 non-null  float64       \n",
            " 8   accesorios          79358 non-null  uint8         \n",
            " 9   comida              79358 non-null  uint8         \n",
            " 10  cuidado personal    79358 non-null  uint8         \n",
            " 11  golosinas           79358 non-null  uint8         \n",
            " 12  juegos y juguetes   79358 non-null  uint8         \n",
            " 13  libros              79358 non-null  uint8         \n",
            " 14  lujo                79358 non-null  uint8         \n",
            " 15  miscelanea          79358 non-null  uint8         \n",
            " 16  perfumería          79358 non-null  uint8         \n",
            " 17  souvenirs           79358 non-null  uint8         \n",
            " 18  tecnologia          79358 non-null  uint8         \n",
            " 19  textiles de regalo  79358 non-null  uint8         \n",
            " 20  vicios              79358 non-null  uint8         \n",
            " 21  semana              79358 non-null  int64         \n",
            " 22  tipo_de_tienda      79358 non-null  object        \n",
            " 23  fecha_de_venta      79358 non-null  datetime64[ns]\n",
            " 24  marca               79358 non-null  object        \n",
            " 25  mes_string          79358 non-null  object        \n",
            "dtypes: datetime64[ns](1), float64(2), int64(6), object(4), uint8(13)\n",
            "memory usage: 9.5+ MB\n"
          ]
        }
      ],
      "source": [
        "marca3_conglomerado=marca3.groupby(by=cols_groupby).sum().drop(columns=['semana']).reset_index().merge(marca3.drop_duplicates(subset=cols_groupby)[cols_merge],on=cols_groupby,how=\"left\").copy()\n",
        "marca3_conglomerado.info()"
      ]
    },
    {
      "cell_type": "code",
      "execution_count": 37,
      "id": "e94942e8-da05-4791-84f1-f2e38f575156",
      "metadata": {
        "colab": {
          "base_uri": "https://localhost:8080/",
          "height": 377
        },
        "id": "e94942e8-da05-4791-84f1-f2e38f575156",
        "outputId": "fe202241-eac8-4309-875e-40769819a569"
      },
      "outputs": [
        {
          "data": {
            "text/html": [
              "<div>\n",
              "<style scoped>\n",
              "    .dataframe tbody tr th:only-of-type {\n",
              "        vertical-align: middle;\n",
              "    }\n",
              "\n",
              "    .dataframe tbody tr th {\n",
              "        vertical-align: top;\n",
              "    }\n",
              "\n",
              "    .dataframe thead th {\n",
              "        text-align: right;\n",
              "    }\n",
              "</style>\n",
              "<table border=\"1\" class=\"dataframe\">\n",
              "  <thead>\n",
              "    <tr style=\"text-align: right;\">\n",
              "      <th></th>\n",
              "      <th>tienda</th>\n",
              "      <th>anio_entero</th>\n",
              "      <th>mes_entero</th>\n",
              "      <th>dia_entero</th>\n",
              "      <th>hora_entera</th>\n",
              "      <th>ventas</th>\n",
              "      <th>transacciones</th>\n",
              "      <th>unidades</th>\n",
              "      <th>accesorios</th>\n",
              "      <th>comida</th>\n",
              "      <th>...</th>\n",
              "      <th>perfumería</th>\n",
              "      <th>souvenirs</th>\n",
              "      <th>tecnologia</th>\n",
              "      <th>textiles de regalo</th>\n",
              "      <th>vicios</th>\n",
              "      <th>semana</th>\n",
              "      <th>tipo_de_tienda</th>\n",
              "      <th>fecha_de_venta</th>\n",
              "      <th>marca</th>\n",
              "      <th>mes_string</th>\n",
              "    </tr>\n",
              "  </thead>\n",
              "  <tbody>\n",
              "    <tr>\n",
              "      <th>0</th>\n",
              "      <td>Tienda 1</td>\n",
              "      <td>2022</td>\n",
              "      <td>1</td>\n",
              "      <td>1</td>\n",
              "      <td>6</td>\n",
              "      <td>157818326.0</td>\n",
              "      <td>34</td>\n",
              "      <td>61.0</td>\n",
              "      <td>0</td>\n",
              "      <td>0</td>\n",
              "      <td>...</td>\n",
              "      <td>1</td>\n",
              "      <td>1</td>\n",
              "      <td>1</td>\n",
              "      <td>0</td>\n",
              "      <td>1</td>\n",
              "      <td>52</td>\n",
              "      <td>DUTY FREE</td>\n",
              "      <td>2022-01-01</td>\n",
              "      <td>marca3</td>\n",
              "      <td>enero</td>\n",
              "    </tr>\n",
              "    <tr>\n",
              "      <th>1</th>\n",
              "      <td>Tienda 1</td>\n",
              "      <td>2022</td>\n",
              "      <td>1</td>\n",
              "      <td>1</td>\n",
              "      <td>7</td>\n",
              "      <td>120266134.6</td>\n",
              "      <td>26</td>\n",
              "      <td>41.0</td>\n",
              "      <td>0</td>\n",
              "      <td>1</td>\n",
              "      <td>...</td>\n",
              "      <td>1</td>\n",
              "      <td>1</td>\n",
              "      <td>1</td>\n",
              "      <td>0</td>\n",
              "      <td>1</td>\n",
              "      <td>52</td>\n",
              "      <td>DUTY FREE</td>\n",
              "      <td>2022-01-01</td>\n",
              "      <td>marca3</td>\n",
              "      <td>enero</td>\n",
              "    </tr>\n",
              "    <tr>\n",
              "      <th>2</th>\n",
              "      <td>Tienda 1</td>\n",
              "      <td>2022</td>\n",
              "      <td>1</td>\n",
              "      <td>1</td>\n",
              "      <td>8</td>\n",
              "      <td>18215139.6</td>\n",
              "      <td>8</td>\n",
              "      <td>22.0</td>\n",
              "      <td>0</td>\n",
              "      <td>0</td>\n",
              "      <td>...</td>\n",
              "      <td>0</td>\n",
              "      <td>1</td>\n",
              "      <td>1</td>\n",
              "      <td>0</td>\n",
              "      <td>1</td>\n",
              "      <td>52</td>\n",
              "      <td>DUTY FREE</td>\n",
              "      <td>2022-01-01</td>\n",
              "      <td>marca3</td>\n",
              "      <td>enero</td>\n",
              "    </tr>\n",
              "    <tr>\n",
              "      <th>3</th>\n",
              "      <td>Tienda 1</td>\n",
              "      <td>2022</td>\n",
              "      <td>1</td>\n",
              "      <td>1</td>\n",
              "      <td>9</td>\n",
              "      <td>24501991.4</td>\n",
              "      <td>8</td>\n",
              "      <td>16.0</td>\n",
              "      <td>0</td>\n",
              "      <td>0</td>\n",
              "      <td>...</td>\n",
              "      <td>1</td>\n",
              "      <td>0</td>\n",
              "      <td>1</td>\n",
              "      <td>0</td>\n",
              "      <td>1</td>\n",
              "      <td>52</td>\n",
              "      <td>DUTY FREE</td>\n",
              "      <td>2022-01-01</td>\n",
              "      <td>marca3</td>\n",
              "      <td>enero</td>\n",
              "    </tr>\n",
              "    <tr>\n",
              "      <th>4</th>\n",
              "      <td>Tienda 1</td>\n",
              "      <td>2022</td>\n",
              "      <td>1</td>\n",
              "      <td>1</td>\n",
              "      <td>10</td>\n",
              "      <td>123980078.8</td>\n",
              "      <td>23</td>\n",
              "      <td>56.0</td>\n",
              "      <td>0</td>\n",
              "      <td>0</td>\n",
              "      <td>...</td>\n",
              "      <td>1</td>\n",
              "      <td>1</td>\n",
              "      <td>1</td>\n",
              "      <td>1</td>\n",
              "      <td>1</td>\n",
              "      <td>52</td>\n",
              "      <td>DUTY FREE</td>\n",
              "      <td>2022-01-01</td>\n",
              "      <td>marca3</td>\n",
              "      <td>enero</td>\n",
              "    </tr>\n",
              "  </tbody>\n",
              "</table>\n",
              "<p>5 rows × 26 columns</p>\n",
              "</div>"
            ],
            "text/plain": [
              "     tienda  anio_entero  mes_entero  dia_entero  hora_entera       ventas  \\\n",
              "0  Tienda 1         2022           1           1            6  157818326.0   \n",
              "1  Tienda 1         2022           1           1            7  120266134.6   \n",
              "2  Tienda 1         2022           1           1            8   18215139.6   \n",
              "3  Tienda 1         2022           1           1            9   24501991.4   \n",
              "4  Tienda 1         2022           1           1           10  123980078.8   \n",
              "\n",
              "   transacciones  unidades  accesorios  comida  ...  perfumería  souvenirs  \\\n",
              "0             34      61.0           0       0  ...           1          1   \n",
              "1             26      41.0           0       1  ...           1          1   \n",
              "2              8      22.0           0       0  ...           0          1   \n",
              "3              8      16.0           0       0  ...           1          0   \n",
              "4             23      56.0           0       0  ...           1          1   \n",
              "\n",
              "   tecnologia  textiles de regalo  vicios  semana  tipo_de_tienda  \\\n",
              "0           1                   0       1      52       DUTY FREE   \n",
              "1           1                   0       1      52       DUTY FREE   \n",
              "2           1                   0       1      52       DUTY FREE   \n",
              "3           1                   0       1      52       DUTY FREE   \n",
              "4           1                   1       1      52       DUTY FREE   \n",
              "\n",
              "   fecha_de_venta   marca  mes_string  \n",
              "0      2022-01-01  marca3       enero  \n",
              "1      2022-01-01  marca3       enero  \n",
              "2      2022-01-01  marca3       enero  \n",
              "3      2022-01-01  marca3       enero  \n",
              "4      2022-01-01  marca3       enero  \n",
              "\n",
              "[5 rows x 26 columns]"
            ]
          },
          "execution_count": 37,
          "metadata": {},
          "output_type": "execute_result"
        }
      ],
      "source": [
        "marca3_conglomerado.head()"
      ]
    },
    {
      "cell_type": "code",
      "execution_count": 38,
      "id": "f3a9eead-7c4b-413c-a817-d343ea3221d4",
      "metadata": {
        "colab": {
          "base_uri": "https://localhost:8080/"
        },
        "id": "f3a9eead-7c4b-413c-a817-d343ea3221d4",
        "outputId": "53a91d6b-4d6a-4106-a33f-28cac08826ed"
      },
      "outputs": [
        {
          "name": "stdout",
          "output_type": "stream",
          "text": [
            "<class 'pandas.core.frame.DataFrame'>\n",
            "RangeIndex: 10972 entries, 0 to 10971\n",
            "Data columns (total 16 columns):\n",
            " #   Column          Non-Null Count  Dtype         \n",
            "---  ------          --------------  -----         \n",
            " 0   fecha_de_venta  10972 non-null  datetime64[ns]\n",
            " 1   hora_entera     10972 non-null  int64         \n",
            " 2   ventas          10972 non-null  int64         \n",
            " 3   transacciones   10972 non-null  int64         \n",
            " 4   unidades        10972 non-null  int64         \n",
            " 5   descripcion     10961 non-null  object        \n",
            " 6   destino         10918 non-null  object        \n",
            " 7   aerolinea       10909 non-null  object        \n",
            " 8   muelle          10972 non-null  object        \n",
            " 9   marca           10972 non-null  object        \n",
            " 10  anio_entero     10972 non-null  int64         \n",
            " 11  mes_entero      10972 non-null  int64         \n",
            " 12  dia_entero      10972 non-null  int64         \n",
            " 13  mes_string      10972 non-null  object        \n",
            " 14  semana          10972 non-null  int64         \n",
            " 15  tienda          10972 non-null  object        \n",
            "dtypes: datetime64[ns](1), int64(8), object(7)\n",
            "memory usage: 1.3+ MB\n"
          ]
        }
      ],
      "source": [
        "marca5=archivo_marca2_10['Marca 5'].copy()\n",
        "marca5=marca5.rename(columns={'Fecha':'fecha_de_venta','Ventas':'ventas','Hora entera':'hora_entera','Transacciones':'transacciones','Unidades':'unidades','Muelle':'muelle','DESTINO ':'destino','AEROLINEA':'aerolinea','Descripción del producto':'descripcion'})\n",
        "marca5['marca'] = 'marca5'\n",
        "marca5['anio_entero'] = marca5['fecha_de_venta'].apply(sacar_anio)\n",
        "marca5['mes_entero'] = marca5['fecha_de_venta'].apply(sacar_mes)\n",
        "marca5['dia_entero'] = marca5['fecha_de_venta'].apply(sacar_dia)\n",
        "marca5['mes_string'] = marca5['fecha_de_venta'].dt.strftime('%B')\n",
        "marca5['semana'] = marca5['fecha_de_venta'].dt.week\n",
        "marca5['tienda'] = 'marca 5'\n",
        "marca5['descripcion'] = marca5['descripcion'].str.lower()\n",
        "marca5.info()"
      ]
    },
    {
      "cell_type": "code",
      "execution_count": 39,
      "id": "1a0c09f6-88d0-4c1b-97c3-553846ea4380",
      "metadata": {
        "id": "1a0c09f6-88d0-4c1b-97c3-553846ea4380"
      },
      "outputs": [],
      "source": [
        "categorias=['almohada','billetera','bolso','bolso de viaje','cafe','chaqueta','cosmetiquero','zapato','media','accesorio','morral','mocasin','gorra beisbolera','gafa','sandalia','gorra','tarjetero','ruana','pañoleta','camiseta','tacon','aguadeño','aerpos',\n",
        "           'tapaboca','libro','baul','cinturon','correa','capa','cambio','canguro','carriel','casa hogar','cardigan','cartuchera','estuche','chal','maleta','maleta de viaje','suspiro','fragancia','manos libres','llavero','descripcion','alimento','oficina',\n",
        "           'brazelete','monedero','neceser','obsequio','sombrero','prenda','papelera','esmeralda','joya','tarjetero','tula herencia','tejido','riñonera','shoulder','botella','hebilla','tira','faja de seguridad','calzado','cruzado','portadocumentos','porta pasaporte','porta pc',\n",
        "           'marroquineria','limpiador','linea ejecutiva','linea de viaje','pulsera','lederter band','escritorio']"
      ]
    },
    {
      "cell_type": "code",
      "execution_count": 40,
      "id": "14841872-a4ee-46b8-b0a8-f06cf8b901c6",
      "metadata": {
        "id": "14841872-a4ee-46b8-b0a8-f06cf8b901c6"
      },
      "outputs": [],
      "source": [
        "# se pueden primero normalizar los nombres de cada cosa aunque este separada , pero además si es más de un objeto se pueden separar por columnas y luego sumar esas columnas dummies generadas que sean iguales y ahí si quedar con unas\n",
        "# columnas dummies bien generadas y limpías sin tantas categorías."
      ]
    },
    {
      "cell_type": "code",
      "execution_count": 41,
      "id": "785bbda4-d411-411f-82ce-8a9c6badc08f",
      "metadata": {
        "id": "785bbda4-d411-411f-82ce-8a9c6badc08f"
      },
      "outputs": [],
      "source": [
        "marca5['descripcion']=marca5['descripcion'].str.replace(\"-\",'+')\n",
        "marca5['descripcion']=marca5['descripcion'].str.replace(\",\",'+')\n",
        "marca5['descripcion']=marca5['descripcion'].str.replace(\"y\",'+')\n",
        "marca5['descripcion']=marca5['descripcion'].str.strip()"
      ]
    },
    {
      "cell_type": "code",
      "execution_count": 42,
      "id": "109cf557-1737-4933-83be-a910f65bdab4",
      "metadata": {
        "id": "109cf557-1737-4933-83be-a910f65bdab4"
      },
      "outputs": [],
      "source": [
        "list_objetos=[[],[],[],[],[]]\n",
        "for descripcion in marca5['descripcion']:\n",
        "    if isinstance(descripcion,float):\n",
        "        list_objetos[0].append(\"\")\n",
        "        list_objetos[1].append(\"\")\n",
        "        list_objetos[2].append(\"\")\n",
        "        list_objetos[3].append(\"\")\n",
        "        list_objetos[4].append(\"\")\n",
        "        continue\n",
        "    descripcion_list=descripcion.split(\"+\")\n",
        "    cont=0\n",
        "    for descripcion_unica in descripcion_list:\n",
        "        lista_valores=[]\n",
        "        for categoria in categorias:\n",
        "            lista_valores.append(SequenceMatcher(None, descripcion_unica, categoria).ratio())\n",
        "        valor_max=max(lista_valores)\n",
        "        posicion_lista=lista_valores.index(valor_max)\n",
        "        list_objetos[cont].append(categorias[posicion_lista])\n",
        "        cont= cont+1\n",
        "    if len(descripcion_list)==0:\n",
        "        list_objetos[0].append(\"\")\n",
        "        list_objetos[1].append(\"\")\n",
        "        list_objetos[2].append(\"\")\n",
        "        list_objetos[3].append(\"\")\n",
        "        list_objetos[4].append(\"\")\n",
        "    elif len(descripcion_list)==1:\n",
        "        list_objetos[1].append(\"\")\n",
        "        list_objetos[2].append(\"\")\n",
        "        list_objetos[3].append(\"\")\n",
        "        list_objetos[4].append(\"\")\n",
        "    elif len(descripcion_list)==2:\n",
        "        list_objetos[2].append(\"\")\n",
        "        list_objetos[3].append(\"\")\n",
        "        list_objetos[4].append(\"\")\n",
        "    elif len(descripcion_list)==3:\n",
        "        list_objetos[3].append(\"\")\n",
        "        list_objetos[4].append(\"\")\n",
        "    elif len(descripcion_list)==4:\n",
        "        list_objetos[4].append(\"\")\n",
        "\n"
      ]
    },
    {
      "cell_type": "code",
      "execution_count": 43,
      "id": "8689b5f5-8dc0-4882-b710-12cb8a7fa113",
      "metadata": {
        "colab": {
          "base_uri": "https://localhost:8080/"
        },
        "id": "8689b5f5-8dc0-4882-b710-12cb8a7fa113",
        "outputId": "2e832299-067e-436d-9752-9d807693e4fb"
      },
      "outputs": [
        {
          "data": {
            "text/plain": [
              "10972"
            ]
          },
          "execution_count": 43,
          "metadata": {},
          "output_type": "execute_result"
        }
      ],
      "source": [
        "len(list_objetos[0])"
      ]
    },
    {
      "cell_type": "code",
      "execution_count": 44,
      "id": "a522a0e9-f010-4b66-85c8-e3842e181d6c",
      "metadata": {
        "id": "a522a0e9-f010-4b66-85c8-e3842e181d6c"
      },
      "outputs": [],
      "source": [
        "marca5['objeto1']=list_objetos[0]\n",
        "marca5['objeto2']=list_objetos[1]\n",
        "marca5['objeto3']=list_objetos[2]\n",
        "marca5['objeto4']=list_objetos[3]\n",
        "marca5['objeto5']=list_objetos[4]"
      ]
    },
    {
      "cell_type": "code",
      "execution_count": 45,
      "id": "2b6d2d26",
      "metadata": {
        "colab": {
          "base_uri": "https://localhost:8080/"
        },
        "id": "2b6d2d26",
        "outputId": "ec13c2e1-d9e4-42d4-d373-381409baa7a6"
      },
      "outputs": [
        {
          "data": {
            "text/plain": [
              "array(['maleta', 'cruzado', 'cafe', 'morral', 'almohada', 'billetera',\n",
              "       'limpiador', 'portadocumentos', 'ruana', 'manos libres', 'bolso',\n",
              "       'chaqueta', 'canguro', 'tapaboca', 'tacon', 'shoulder', 'mocasin',\n",
              "       'aguadeño', 'cosmetiquero', 'carriel', 'pañoleta', 'accesorio',\n",
              "       'maleta de viaje', 'cinturon', 'sandalia', 'gafa', 'fragancia',\n",
              "       'bolso de viaje', 'calzado', 'camiseta', 'media', 'tarjetero',\n",
              "       'estuche', 'capa', 'cartuchera', 'joya', 'sombrero', 'zapato',\n",
              "       'libro', 'monedero', 'neceser', 'botella', 'gorra', 'porta pc',\n",
              "       'gorra beisbolera', 'cardigan', 'tula herencia', 'riñonera',\n",
              "       'faja de seguridad', 'tejido', 'porta pasaporte', 'cambio',\n",
              "       'hebilla', '', 'lederter band', 'baul', 'llavero', 'correa',\n",
              "       'brazelete', 'pulsera', 'chal', 'esmeralda', 'papelera', 'aerpos',\n",
              "       'marroquineria', 'prenda', 'linea de viaje', 'casa hogar',\n",
              "       'linea ejecutiva', 'alimento', 'oficina', 'descripcion', 'suspiro',\n",
              "       'tira', 'obsequio', 'escritorio'], dtype=object)"
            ]
          },
          "execution_count": 45,
          "metadata": {},
          "output_type": "execute_result"
        }
      ],
      "source": [
        "lista_objetos_totales = list(marca5['objeto1'].unique()) +list(marca5['objeto2'].unique()) + list(marca5['objeto3'].unique()) + list(marca5['objeto4'].unique()) + list(marca5['objeto5'].unique())\n",
        "lista_objetos_totales = pd.Series(lista_objetos_totales).unique()\n",
        "lista_objetos_totales"
      ]
    },
    {
      "cell_type": "code",
      "execution_count": 46,
      "id": "d1cf4cc8-d0ea-45a2-af9e-f08bf228f898",
      "metadata": {
        "id": "d1cf4cc8-d0ea-45a2-af9e-f08bf228f898"
      },
      "outputs": [],
      "source": [
        "# Falta generar dummies de cada fila de objeto , sumarlas, y dejar las columnas restantes como las dummies de la marca 5.\n",
        "#Generate dummies\n",
        "dummies_obj1=pd.get_dummies(marca5['objeto1'])\n",
        "for columna in dummies_obj1.columns:\n",
        "    dummies_obj1.rename(columns={columna:columna+\"_obj1\"},inplace=True)\n",
        "dummies_obj2=pd.get_dummies(marca5['objeto2'])\n",
        "for columna in dummies_obj2.columns:\n",
        "    dummies_obj2.rename(columns={columna:columna+\"_obj2\"},inplace=True)\n",
        "dummies_obj3=pd.get_dummies(marca5['objeto3'])\n",
        "for columna in dummies_obj3.columns:\n",
        "    dummies_obj3.rename(columns={columna:columna+\"_obj3\"},inplace=True)\n",
        "dummies_obj4=pd.get_dummies(marca5['objeto4'])\n",
        "for columna in dummies_obj4.columns:\n",
        "    dummies_obj4.rename(columns={columna:columna+\"_obj4\"},inplace=True)\n",
        "dummies_obj5=pd.get_dummies(marca5['objeto5'])\n",
        "for columna in dummies_obj5.columns:\n",
        "    dummies_obj5.rename(columns={columna:columna+\"_obj5\"},inplace=True)"
      ]
    },
    {
      "cell_type": "code",
      "execution_count": 47,
      "id": "72f1b6aa",
      "metadata": {
        "colab": {
          "base_uri": "https://localhost:8080/"
        },
        "id": "72f1b6aa",
        "outputId": "8edbbc79-e053-4aa5-d058-585420c71954"
      },
      "outputs": [
        {
          "data": {
            "text/plain": [
              "(10972, 72)"
            ]
          },
          "execution_count": 47,
          "metadata": {},
          "output_type": "execute_result"
        }
      ],
      "source": [
        "dummies_obj1.shape"
      ]
    },
    {
      "cell_type": "code",
      "execution_count": 48,
      "id": "75873555",
      "metadata": {
        "colab": {
          "base_uri": "https://localhost:8080/"
        },
        "id": "75873555",
        "outputId": "80b4c982-6536-4f64-8608-8919ac8b332a"
      },
      "outputs": [
        {
          "data": {
            "text/plain": [
              "(10972, 38)"
            ]
          },
          "execution_count": 48,
          "metadata": {},
          "output_type": "execute_result"
        }
      ],
      "source": [
        "dummies_obj2.shape"
      ]
    },
    {
      "cell_type": "code",
      "execution_count": 49,
      "id": "16070c0f",
      "metadata": {
        "colab": {
          "base_uri": "https://localhost:8080/"
        },
        "id": "16070c0f",
        "outputId": "cacfc55e-86c5-4451-f501-81890dd7928b"
      },
      "outputs": [
        {
          "data": {
            "text/plain": [
              "(10972, 17)"
            ]
          },
          "execution_count": 49,
          "metadata": {},
          "output_type": "execute_result"
        }
      ],
      "source": [
        "dummies_obj3.shape"
      ]
    },
    {
      "cell_type": "code",
      "execution_count": 50,
      "id": "0fd067a4",
      "metadata": {
        "colab": {
          "base_uri": "https://localhost:8080/"
        },
        "id": "0fd067a4",
        "outputId": "0465fd30-3608-4083-a635-f18d39deee26"
      },
      "outputs": [
        {
          "data": {
            "text/plain": [
              "(10972, 3)"
            ]
          },
          "execution_count": 50,
          "metadata": {},
          "output_type": "execute_result"
        }
      ],
      "source": [
        "dummies_obj4.shape"
      ]
    },
    {
      "cell_type": "code",
      "execution_count": 51,
      "id": "fdfe25c7",
      "metadata": {
        "colab": {
          "base_uri": "https://localhost:8080/"
        },
        "id": "fdfe25c7",
        "outputId": "335c2273-560e-4e48-a98e-b894bd6853ed"
      },
      "outputs": [
        {
          "data": {
            "text/plain": [
              "(10972, 3)"
            ]
          },
          "execution_count": 51,
          "metadata": {},
          "output_type": "execute_result"
        }
      ],
      "source": [
        "dummies_obj5.shape"
      ]
    },
    {
      "cell_type": "code",
      "execution_count": 52,
      "id": "7a3cd29c",
      "metadata": {
        "colab": {
          "base_uri": "https://localhost:8080/"
        },
        "id": "7a3cd29c",
        "outputId": "df2d6174-8fd9-44b0-9de7-ad85025e91ae"
      },
      "outputs": [
        {
          "name": "stdout",
          "output_type": "stream",
          "text": [
            "<class 'pandas.core.frame.DataFrame'>\n",
            "Int64Index: 54860 entries, 0 to 10971\n",
            "Columns: 133 entries, _obj1 to obsequio_obj5\n",
            "dtypes: float64(133)\n",
            "memory usage: 56.1 MB\n"
          ]
        }
      ],
      "source": [
        "dummies_todos_obj=pd.concat([dummies_obj1,dummies_obj2,dummies_obj3,dummies_obj4,dummies_obj5]).info()"
      ]
    },
    {
      "cell_type": "code",
      "execution_count": 53,
      "id": "80ba9f9b",
      "metadata": {
        "id": "80ba9f9b"
      },
      "outputs": [],
      "source": [
        "# for objeto in lista_objetos_totales:\n",
        "#     try:\n",
        "#         marca5[objeto]= dummies_obj1[objeto+\"_obj1\"] + dummies_obj2[objeto+\"_obj2\"] + dummies_obj3[objeto+\"_obj3\"] + dummies_obj4[objeto+\"_obj4\"] + dummies_obj5[objeto+\"_obj5\"]\n",
        "#     except:\n",
        "#         try:\n",
        "#             marca5[objeto]= dummies_obj1[objeto+\"_obj1\"] + dummies_obj2[objeto+\"_obj2\"] + dummies_obj3[objeto+\"_obj3\"] + dummies_obj4[objeto+\"_obj4\"]\n",
        "#         except:\n",
        "#             try:\n",
        "#                 marca5[objeto]= dummies_obj1[objeto+\"_obj1\"] + dummies_obj2[objeto+\"_obj2\"] + dummies_obj3[objeto+\"_obj3\"]\n",
        "#             except:\n",
        "#                 try:\n",
        "#                     marca5[objeto]= dummies_obj1[objeto+\"_obj1\"] + dummies_obj2[objeto+\"_obj2\"]\n",
        "#                 except:\n",
        "#                     try:\n",
        "#                         marca5[objeto]= dummies_obj1[objeto+\"_obj1\"]\n",
        "#                     except:\n",
        "#                         marca5[objeto]= 0"
      ]
    },
    {
      "cell_type": "code",
      "execution_count": 54,
      "id": "af882ea0",
      "metadata": {
        "id": "af882ea0"
      },
      "outputs": [],
      "source": [
        "for objeto in lista_objetos_totales:\n",
        "    sum_value = 0\n",
        "    for i, dummy in enumerate([dummies_obj1, dummies_obj2, dummies_obj3, dummies_obj4, dummies_obj5], 1):\n",
        "        key = \"{}_obj{}\".format(objeto, i) # Te quiero mucho python format\n",
        "        sum_value += dummy.get(key, 0) # Obtengo el valor de la llave, si no existe, devuelvo 0\n",
        "    marca5[objeto] = sum_value"
      ]
    },
    {
      "cell_type": "code",
      "execution_count": 55,
      "id": "b67f143b",
      "metadata": {
        "id": "b67f143b"
      },
      "outputs": [],
      "source": [
        "# marca5.to_excel(\"marca5_ejemplo.xlsx\")"
      ]
    },
    {
      "cell_type": "code",
      "execution_count": 56,
      "id": "5a5b799e-76b9-48a0-b842-fc6e6f7835ee",
      "metadata": {
        "id": "5a5b799e-76b9-48a0-b842-fc6e6f7835ee"
      },
      "outputs": [],
      "source": [
        "# marca5.sort_values(by=\"descripcion\")['descripcion'].unique()"
      ]
    },
    {
      "cell_type": "code",
      "execution_count": 57,
      "id": "eb4f140b-1db0-4c89-bb4f-a293b02acb4f",
      "metadata": {
        "id": "eb4f140b-1db0-4c89-bb4f-a293b02acb4f"
      },
      "outputs": [],
      "source": [
        "# marca5.drop_duplicates(subset=['descripcion'])[['descripcion','objeto1','objeto2','objeto3','objeto4','objeto5']].to_excel(\"ejemplo_cat_marca5.xlsx\")"
      ]
    },
    {
      "cell_type": "code",
      "execution_count": 58,
      "id": "44747680-e699-4882-803b-c2a7f7f7d048",
      "metadata": {
        "id": "44747680-e699-4882-803b-c2a7f7f7d048"
      },
      "outputs": [],
      "source": [
        "# Falta generar"
      ]
    },
    {
      "cell_type": "code",
      "execution_count": 59,
      "id": "292b37c1-5caa-4f52-b4dc-f411c479c488",
      "metadata": {
        "colab": {
          "base_uri": "https://localhost:8080/"
        },
        "id": "292b37c1-5caa-4f52-b4dc-f411c479c488",
        "outputId": "2754bea4-8959-4df2-fd13-2165febbae06"
      },
      "outputs": [
        {
          "name": "stdout",
          "output_type": "stream",
          "text": [
            "<class 'pandas.core.frame.DataFrame'>\n",
            "RangeIndex: 10972 entries, 0 to 10971\n",
            "Data columns (total 94 columns):\n",
            " #   Column             Non-Null Count  Dtype         \n",
            "---  ------             --------------  -----         \n",
            " 0   fecha_de_venta     10972 non-null  datetime64[ns]\n",
            " 1   hora_entera        10972 non-null  int64         \n",
            " 2   ventas             10972 non-null  int64         \n",
            " 3   transacciones      10972 non-null  int64         \n",
            " 4   unidades           10972 non-null  int64         \n",
            " 5   descripcion        10972 non-null  uint8         \n",
            " 6   muelle             10972 non-null  object        \n",
            " 7   marca              10972 non-null  object        \n",
            " 8   anio_entero        10972 non-null  int64         \n",
            " 9   mes_entero         10972 non-null  int64         \n",
            " 10  dia_entero         10972 non-null  int64         \n",
            " 11  mes_string         10972 non-null  object        \n",
            " 12  semana             10972 non-null  int64         \n",
            " 13  tienda             10972 non-null  object        \n",
            " 14  objeto1            10972 non-null  object        \n",
            " 15  objeto2            10972 non-null  object        \n",
            " 16  objeto3            10972 non-null  object        \n",
            " 17  objeto4            10972 non-null  object        \n",
            " 18  objeto5            10972 non-null  object        \n",
            " 19  maleta             10972 non-null  uint8         \n",
            " 20  cruzado            10972 non-null  uint8         \n",
            " 21  cafe               10972 non-null  uint8         \n",
            " 22  morral             10972 non-null  uint8         \n",
            " 23  almohada           10972 non-null  uint8         \n",
            " 24  billetera          10972 non-null  uint8         \n",
            " 25  limpiador          10972 non-null  uint8         \n",
            " 26  portadocumentos    10972 non-null  uint8         \n",
            " 27  ruana              10972 non-null  uint8         \n",
            " 28  manos libres       10972 non-null  uint8         \n",
            " 29  bolso              10972 non-null  uint8         \n",
            " 30  chaqueta           10972 non-null  uint8         \n",
            " 31  canguro            10972 non-null  uint8         \n",
            " 32  tapaboca           10972 non-null  uint8         \n",
            " 33  tacon              10972 non-null  uint8         \n",
            " 34  shoulder           10972 non-null  uint8         \n",
            " 35  mocasin            10972 non-null  uint8         \n",
            " 36  aguadeño           10972 non-null  uint8         \n",
            " 37  cosmetiquero       10972 non-null  uint8         \n",
            " 38  carriel            10972 non-null  uint8         \n",
            " 39  pañoleta           10972 non-null  uint8         \n",
            " 40  accesorio          10972 non-null  uint8         \n",
            " 41  maleta de viaje    10972 non-null  uint8         \n",
            " 42  cinturon           10972 non-null  uint8         \n",
            " 43  sandalia           10972 non-null  uint8         \n",
            " 44  gafa               10972 non-null  uint8         \n",
            " 45  fragancia          10972 non-null  uint8         \n",
            " 46  bolso de viaje     10972 non-null  uint8         \n",
            " 47  calzado            10972 non-null  uint8         \n",
            " 48  camiseta           10972 non-null  uint8         \n",
            " 49  media              10972 non-null  uint8         \n",
            " 50  tarjetero          10972 non-null  uint8         \n",
            " 51  estuche            10972 non-null  uint8         \n",
            " 52  capa               10972 non-null  uint8         \n",
            " 53  cartuchera         10972 non-null  uint8         \n",
            " 54  joya               10972 non-null  uint8         \n",
            " 55  sombrero           10972 non-null  uint8         \n",
            " 56  zapato             10972 non-null  uint8         \n",
            " 57  libro              10972 non-null  uint8         \n",
            " 58  monedero           10972 non-null  uint8         \n",
            " 59  neceser            10972 non-null  uint8         \n",
            " 60  botella            10972 non-null  uint8         \n",
            " 61  gorra              10972 non-null  uint8         \n",
            " 62  porta pc           10972 non-null  uint8         \n",
            " 63  gorra beisbolera   10972 non-null  uint8         \n",
            " 64  cardigan           10972 non-null  uint8         \n",
            " 65  tula herencia      10972 non-null  uint8         \n",
            " 66  riñonera           10972 non-null  uint8         \n",
            " 67  faja de seguridad  10972 non-null  uint8         \n",
            " 68  tejido             10972 non-null  uint8         \n",
            " 69  porta pasaporte    10972 non-null  uint8         \n",
            " 70  cambio             10972 non-null  uint8         \n",
            " 71  hebilla            10972 non-null  uint8         \n",
            " 72                     10972 non-null  uint8         \n",
            " 73  lederter band      10972 non-null  uint8         \n",
            " 74  baul               10972 non-null  uint8         \n",
            " 75  llavero            10972 non-null  uint8         \n",
            " 76  correa             10972 non-null  uint8         \n",
            " 77  brazelete          10972 non-null  uint8         \n",
            " 78  pulsera            10972 non-null  uint8         \n",
            " 79  chal               10972 non-null  uint8         \n",
            " 80  esmeralda          10972 non-null  uint8         \n",
            " 81  papelera           10972 non-null  uint8         \n",
            " 82  aerpos             10972 non-null  uint8         \n",
            " 83  marroquineria      10972 non-null  uint8         \n",
            " 84  prenda             10972 non-null  uint8         \n",
            " 85  linea de viaje     10972 non-null  uint8         \n",
            " 86  casa hogar         10972 non-null  uint8         \n",
            " 87  linea ejecutiva    10972 non-null  uint8         \n",
            " 88  alimento           10972 non-null  uint8         \n",
            " 89  oficina            10972 non-null  uint8         \n",
            " 90  suspiro            10972 non-null  uint8         \n",
            " 91  tira               10972 non-null  uint8         \n",
            " 92  obsequio           10972 non-null  uint8         \n",
            " 93  escritorio         10972 non-null  uint8         \n",
            "dtypes: datetime64[ns](1), int64(8), object(9), uint8(76)\n",
            "memory usage: 2.3+ MB\n"
          ]
        }
      ],
      "source": [
        "marca5_fin=marca5.drop(columns=['destino','aerolinea']).copy()\n",
        "marca5_fin.info()"
      ]
    },
    {
      "cell_type": "code",
      "execution_count": 60,
      "id": "7092fadf-d856-4e1c-97eb-b9d21bcfdfce",
      "metadata": {
        "colab": {
          "base_uri": "https://localhost:8080/"
        },
        "id": "7092fadf-d856-4e1c-97eb-b9d21bcfdfce",
        "outputId": "d23733c1-9175-4eac-abbf-295108fe0f35"
      },
      "outputs": [
        {
          "name": "stdout",
          "output_type": "stream",
          "text": [
            "<class 'pandas.core.frame.DataFrame'>\n",
            "Int64Index: 34669 entries, 0 to 43794\n",
            "Data columns (total 14 columns):\n",
            " #   Column          Non-Null Count  Dtype         \n",
            "---  ------          --------------  -----         \n",
            " 0   fecha_de_venta  34669 non-null  datetime64[ns]\n",
            " 1   categoria       34669 non-null  object        \n",
            " 2   hora_entera     34669 non-null  float64       \n",
            " 3   ventas          34669 non-null  int64         \n",
            " 4   unidades        34669 non-null  float64       \n",
            " 5   transacciones   34669 non-null  int32         \n",
            " 6   muelle          34669 non-null  object        \n",
            " 7   marca           34669 non-null  object        \n",
            " 8   anio_entero     34669 non-null  int64         \n",
            " 9   mes_entero      34669 non-null  int64         \n",
            " 10  dia_entero      34669 non-null  int64         \n",
            " 11  mes_string      34669 non-null  object        \n",
            " 12  semana          34669 non-null  int64         \n",
            " 13  tienda          34669 non-null  object        \n",
            "dtypes: datetime64[ns](1), float64(2), int32(1), int64(5), object(5)\n",
            "memory usage: 3.8+ MB\n"
          ]
        }
      ],
      "source": [
        "marca6=archivo_marca2_10['Marca 6'].copy()\n",
        "marca6=marca6.rename(columns={'Fecha':'fecha_de_venta','Ventas':'ventas','Hora de venta':'hora_entera','Transacciones':'transacciones','Unidades':'unidades','Muelle':'muelle','Categoría':'categoria','Subcategoría':'subcategoria'})\n",
        "marca6= marca6[~(marca6['ventas']==0)]\n",
        "marca6['marca'] = 'marca6'\n",
        "marca6['anio_entero'] = marca6['fecha_de_venta'].apply(sacar_anio)\n",
        "marca6['mes_entero'] = marca6['fecha_de_venta'].apply(sacar_mes)\n",
        "marca6['dia_entero'] = marca6['fecha_de_venta'].apply(sacar_dia)\n",
        "marca6['mes_string'] = marca6['fecha_de_venta'].dt.strftime('%B')\n",
        "marca6['semana'] = marca6['fecha_de_venta'].dt.week\n",
        "marca6['tienda'] = 'marca 6'\n",
        "marca6['categoria'] = marca6['categoria'] + \" \" + marca6['subcategoria']\n",
        "marca6=marca6.drop(columns=['subcategoria'])\n",
        "marca6['categoria']= marca6['categoria'].str.lower()\n",
        "marca6['transacciones']= marca6['transacciones'].astype(int)\n",
        "marca6.info()"
      ]
    },
    {
      "cell_type": "code",
      "execution_count": 61,
      "id": "af2ec9bd-4a4f-4978-8d96-bcd35541f733",
      "metadata": {
        "colab": {
          "base_uri": "https://localhost:8080/"
        },
        "id": "af2ec9bd-4a4f-4978-8d96-bcd35541f733",
        "outputId": "ef877b29-5558-4742-b998-4b7257828065"
      },
      "outputs": [
        {
          "data": {
            "text/plain": [
              "array(['calzado masculino', 'calzado femenino', 'cinturones masculino',\n",
              "       'cinturones femenino', 'marroquinería masculino',\n",
              "       'marroquinería femenino', 'bolsos masculino', 'bolsos femenino',\n",
              "       'prendas de vestir masculino', 'prendas de vestir femenino',\n",
              "       'productos comerciali unisex', 'accesorios de lujo masculino',\n",
              "       'travel & business masculino', 'travel & business femenino',\n",
              "       'accesorios de lujo femenino', 'bienestar masculino',\n",
              "       'bienestar femenino', 'sin asignar sin asignar',\n",
              "       'bienestar unisex'], dtype=object)"
            ]
          },
          "execution_count": 61,
          "metadata": {},
          "output_type": "execute_result"
        }
      ],
      "source": [
        "marca6['categoria'].unique()"
      ]
    },
    {
      "cell_type": "code",
      "execution_count": 62,
      "id": "62c63ddb-05be-41e8-a5f6-547727d0d242",
      "metadata": {
        "colab": {
          "base_uri": "https://localhost:8080/"
        },
        "id": "62c63ddb-05be-41e8-a5f6-547727d0d242",
        "outputId": "4a72b2f9-1f46-4eb9-8b69-377ce4577028"
      },
      "outputs": [
        {
          "data": {
            "text/plain": [
              "array([0])"
            ]
          },
          "execution_count": 62,
          "metadata": {},
          "output_type": "execute_result"
        }
      ],
      "source": [
        "marca6['transacciones'].unique()"
      ]
    },
    {
      "cell_type": "code",
      "execution_count": 63,
      "id": "6a6e467a-ce48-448b-8b9b-8c9a147c5bde",
      "metadata": {
        "colab": {
          "base_uri": "https://localhost:8080/"
        },
        "id": "6a6e467a-ce48-448b-8b9b-8c9a147c5bde",
        "outputId": "2e4d6ba2-5705-4099-8bf2-aaab93ea6d0a"
      },
      "outputs": [
        {
          "name": "stdout",
          "output_type": "stream",
          "text": [
            "<class 'pandas.core.frame.DataFrame'>\n",
            "Int64Index: 34669 entries, 0 to 43794\n",
            "Data columns (total 19 columns):\n",
            " #   Column                        Non-Null Count  Dtype\n",
            "---  ------                        --------------  -----\n",
            " 0   accesorios de lujo femenino   34669 non-null  uint8\n",
            " 1   accesorios de lujo masculino  34669 non-null  uint8\n",
            " 2   bienestar femenino            34669 non-null  uint8\n",
            " 3   bienestar masculino           34669 non-null  uint8\n",
            " 4   bienestar unisex              34669 non-null  uint8\n",
            " 5   bolsos femenino               34669 non-null  uint8\n",
            " 6   bolsos masculino              34669 non-null  uint8\n",
            " 7   calzado femenino              34669 non-null  uint8\n",
            " 8   calzado masculino             34669 non-null  uint8\n",
            " 9   cinturones femenino           34669 non-null  uint8\n",
            " 10  cinturones masculino          34669 non-null  uint8\n",
            " 11  marroquinería femenino        34669 non-null  uint8\n",
            " 12  marroquinería masculino       34669 non-null  uint8\n",
            " 13  prendas de vestir femenino    34669 non-null  uint8\n",
            " 14  prendas de vestir masculino   34669 non-null  uint8\n",
            " 15  productos comerciali unisex   34669 non-null  uint8\n",
            " 16  sin asignar sin asignar       34669 non-null  uint8\n",
            " 17  travel & business femenino    34669 non-null  uint8\n",
            " 18  travel & business masculino   34669 non-null  uint8\n",
            "dtypes: uint8(19)\n",
            "memory usage: 914.1 KB\n"
          ]
        }
      ],
      "source": [
        "marca6_dummies_cat = pd.get_dummies(marca6.categoria)\n",
        "marca6_dummies_cat.info()"
      ]
    },
    {
      "cell_type": "code",
      "execution_count": 64,
      "id": "bfb7619d-8efc-4e61-bb1c-499af87d509d",
      "metadata": {
        "colab": {
          "base_uri": "https://localhost:8080/",
          "height": 434
        },
        "id": "bfb7619d-8efc-4e61-bb1c-499af87d509d",
        "outputId": "166d5651-a828-40c5-c8a8-2f200ecb6243"
      },
      "outputs": [
        {
          "data": {
            "text/html": [
              "<div>\n",
              "<style scoped>\n",
              "    .dataframe tbody tr th:only-of-type {\n",
              "        vertical-align: middle;\n",
              "    }\n",
              "\n",
              "    .dataframe tbody tr th {\n",
              "        vertical-align: top;\n",
              "    }\n",
              "\n",
              "    .dataframe thead th {\n",
              "        text-align: right;\n",
              "    }\n",
              "</style>\n",
              "<table border=\"1\" class=\"dataframe\">\n",
              "  <thead>\n",
              "    <tr style=\"text-align: right;\">\n",
              "      <th></th>\n",
              "      <th>fecha_de_venta</th>\n",
              "      <th>categoria</th>\n",
              "      <th>hora_entera</th>\n",
              "      <th>ventas</th>\n",
              "      <th>unidades</th>\n",
              "      <th>transacciones</th>\n",
              "      <th>muelle</th>\n",
              "      <th>marca</th>\n",
              "      <th>anio_entero</th>\n",
              "      <th>mes_entero</th>\n",
              "      <th>dia_entero</th>\n",
              "      <th>mes_string</th>\n",
              "      <th>semana</th>\n",
              "      <th>tienda</th>\n",
              "      <th>accesorios de lujo femenino</th>\n",
              "      <th>accesorios de lujo masculino</th>\n",
              "      <th>bienestar femenino</th>\n",
              "      <th>bienestar masculino</th>\n",
              "      <th>bienestar unisex</th>\n",
              "      <th>bolsos femenino</th>\n",
              "    </tr>\n",
              "  </thead>\n",
              "  <tbody>\n",
              "    <tr>\n",
              "      <th>0</th>\n",
              "      <td>2022-01-02</td>\n",
              "      <td>calzado masculino</td>\n",
              "      <td>7.0</td>\n",
              "      <td>3478800</td>\n",
              "      <td>1.0</td>\n",
              "      <td>0</td>\n",
              "      <td>A Internacional Oriente</td>\n",
              "      <td>marca6</td>\n",
              "      <td>2022</td>\n",
              "      <td>1</td>\n",
              "      <td>2</td>\n",
              "      <td>enero</td>\n",
              "      <td>52</td>\n",
              "      <td>marca 6</td>\n",
              "      <td>0</td>\n",
              "      <td>0</td>\n",
              "      <td>0</td>\n",
              "      <td>0</td>\n",
              "      <td>0</td>\n",
              "      <td>0</td>\n",
              "    </tr>\n",
              "    <tr>\n",
              "      <th>1</th>\n",
              "      <td>2022-01-02</td>\n",
              "      <td>calzado masculino</td>\n",
              "      <td>8.0</td>\n",
              "      <td>4438800</td>\n",
              "      <td>1.0</td>\n",
              "      <td>0</td>\n",
              "      <td>A Internacional Oriente</td>\n",
              "      <td>marca6</td>\n",
              "      <td>2022</td>\n",
              "      <td>1</td>\n",
              "      <td>2</td>\n",
              "      <td>enero</td>\n",
              "      <td>52</td>\n",
              "      <td>marca 6</td>\n",
              "      <td>0</td>\n",
              "      <td>0</td>\n",
              "      <td>0</td>\n",
              "      <td>0</td>\n",
              "      <td>0</td>\n",
              "      <td>0</td>\n",
              "    </tr>\n",
              "    <tr>\n",
              "      <th>2</th>\n",
              "      <td>2022-01-02</td>\n",
              "      <td>calzado masculino</td>\n",
              "      <td>14.0</td>\n",
              "      <td>10076400</td>\n",
              "      <td>3.0</td>\n",
              "      <td>0</td>\n",
              "      <td>A Internacional Oriente</td>\n",
              "      <td>marca6</td>\n",
              "      <td>2022</td>\n",
              "      <td>1</td>\n",
              "      <td>2</td>\n",
              "      <td>enero</td>\n",
              "      <td>52</td>\n",
              "      <td>marca 6</td>\n",
              "      <td>0</td>\n",
              "      <td>0</td>\n",
              "      <td>0</td>\n",
              "      <td>0</td>\n",
              "      <td>0</td>\n",
              "      <td>0</td>\n",
              "    </tr>\n",
              "    <tr>\n",
              "      <th>3</th>\n",
              "      <td>2022-01-02</td>\n",
              "      <td>calzado masculino</td>\n",
              "      <td>16.0</td>\n",
              "      <td>19113600</td>\n",
              "      <td>4.0</td>\n",
              "      <td>0</td>\n",
              "      <td>A Internacional Oriente</td>\n",
              "      <td>marca6</td>\n",
              "      <td>2022</td>\n",
              "      <td>1</td>\n",
              "      <td>2</td>\n",
              "      <td>enero</td>\n",
              "      <td>52</td>\n",
              "      <td>marca 6</td>\n",
              "      <td>0</td>\n",
              "      <td>0</td>\n",
              "      <td>0</td>\n",
              "      <td>0</td>\n",
              "      <td>0</td>\n",
              "      <td>0</td>\n",
              "    </tr>\n",
              "    <tr>\n",
              "      <th>4</th>\n",
              "      <td>2022-01-02</td>\n",
              "      <td>calzado masculino</td>\n",
              "      <td>17.0</td>\n",
              "      <td>3838800</td>\n",
              "      <td>1.0</td>\n",
              "      <td>0</td>\n",
              "      <td>A Internacional Oriente</td>\n",
              "      <td>marca6</td>\n",
              "      <td>2022</td>\n",
              "      <td>1</td>\n",
              "      <td>2</td>\n",
              "      <td>enero</td>\n",
              "      <td>52</td>\n",
              "      <td>marca 6</td>\n",
              "      <td>0</td>\n",
              "      <td>0</td>\n",
              "      <td>0</td>\n",
              "      <td>0</td>\n",
              "      <td>0</td>\n",
              "      <td>0</td>\n",
              "    </tr>\n",
              "  </tbody>\n",
              "</table>\n",
              "</div>"
            ],
            "text/plain": [
              "  fecha_de_venta          categoria  hora_entera    ventas  unidades  \\\n",
              "0     2022-01-02  calzado masculino          7.0   3478800       1.0   \n",
              "1     2022-01-02  calzado masculino          8.0   4438800       1.0   \n",
              "2     2022-01-02  calzado masculino         14.0  10076400       3.0   \n",
              "3     2022-01-02  calzado masculino         16.0  19113600       4.0   \n",
              "4     2022-01-02  calzado masculino         17.0   3838800       1.0   \n",
              "\n",
              "   transacciones                   muelle   marca  anio_entero  mes_entero  \\\n",
              "0              0  A Internacional Oriente  marca6         2022           1   \n",
              "1              0  A Internacional Oriente  marca6         2022           1   \n",
              "2              0  A Internacional Oriente  marca6         2022           1   \n",
              "3              0  A Internacional Oriente  marca6         2022           1   \n",
              "4              0  A Internacional Oriente  marca6         2022           1   \n",
              "\n",
              "   dia_entero mes_string  semana   tienda  accesorios de lujo femenino  \\\n",
              "0           2      enero      52  marca 6                            0   \n",
              "1           2      enero      52  marca 6                            0   \n",
              "2           2      enero      52  marca 6                            0   \n",
              "3           2      enero      52  marca 6                            0   \n",
              "4           2      enero      52  marca 6                            0   \n",
              "\n",
              "   accesorios de lujo masculino  bienestar femenino  bienestar masculino  \\\n",
              "0                             0                   0                    0   \n",
              "1                             0                   0                    0   \n",
              "2                             0                   0                    0   \n",
              "3                             0                   0                    0   \n",
              "4                             0                   0                    0   \n",
              "\n",
              "   bienestar unisex  bolsos femenino  \n",
              "0                 0                0  \n",
              "1                 0                0  \n",
              "2                 0                0  \n",
              "3                 0                0  \n",
              "4                 0                0  "
            ]
          },
          "execution_count": 64,
          "metadata": {},
          "output_type": "execute_result"
        }
      ],
      "source": [
        "marca6=pd.concat([marca6,marca6_dummies_cat],axis=1)\n",
        "marca6.iloc[:,:20].head()"
      ]
    },
    {
      "cell_type": "code",
      "execution_count": 65,
      "id": "45c33b5e-93bd-4647-8dad-d00bb0436535",
      "metadata": {
        "colab": {
          "base_uri": "https://localhost:8080/"
        },
        "id": "45c33b5e-93bd-4647-8dad-d00bb0436535",
        "outputId": "8e14f7a7-79c3-4e7d-db62-0b3fa564fd94"
      },
      "outputs": [
        {
          "data": {
            "text/plain": [
              "array([0])"
            ]
          },
          "execution_count": 65,
          "metadata": {},
          "output_type": "execute_result"
        }
      ],
      "source": [
        "marca6['transacciones'].unique()"
      ]
    },
    {
      "cell_type": "code",
      "execution_count": 66,
      "id": "ae2006a4-6a23-4c21-8b65-99610631aec8",
      "metadata": {
        "id": "ae2006a4-6a23-4c21-8b65-99610631aec8"
      },
      "outputs": [],
      "source": [
        "# marca10.iloc[:,:2]"
      ]
    },
    {
      "cell_type": "code",
      "execution_count": 67,
      "id": "7976208c-dcbb-425e-bab0-350d7c2ed404",
      "metadata": {
        "id": "7976208c-dcbb-425e-bab0-350d7c2ed404"
      },
      "outputs": [],
      "source": [
        "cols_groupby_6=['anio_entero','mes_entero','dia_entero','hora_entera']\n",
        "cols_merge_6=['tienda','anio_entero','mes_entero','dia_entero','hora_entera','semana','fecha_de_venta','marca','mes_string']"
      ]
    },
    {
      "cell_type": "code",
      "execution_count": 68,
      "id": "0ae5e278-c4c8-4556-ba15-507a53a57555",
      "metadata": {
        "colab": {
          "base_uri": "https://localhost:8080/"
        },
        "id": "0ae5e278-c4c8-4556-ba15-507a53a57555",
        "outputId": "175e520b-9d71-4288-82e6-93000bcaaba7"
      },
      "outputs": [
        {
          "name": "stdout",
          "output_type": "stream",
          "text": [
            "<class 'pandas.core.frame.DataFrame'>\n",
            "Int64Index: 9116 entries, 0 to 9115\n",
            "Data columns (total 31 columns):\n",
            " #   Column                        Non-Null Count  Dtype         \n",
            "---  ------                        --------------  -----         \n",
            " 0   anio_entero                   9116 non-null   int64         \n",
            " 1   mes_entero                    9116 non-null   int64         \n",
            " 2   dia_entero                    9116 non-null   int64         \n",
            " 3   hora_entera                   9116 non-null   float64       \n",
            " 4   ventas                        9116 non-null   int64         \n",
            " 5   unidades                      9116 non-null   float64       \n",
            " 6   transacciones                 9116 non-null   int32         \n",
            " 7   accesorios de lujo femenino   9116 non-null   uint8         \n",
            " 8   accesorios de lujo masculino  9116 non-null   uint8         \n",
            " 9   bienestar femenino            9116 non-null   uint8         \n",
            " 10  bienestar masculino           9116 non-null   uint8         \n",
            " 11  bienestar unisex              9116 non-null   uint8         \n",
            " 12  bolsos femenino               9116 non-null   uint8         \n",
            " 13  bolsos masculino              9116 non-null   uint8         \n",
            " 14  calzado femenino              9116 non-null   uint8         \n",
            " 15  calzado masculino             9116 non-null   uint8         \n",
            " 16  cinturones femenino           9116 non-null   uint8         \n",
            " 17  cinturones masculino          9116 non-null   uint8         \n",
            " 18  marroquinería femenino        9116 non-null   uint8         \n",
            " 19  marroquinería masculino       9116 non-null   uint8         \n",
            " 20  prendas de vestir femenino    9116 non-null   uint8         \n",
            " 21  prendas de vestir masculino   9116 non-null   uint8         \n",
            " 22  productos comerciali unisex   9116 non-null   uint8         \n",
            " 23  sin asignar sin asignar       9116 non-null   uint8         \n",
            " 24  travel & business femenino    9116 non-null   uint8         \n",
            " 25  travel & business masculino   9116 non-null   uint8         \n",
            " 26  tienda                        9116 non-null   object        \n",
            " 27  semana                        9116 non-null   int64         \n",
            " 28  fecha_de_venta                9116 non-null   datetime64[ns]\n",
            " 29  marca                         9116 non-null   object        \n",
            " 30  mes_string                    9116 non-null   object        \n",
            "dtypes: datetime64[ns](1), float64(2), int32(1), int64(5), object(3), uint8(19)\n",
            "memory usage: 1.0+ MB\n"
          ]
        }
      ],
      "source": [
        "marca6_conglomerado=marca6.groupby(by=cols_groupby_6).sum().drop(columns=['semana']).reset_index().merge(marca6.drop_duplicates(subset=cols_groupby_6)[cols_merge_6],how=\"left\",on=cols_groupby_6)\n",
        "marca6_conglomerado.info()"
      ]
    },
    {
      "cell_type": "code",
      "execution_count": 69,
      "id": "846e4a98-4c58-4de3-b245-a04d8c1ea152",
      "metadata": {
        "colab": {
          "base_uri": "https://localhost:8080/",
          "height": 638
        },
        "id": "846e4a98-4c58-4de3-b245-a04d8c1ea152",
        "outputId": "388e59a9-9a98-4595-c75d-e338b0e63a18"
      },
      "outputs": [
        {
          "data": {
            "text/html": [
              "<div>\n",
              "<style scoped>\n",
              "    .dataframe tbody tr th:only-of-type {\n",
              "        vertical-align: middle;\n",
              "    }\n",
              "\n",
              "    .dataframe tbody tr th {\n",
              "        vertical-align: top;\n",
              "    }\n",
              "\n",
              "    .dataframe thead th {\n",
              "        text-align: right;\n",
              "    }\n",
              "</style>\n",
              "<table border=\"1\" class=\"dataframe\">\n",
              "  <thead>\n",
              "    <tr style=\"text-align: right;\">\n",
              "      <th></th>\n",
              "      <th>anio_entero</th>\n",
              "      <th>mes_entero</th>\n",
              "      <th>dia_entero</th>\n",
              "      <th>hora_entera</th>\n",
              "      <th>ventas</th>\n",
              "      <th>unidades</th>\n",
              "      <th>transacciones</th>\n",
              "      <th>accesorios de lujo femenino</th>\n",
              "      <th>accesorios de lujo masculino</th>\n",
              "      <th>bienestar femenino</th>\n",
              "      <th>...</th>\n",
              "      <th>prendas de vestir masculino</th>\n",
              "      <th>productos comerciali unisex</th>\n",
              "      <th>sin asignar sin asignar</th>\n",
              "      <th>travel &amp; business femenino</th>\n",
              "      <th>travel &amp; business masculino</th>\n",
              "      <th>tienda</th>\n",
              "      <th>semana</th>\n",
              "      <th>fecha_de_venta</th>\n",
              "      <th>marca</th>\n",
              "      <th>mes_string</th>\n",
              "    </tr>\n",
              "  </thead>\n",
              "  <tbody>\n",
              "    <tr>\n",
              "      <th>5244</th>\n",
              "      <td>2022</td>\n",
              "      <td>12</td>\n",
              "      <td>4</td>\n",
              "      <td>12.0</td>\n",
              "      <td>83112000</td>\n",
              "      <td>21.0</td>\n",
              "      <td>0</td>\n",
              "      <td>0</td>\n",
              "      <td>1</td>\n",
              "      <td>0</td>\n",
              "      <td>...</td>\n",
              "      <td>1</td>\n",
              "      <td>1</td>\n",
              "      <td>0</td>\n",
              "      <td>1</td>\n",
              "      <td>0</td>\n",
              "      <td>marca 6</td>\n",
              "      <td>48</td>\n",
              "      <td>2022-12-04</td>\n",
              "      <td>marca6</td>\n",
              "      <td>diciembre</td>\n",
              "    </tr>\n",
              "    <tr>\n",
              "      <th>6980</th>\n",
              "      <td>2023</td>\n",
              "      <td>3</td>\n",
              "      <td>23</td>\n",
              "      <td>19.0</td>\n",
              "      <td>62201200</td>\n",
              "      <td>10.0</td>\n",
              "      <td>0</td>\n",
              "      <td>0</td>\n",
              "      <td>0</td>\n",
              "      <td>0</td>\n",
              "      <td>...</td>\n",
              "      <td>1</td>\n",
              "      <td>1</td>\n",
              "      <td>0</td>\n",
              "      <td>0</td>\n",
              "      <td>1</td>\n",
              "      <td>marca 6</td>\n",
              "      <td>12</td>\n",
              "      <td>2023-03-23</td>\n",
              "      <td>marca6</td>\n",
              "      <td>marzo</td>\n",
              "    </tr>\n",
              "    <tr>\n",
              "      <th>4093</th>\n",
              "      <td>2022</td>\n",
              "      <td>9</td>\n",
              "      <td>21</td>\n",
              "      <td>15.0</td>\n",
              "      <td>23794000</td>\n",
              "      <td>3.0</td>\n",
              "      <td>0</td>\n",
              "      <td>0</td>\n",
              "      <td>0</td>\n",
              "      <td>0</td>\n",
              "      <td>...</td>\n",
              "      <td>0</td>\n",
              "      <td>0</td>\n",
              "      <td>0</td>\n",
              "      <td>0</td>\n",
              "      <td>1</td>\n",
              "      <td>marca 6</td>\n",
              "      <td>38</td>\n",
              "      <td>2022-09-21</td>\n",
              "      <td>marca6</td>\n",
              "      <td>septiembre</td>\n",
              "    </tr>\n",
              "    <tr>\n",
              "      <th>5076</th>\n",
              "      <td>2022</td>\n",
              "      <td>11</td>\n",
              "      <td>23</td>\n",
              "      <td>12.0</td>\n",
              "      <td>18796000</td>\n",
              "      <td>2.0</td>\n",
              "      <td>0</td>\n",
              "      <td>0</td>\n",
              "      <td>0</td>\n",
              "      <td>0</td>\n",
              "      <td>...</td>\n",
              "      <td>0</td>\n",
              "      <td>0</td>\n",
              "      <td>0</td>\n",
              "      <td>0</td>\n",
              "      <td>0</td>\n",
              "      <td>marca 6</td>\n",
              "      <td>47</td>\n",
              "      <td>2022-11-23</td>\n",
              "      <td>marca6</td>\n",
              "      <td>noviembre</td>\n",
              "    </tr>\n",
              "    <tr>\n",
              "      <th>6141</th>\n",
              "      <td>2023</td>\n",
              "      <td>1</td>\n",
              "      <td>31</td>\n",
              "      <td>17.0</td>\n",
              "      <td>74103000</td>\n",
              "      <td>10.0</td>\n",
              "      <td>0</td>\n",
              "      <td>1</td>\n",
              "      <td>0</td>\n",
              "      <td>0</td>\n",
              "      <td>...</td>\n",
              "      <td>0</td>\n",
              "      <td>0</td>\n",
              "      <td>0</td>\n",
              "      <td>0</td>\n",
              "      <td>0</td>\n",
              "      <td>marca 6</td>\n",
              "      <td>5</td>\n",
              "      <td>2023-01-31</td>\n",
              "      <td>marca6</td>\n",
              "      <td>enero</td>\n",
              "    </tr>\n",
              "    <tr>\n",
              "      <th>9095</th>\n",
              "      <td>2023</td>\n",
              "      <td>7</td>\n",
              "      <td>30</td>\n",
              "      <td>21.0</td>\n",
              "      <td>38349200</td>\n",
              "      <td>6.0</td>\n",
              "      <td>0</td>\n",
              "      <td>0</td>\n",
              "      <td>0</td>\n",
              "      <td>0</td>\n",
              "      <td>...</td>\n",
              "      <td>0</td>\n",
              "      <td>0</td>\n",
              "      <td>0</td>\n",
              "      <td>0</td>\n",
              "      <td>0</td>\n",
              "      <td>marca 6</td>\n",
              "      <td>30</td>\n",
              "      <td>2023-07-30</td>\n",
              "      <td>marca6</td>\n",
              "      <td>julio</td>\n",
              "    </tr>\n",
              "    <tr>\n",
              "      <th>2364</th>\n",
              "      <td>2022</td>\n",
              "      <td>6</td>\n",
              "      <td>5</td>\n",
              "      <td>6.0</td>\n",
              "      <td>49362600</td>\n",
              "      <td>9.0</td>\n",
              "      <td>0</td>\n",
              "      <td>1</td>\n",
              "      <td>1</td>\n",
              "      <td>0</td>\n",
              "      <td>...</td>\n",
              "      <td>0</td>\n",
              "      <td>0</td>\n",
              "      <td>0</td>\n",
              "      <td>0</td>\n",
              "      <td>0</td>\n",
              "      <td>marca 6</td>\n",
              "      <td>22</td>\n",
              "      <td>2022-06-05</td>\n",
              "      <td>marca6</td>\n",
              "      <td>junio</td>\n",
              "    </tr>\n",
              "    <tr>\n",
              "      <th>1027</th>\n",
              "      <td>2022</td>\n",
              "      <td>3</td>\n",
              "      <td>10</td>\n",
              "      <td>6.0</td>\n",
              "      <td>32790000</td>\n",
              "      <td>5.0</td>\n",
              "      <td>0</td>\n",
              "      <td>0</td>\n",
              "      <td>0</td>\n",
              "      <td>0</td>\n",
              "      <td>...</td>\n",
              "      <td>0</td>\n",
              "      <td>0</td>\n",
              "      <td>0</td>\n",
              "      <td>0</td>\n",
              "      <td>0</td>\n",
              "      <td>marca 6</td>\n",
              "      <td>10</td>\n",
              "      <td>2022-03-10</td>\n",
              "      <td>marca6</td>\n",
              "      <td>marzo</td>\n",
              "    </tr>\n",
              "    <tr>\n",
              "      <th>7794</th>\n",
              "      <td>2023</td>\n",
              "      <td>5</td>\n",
              "      <td>12</td>\n",
              "      <td>20.0</td>\n",
              "      <td>33394000</td>\n",
              "      <td>3.0</td>\n",
              "      <td>0</td>\n",
              "      <td>0</td>\n",
              "      <td>0</td>\n",
              "      <td>0</td>\n",
              "      <td>...</td>\n",
              "      <td>1</td>\n",
              "      <td>0</td>\n",
              "      <td>0</td>\n",
              "      <td>0</td>\n",
              "      <td>0</td>\n",
              "      <td>marca 6</td>\n",
              "      <td>19</td>\n",
              "      <td>2023-05-12</td>\n",
              "      <td>marca6</td>\n",
              "      <td>mayo</td>\n",
              "    </tr>\n",
              "    <tr>\n",
              "      <th>6653</th>\n",
              "      <td>2023</td>\n",
              "      <td>3</td>\n",
              "      <td>4</td>\n",
              "      <td>10.0</td>\n",
              "      <td>83778000</td>\n",
              "      <td>11.0</td>\n",
              "      <td>0</td>\n",
              "      <td>0</td>\n",
              "      <td>0</td>\n",
              "      <td>0</td>\n",
              "      <td>...</td>\n",
              "      <td>1</td>\n",
              "      <td>1</td>\n",
              "      <td>0</td>\n",
              "      <td>0</td>\n",
              "      <td>1</td>\n",
              "      <td>marca 6</td>\n",
              "      <td>9</td>\n",
              "      <td>2023-03-04</td>\n",
              "      <td>marca6</td>\n",
              "      <td>marzo</td>\n",
              "    </tr>\n",
              "  </tbody>\n",
              "</table>\n",
              "<p>10 rows × 31 columns</p>\n",
              "</div>"
            ],
            "text/plain": [
              "      anio_entero  mes_entero  dia_entero  hora_entera    ventas  unidades  \\\n",
              "5244         2022          12           4         12.0  83112000      21.0   \n",
              "6980         2023           3          23         19.0  62201200      10.0   \n",
              "4093         2022           9          21         15.0  23794000       3.0   \n",
              "5076         2022          11          23         12.0  18796000       2.0   \n",
              "6141         2023           1          31         17.0  74103000      10.0   \n",
              "9095         2023           7          30         21.0  38349200       6.0   \n",
              "2364         2022           6           5          6.0  49362600       9.0   \n",
              "1027         2022           3          10          6.0  32790000       5.0   \n",
              "7794         2023           5          12         20.0  33394000       3.0   \n",
              "6653         2023           3           4         10.0  83778000      11.0   \n",
              "\n",
              "      transacciones  accesorios de lujo femenino  \\\n",
              "5244              0                            0   \n",
              "6980              0                            0   \n",
              "4093              0                            0   \n",
              "5076              0                            0   \n",
              "6141              0                            1   \n",
              "9095              0                            0   \n",
              "2364              0                            1   \n",
              "1027              0                            0   \n",
              "7794              0                            0   \n",
              "6653              0                            0   \n",
              "\n",
              "      accesorios de lujo masculino  bienestar femenino  ...  \\\n",
              "5244                             1                   0  ...   \n",
              "6980                             0                   0  ...   \n",
              "4093                             0                   0  ...   \n",
              "5076                             0                   0  ...   \n",
              "6141                             0                   0  ...   \n",
              "9095                             0                   0  ...   \n",
              "2364                             1                   0  ...   \n",
              "1027                             0                   0  ...   \n",
              "7794                             0                   0  ...   \n",
              "6653                             0                   0  ...   \n",
              "\n",
              "      prendas de vestir masculino  productos comerciali unisex  \\\n",
              "5244                            1                            1   \n",
              "6980                            1                            1   \n",
              "4093                            0                            0   \n",
              "5076                            0                            0   \n",
              "6141                            0                            0   \n",
              "9095                            0                            0   \n",
              "2364                            0                            0   \n",
              "1027                            0                            0   \n",
              "7794                            1                            0   \n",
              "6653                            1                            1   \n",
              "\n",
              "      sin asignar sin asignar  travel & business femenino  \\\n",
              "5244                        0                           1   \n",
              "6980                        0                           0   \n",
              "4093                        0                           0   \n",
              "5076                        0                           0   \n",
              "6141                        0                           0   \n",
              "9095                        0                           0   \n",
              "2364                        0                           0   \n",
              "1027                        0                           0   \n",
              "7794                        0                           0   \n",
              "6653                        0                           0   \n",
              "\n",
              "      travel & business masculino   tienda  semana  fecha_de_venta   marca  \\\n",
              "5244                            0  marca 6      48      2022-12-04  marca6   \n",
              "6980                            1  marca 6      12      2023-03-23  marca6   \n",
              "4093                            1  marca 6      38      2022-09-21  marca6   \n",
              "5076                            0  marca 6      47      2022-11-23  marca6   \n",
              "6141                            0  marca 6       5      2023-01-31  marca6   \n",
              "9095                            0  marca 6      30      2023-07-30  marca6   \n",
              "2364                            0  marca 6      22      2022-06-05  marca6   \n",
              "1027                            0  marca 6      10      2022-03-10  marca6   \n",
              "7794                            0  marca 6      19      2023-05-12  marca6   \n",
              "6653                            1  marca 6       9      2023-03-04  marca6   \n",
              "\n",
              "      mes_string  \n",
              "5244   diciembre  \n",
              "6980       marzo  \n",
              "4093  septiembre  \n",
              "5076   noviembre  \n",
              "6141       enero  \n",
              "9095       julio  \n",
              "2364       junio  \n",
              "1027       marzo  \n",
              "7794        mayo  \n",
              "6653       marzo  \n",
              "\n",
              "[10 rows x 31 columns]"
            ]
          },
          "execution_count": 69,
          "metadata": {},
          "output_type": "execute_result"
        }
      ],
      "source": [
        "marca6_conglomerado.sample(10)"
      ]
    },
    {
      "cell_type": "code",
      "execution_count": 70,
      "id": "7dccde29-0294-47b3-b5c6-27fb0db97c1c",
      "metadata": {
        "colab": {
          "base_uri": "https://localhost:8080/"
        },
        "id": "7dccde29-0294-47b3-b5c6-27fb0db97c1c",
        "outputId": "65f5048d-0add-4166-a745-cd03353c32eb"
      },
      "outputs": [
        {
          "data": {
            "text/plain": [
              "array([0])"
            ]
          },
          "execution_count": 70,
          "metadata": {},
          "output_type": "execute_result"
        }
      ],
      "source": [
        "marca6_conglomerado['transacciones'].unique()"
      ]
    },
    {
      "cell_type": "code",
      "execution_count": null,
      "id": "599c7739-28a5-4cc1-b6ea-7887a5d28ab6",
      "metadata": {
        "id": "599c7739-28a5-4cc1-b6ea-7887a5d28ab6"
      },
      "outputs": [],
      "source": []
    },
    {
      "cell_type": "code",
      "execution_count": 71,
      "id": "24c9e20a-48c9-42fa-9e2a-9d5901415106",
      "metadata": {
        "colab": {
          "base_uri": "https://localhost:8080/"
        },
        "id": "24c9e20a-48c9-42fa-9e2a-9d5901415106",
        "outputId": "07b5d610-bae3-4884-b605-30fee8302f26"
      },
      "outputs": [
        {
          "name": "stdout",
          "output_type": "stream",
          "text": [
            "<class 'pandas.core.frame.DataFrame'>\n",
            "Int64Index: 7947 entries, 0 to 11611\n",
            "Data columns (total 14 columns):\n",
            " #   Column                 Non-Null Count  Dtype         \n",
            "---  ------                 --------------  -----         \n",
            " 0   fecha_de_venta         7947 non-null   datetime64[ns]\n",
            " 1   hora_entera            7947 non-null   float64       \n",
            " 2   personas_que_ingresan  7947 non-null   float64       \n",
            " 3   ventas                 7947 non-null   float64       \n",
            " 4   transacciones          7947 non-null   float64       \n",
            " 5   unidades               7947 non-null   float64       \n",
            " 6   muelle                 7947 non-null   object        \n",
            " 7   marca                  7947 non-null   object        \n",
            " 8   anio_entero            7947 non-null   int64         \n",
            " 9   mes_entero             7947 non-null   int64         \n",
            " 10  dia_entero             7947 non-null   int64         \n",
            " 11  mes_string             7947 non-null   object        \n",
            " 12  semana                 7947 non-null   int64         \n",
            " 13  tienda                 7947 non-null   object        \n",
            "dtypes: datetime64[ns](1), float64(5), int64(4), object(4)\n",
            "memory usage: 931.3+ KB\n"
          ]
        }
      ],
      "source": [
        "marca7=archivo_marca2_10['Marca 7'].copy()\n",
        "marca7=marca7.rename(columns={'Fecha':'fecha_de_venta','Venta':'ventas','Hora':'hora_entera','Transacciones':'transacciones','Unidades':'unidades','Muelle':'muelle','Personas que ingresan':'personas_que_ingresan'})\n",
        "marca7= marca7[~(marca7['ventas']==0.0)]\n",
        "marca7['marca'] = 'marca7'\n",
        "marca7['anio_entero'] = marca7['fecha_de_venta'].apply(sacar_anio)\n",
        "marca7['mes_entero'] = marca7['fecha_de_venta'].apply(sacar_mes)\n",
        "marca7['dia_entero'] = marca7['fecha_de_venta'].apply(sacar_dia)\n",
        "marca7['mes_string'] = marca7['fecha_de_venta'].dt.strftime('%B')\n",
        "marca7['semana'] = marca7['fecha_de_venta'].dt.week\n",
        "marca7['tienda'] = 'marca 7'\n",
        "marca7.info()"
      ]
    },
    {
      "cell_type": "code",
      "execution_count": 72,
      "id": "a6de4016-a884-4ba6-92d9-fbfe971a440a",
      "metadata": {
        "colab": {
          "base_uri": "https://localhost:8080/",
          "height": 400
        },
        "id": "a6de4016-a884-4ba6-92d9-fbfe971a440a",
        "outputId": "1e616a1f-2a98-4204-b33a-6d3614db13ee"
      },
      "outputs": [
        {
          "data": {
            "text/html": [
              "<div>\n",
              "<style scoped>\n",
              "    .dataframe tbody tr th:only-of-type {\n",
              "        vertical-align: middle;\n",
              "    }\n",
              "\n",
              "    .dataframe tbody tr th {\n",
              "        vertical-align: top;\n",
              "    }\n",
              "\n",
              "    .dataframe thead th {\n",
              "        text-align: right;\n",
              "    }\n",
              "</style>\n",
              "<table border=\"1\" class=\"dataframe\">\n",
              "  <thead>\n",
              "    <tr style=\"text-align: right;\">\n",
              "      <th></th>\n",
              "      <th>fecha_de_venta</th>\n",
              "      <th>hora_entera</th>\n",
              "      <th>personas_que_ingresan</th>\n",
              "      <th>ventas</th>\n",
              "      <th>transacciones</th>\n",
              "      <th>unidades</th>\n",
              "      <th>muelle</th>\n",
              "      <th>marca</th>\n",
              "      <th>anio_entero</th>\n",
              "      <th>mes_entero</th>\n",
              "      <th>dia_entero</th>\n",
              "      <th>mes_string</th>\n",
              "      <th>semana</th>\n",
              "      <th>tienda</th>\n",
              "    </tr>\n",
              "  </thead>\n",
              "  <tbody>\n",
              "    <tr>\n",
              "      <th>0</th>\n",
              "      <td>2022-01-01</td>\n",
              "      <td>7.0</td>\n",
              "      <td>13.0</td>\n",
              "      <td>7393277.6</td>\n",
              "      <td>4.0</td>\n",
              "      <td>12.0</td>\n",
              "      <td>A Internacional oriente</td>\n",
              "      <td>marca7</td>\n",
              "      <td>2022</td>\n",
              "      <td>1</td>\n",
              "      <td>1</td>\n",
              "      <td>enero</td>\n",
              "      <td>52</td>\n",
              "      <td>marca 7</td>\n",
              "    </tr>\n",
              "    <tr>\n",
              "      <th>1</th>\n",
              "      <td>2022-01-01</td>\n",
              "      <td>8.0</td>\n",
              "      <td>5.0</td>\n",
              "      <td>3574790.0</td>\n",
              "      <td>1.0</td>\n",
              "      <td>4.0</td>\n",
              "      <td>A Internacional oriente</td>\n",
              "      <td>marca7</td>\n",
              "      <td>2022</td>\n",
              "      <td>1</td>\n",
              "      <td>1</td>\n",
              "      <td>enero</td>\n",
              "      <td>52</td>\n",
              "      <td>marca 7</td>\n",
              "    </tr>\n",
              "    <tr>\n",
              "      <th>3</th>\n",
              "      <td>2022-01-01</td>\n",
              "      <td>10.0</td>\n",
              "      <td>2.0</td>\n",
              "      <td>1610084.0</td>\n",
              "      <td>1.0</td>\n",
              "      <td>2.0</td>\n",
              "      <td>A Internacional oriente</td>\n",
              "      <td>marca7</td>\n",
              "      <td>2022</td>\n",
              "      <td>1</td>\n",
              "      <td>1</td>\n",
              "      <td>enero</td>\n",
              "      <td>52</td>\n",
              "      <td>marca 7</td>\n",
              "    </tr>\n",
              "    <tr>\n",
              "      <th>4</th>\n",
              "      <td>2022-01-01</td>\n",
              "      <td>11.0</td>\n",
              "      <td>16.0</td>\n",
              "      <td>4968067.2</td>\n",
              "      <td>2.0</td>\n",
              "      <td>6.0</td>\n",
              "      <td>A Internacional oriente</td>\n",
              "      <td>marca7</td>\n",
              "      <td>2022</td>\n",
              "      <td>1</td>\n",
              "      <td>1</td>\n",
              "      <td>enero</td>\n",
              "      <td>52</td>\n",
              "      <td>marca 7</td>\n",
              "    </tr>\n",
              "    <tr>\n",
              "      <th>5</th>\n",
              "      <td>2022-01-01</td>\n",
              "      <td>12.0</td>\n",
              "      <td>9.0</td>\n",
              "      <td>1628571.4</td>\n",
              "      <td>1.0</td>\n",
              "      <td>1.0</td>\n",
              "      <td>A Internacional oriente</td>\n",
              "      <td>marca7</td>\n",
              "      <td>2022</td>\n",
              "      <td>1</td>\n",
              "      <td>1</td>\n",
              "      <td>enero</td>\n",
              "      <td>52</td>\n",
              "      <td>marca 7</td>\n",
              "    </tr>\n",
              "  </tbody>\n",
              "</table>\n",
              "</div>"
            ],
            "text/plain": [
              "  fecha_de_venta  hora_entera  personas_que_ingresan     ventas  \\\n",
              "0     2022-01-01          7.0                   13.0  7393277.6   \n",
              "1     2022-01-01          8.0                    5.0  3574790.0   \n",
              "3     2022-01-01         10.0                    2.0  1610084.0   \n",
              "4     2022-01-01         11.0                   16.0  4968067.2   \n",
              "5     2022-01-01         12.0                    9.0  1628571.4   \n",
              "\n",
              "   transacciones  unidades                   muelle   marca  anio_entero  \\\n",
              "0            4.0      12.0  A Internacional oriente  marca7         2022   \n",
              "1            1.0       4.0  A Internacional oriente  marca7         2022   \n",
              "3            1.0       2.0  A Internacional oriente  marca7         2022   \n",
              "4            2.0       6.0  A Internacional oriente  marca7         2022   \n",
              "5            1.0       1.0  A Internacional oriente  marca7         2022   \n",
              "\n",
              "   mes_entero  dia_entero mes_string  semana   tienda  \n",
              "0           1           1      enero      52  marca 7  \n",
              "1           1           1      enero      52  marca 7  \n",
              "3           1           1      enero      52  marca 7  \n",
              "4           1           1      enero      52  marca 7  \n",
              "5           1           1      enero      52  marca 7  "
            ]
          },
          "execution_count": 72,
          "metadata": {},
          "output_type": "execute_result"
        }
      ],
      "source": [
        "marca7.head()"
      ]
    },
    {
      "cell_type": "code",
      "execution_count": 73,
      "id": "8da3fb82-beb9-4585-82cb-e0f028085ebf",
      "metadata": {
        "colab": {
          "base_uri": "https://localhost:8080/"
        },
        "id": "8da3fb82-beb9-4585-82cb-e0f028085ebf",
        "outputId": "4e032d76-7718-482d-97cf-7ac4e22dbd50"
      },
      "outputs": [
        {
          "name": "stdout",
          "output_type": "stream",
          "text": [
            "<class 'pandas.core.frame.DataFrame'>\n",
            "RangeIndex: 2930 entries, 0 to 2929\n",
            "Data columns (total 13 columns):\n",
            " #   Column          Non-Null Count  Dtype         \n",
            "---  ------          --------------  -----         \n",
            " 0   tienda          2759 non-null   object        \n",
            " 1   anio_entero     2762 non-null   float64       \n",
            " 2   mes_string      2762 non-null   object        \n",
            " 3   fecha_de_venta  2762 non-null   datetime64[ns]\n",
            " 4   hora_entera     2930 non-null   object        \n",
            " 5   semana          2762 non-null   float64       \n",
            " 6   ventas          2761 non-null   float64       \n",
            " 7   transacciones   2762 non-null   float64       \n",
            " 8   unidades        2761 non-null   object        \n",
            " 9   marca           2930 non-null   object        \n",
            " 10  mes_entero      2762 non-null   float64       \n",
            " 11  dia_entero      2762 non-null   float64       \n",
            " 12  hora_minutos    2930 non-null   object        \n",
            "dtypes: datetime64[ns](1), float64(6), object(6)\n",
            "memory usage: 297.7+ KB\n"
          ]
        }
      ],
      "source": [
        "marca8=archivo_marca2_10['marca 8'].copy()\n",
        "marca8=marca8.drop(columns=['Area','Unnamed: 10','Unnamed: 11','Unnamed: 12','Unnamed: 13','Unnamed: 14','Unnamed: 15','Unnamed: 16','Unnamed: 17','Unnamed: 18','Unnamed: 19','Unnamed: 20','Unnamed: 21','Unnamed: 22','Unnamed: 23','Unnamed: 24','Unnamed: 25'])\n",
        "marca8=marca8.rename(columns={'Fecha':'fecha_de_venta','Tienda':'tienda','Ventas':'ventas','Hora entera':'hora_entera','Transacciones':'transacciones','Unidades':'unidades','# Semana':'semana','Año':'anio_entero','Mes':'mes_string'})\n",
        "marca8['marca'] = 'marca8'\n",
        "marca8['anio_entero'] = marca8['fecha_de_venta'].apply(sacar_anio)\n",
        "marca8['mes_entero'] = marca8['fecha_de_venta'].apply(sacar_mes)\n",
        "marca8['dia_entero'] = marca8['fecha_de_venta'].apply(sacar_dia)\n",
        "marca8['mes_string'] = marca8['fecha_de_venta'].dt.strftime('%B')\n",
        "marca8['semana'] = marca8['fecha_de_venta'].dt.week\n",
        "marca8['hora_entera']= marca8['hora_entera'].astype(str)\n",
        "marca8['hora_minutos'] = marca8['hora_entera']\n",
        "marca8['hora_entera'] = marca8['hora_entera'].apply(obt_horas_marca8)\n",
        "marca8['hora_minutos'] = marca8['hora_minutos'].apply(obt_horas_minutos_marca8)\n",
        "marca8.info()"
      ]
    },
    {
      "cell_type": "code",
      "execution_count": 74,
      "id": "817e4018-2b63-4504-bde9-a1be28378f2f",
      "metadata": {
        "id": "817e4018-2b63-4504-bde9-a1be28378f2f"
      },
      "outputs": [],
      "source": [
        "cols_groupby_8=['tienda','anio_entero','mes_entero','dia_entero','hora_entera']\n",
        "cols_merge_8=['tienda','anio_entero','mes_entero','dia_entero','hora_entera','semana','fecha_de_venta','marca','mes_string']"
      ]
    },
    {
      "cell_type": "code",
      "execution_count": 75,
      "id": "d088ea18-6aa2-4814-ae6a-c55e44e88f48",
      "metadata": {
        "colab": {
          "base_uri": "https://localhost:8080/"
        },
        "id": "d088ea18-6aa2-4814-ae6a-c55e44e88f48",
        "outputId": "783d248a-011c-4a82-9472-01087110e807"
      },
      "outputs": [
        {
          "name": "stdout",
          "output_type": "stream",
          "text": [
            "<class 'pandas.core.frame.DataFrame'>\n",
            "Int64Index: 2188 entries, 0 to 2187\n",
            "Data columns (total 11 columns):\n",
            " #   Column          Non-Null Count  Dtype         \n",
            "---  ------          --------------  -----         \n",
            " 0   tienda          2188 non-null   object        \n",
            " 1   anio_entero     2188 non-null   float64       \n",
            " 2   mes_entero      2188 non-null   float64       \n",
            " 3   dia_entero      2188 non-null   float64       \n",
            " 4   hora_entera     2188 non-null   object        \n",
            " 5   ventas          2188 non-null   float64       \n",
            " 6   transacciones   2188 non-null   float64       \n",
            " 7   semana          2188 non-null   float64       \n",
            " 8   fecha_de_venta  2188 non-null   datetime64[ns]\n",
            " 9   marca           2188 non-null   object        \n",
            " 10  mes_string      2188 non-null   object        \n",
            "dtypes: datetime64[ns](1), float64(6), object(4)\n",
            "memory usage: 205.1+ KB\n"
          ]
        }
      ],
      "source": [
        "marca8_conglomerado=marca8.groupby(by=cols_groupby_8).sum().drop(columns=['semana']).reset_index().merge(marca8.drop_duplicates(subset=cols_groupby_8)[cols_merge_8],how=\"left\",on=cols_groupby_8)\n",
        "marca8_conglomerado.info()"
      ]
    },
    {
      "cell_type": "code",
      "execution_count": 76,
      "id": "84564423-8530-4bf6-82f9-f3afc01cee46",
      "metadata": {
        "colab": {
          "base_uri": "https://localhost:8080/",
          "height": 313
        },
        "id": "84564423-8530-4bf6-82f9-f3afc01cee46",
        "outputId": "a7c381dd-3349-4644-cf39-60b77abcb800"
      },
      "outputs": [
        {
          "data": {
            "text/html": [
              "<div>\n",
              "<style scoped>\n",
              "    .dataframe tbody tr th:only-of-type {\n",
              "        vertical-align: middle;\n",
              "    }\n",
              "\n",
              "    .dataframe tbody tr th {\n",
              "        vertical-align: top;\n",
              "    }\n",
              "\n",
              "    .dataframe thead th {\n",
              "        text-align: right;\n",
              "    }\n",
              "</style>\n",
              "<table border=\"1\" class=\"dataframe\">\n",
              "  <thead>\n",
              "    <tr style=\"text-align: right;\">\n",
              "      <th></th>\n",
              "      <th>tienda</th>\n",
              "      <th>anio_entero</th>\n",
              "      <th>mes_entero</th>\n",
              "      <th>dia_entero</th>\n",
              "      <th>hora_entera</th>\n",
              "      <th>ventas</th>\n",
              "      <th>transacciones</th>\n",
              "      <th>semana</th>\n",
              "      <th>fecha_de_venta</th>\n",
              "      <th>marca</th>\n",
              "      <th>mes_string</th>\n",
              "    </tr>\n",
              "  </thead>\n",
              "  <tbody>\n",
              "    <tr>\n",
              "      <th>0</th>\n",
              "      <td>MARCA 8</td>\n",
              "      <td>2002.0</td>\n",
              "      <td>9.0</td>\n",
              "      <td>27.0</td>\n",
              "      <td>19</td>\n",
              "      <td>22000000.0</td>\n",
              "      <td>1.0</td>\n",
              "      <td>39.0</td>\n",
              "      <td>2002-09-27</td>\n",
              "      <td>marca8</td>\n",
              "      <td>septiembre</td>\n",
              "    </tr>\n",
              "    <tr>\n",
              "      <th>1</th>\n",
              "      <td>MARCA 8</td>\n",
              "      <td>2020.0</td>\n",
              "      <td>1.0</td>\n",
              "      <td>9.0</td>\n",
              "      <td>13</td>\n",
              "      <td>64000000.0</td>\n",
              "      <td>1.0</td>\n",
              "      <td>2.0</td>\n",
              "      <td>2020-01-09</td>\n",
              "      <td>marca8</td>\n",
              "      <td>enero</td>\n",
              "    </tr>\n",
              "    <tr>\n",
              "      <th>2</th>\n",
              "      <td>MARCA 8</td>\n",
              "      <td>2020.0</td>\n",
              "      <td>3.0</td>\n",
              "      <td>29.0</td>\n",
              "      <td>12</td>\n",
              "      <td>17000000.0</td>\n",
              "      <td>1.0</td>\n",
              "      <td>13.0</td>\n",
              "      <td>2020-03-29</td>\n",
              "      <td>marca8</td>\n",
              "      <td>marzo</td>\n",
              "    </tr>\n",
              "    <tr>\n",
              "      <th>3</th>\n",
              "      <td>MARCA 8</td>\n",
              "      <td>2021.0</td>\n",
              "      <td>1.0</td>\n",
              "      <td>3.0</td>\n",
              "      <td>14</td>\n",
              "      <td>64400000.0</td>\n",
              "      <td>2.0</td>\n",
              "      <td>53.0</td>\n",
              "      <td>2021-01-03</td>\n",
              "      <td>marca8</td>\n",
              "      <td>enero</td>\n",
              "    </tr>\n",
              "    <tr>\n",
              "      <th>4</th>\n",
              "      <td>MARCA 8</td>\n",
              "      <td>2021.0</td>\n",
              "      <td>1.0</td>\n",
              "      <td>3.0</td>\n",
              "      <td>18</td>\n",
              "      <td>55200000.0</td>\n",
              "      <td>1.0</td>\n",
              "      <td>53.0</td>\n",
              "      <td>2021-01-03</td>\n",
              "      <td>marca8</td>\n",
              "      <td>enero</td>\n",
              "    </tr>\n",
              "  </tbody>\n",
              "</table>\n",
              "</div>"
            ],
            "text/plain": [
              "    tienda  anio_entero  mes_entero  dia_entero hora_entera      ventas  \\\n",
              "0  MARCA 8       2002.0         9.0        27.0          19  22000000.0   \n",
              "1  MARCA 8       2020.0         1.0         9.0          13  64000000.0   \n",
              "2  MARCA 8       2020.0         3.0        29.0          12  17000000.0   \n",
              "3  MARCA 8       2021.0         1.0         3.0          14  64400000.0   \n",
              "4  MARCA 8       2021.0         1.0         3.0          18  55200000.0   \n",
              "\n",
              "   transacciones  semana fecha_de_venta   marca  mes_string  \n",
              "0            1.0    39.0     2002-09-27  marca8  septiembre  \n",
              "1            1.0     2.0     2020-01-09  marca8       enero  \n",
              "2            1.0    13.0     2020-03-29  marca8       marzo  \n",
              "3            2.0    53.0     2021-01-03  marca8       enero  \n",
              "4            1.0    53.0     2021-01-03  marca8       enero  "
            ]
          },
          "execution_count": 76,
          "metadata": {},
          "output_type": "execute_result"
        }
      ],
      "source": [
        "marca8_conglomerado.head()"
      ]
    },
    {
      "cell_type": "code",
      "execution_count": 77,
      "id": "e8e16187-8fa3-4e3c-8047-48af26495c58",
      "metadata": {
        "colab": {
          "base_uri": "https://localhost:8080/"
        },
        "id": "e8e16187-8fa3-4e3c-8047-48af26495c58",
        "outputId": "d12308f3-0678-4bcd-a1f9-003609158f59"
      },
      "outputs": [
        {
          "name": "stdout",
          "output_type": "stream",
          "text": [
            "<class 'pandas.core.frame.DataFrame'>\n",
            "Int64Index: 11174 entries, 0 to 11254\n",
            "Data columns (total 14 columns):\n",
            " #   Column          Non-Null Count  Dtype         \n",
            "---  ------          --------------  -----         \n",
            " 0   tienda          11174 non-null  object        \n",
            " 1   anio_entero     11174 non-null  int64         \n",
            " 2   mes_string      11174 non-null  object        \n",
            " 3   fecha_de_venta  11174 non-null  datetime64[ns]\n",
            " 4   semana          11174 non-null  int64         \n",
            " 5   hora_entera     11174 non-null  int64         \n",
            " 6   ventas_sin_iva  11174 non-null  int64         \n",
            " 7   transacciones   11173 non-null  float64       \n",
            " 8   unidades        11173 non-null  float64       \n",
            " 9   muelle          11174 non-null  object        \n",
            " 10  ventas          11174 non-null  float64       \n",
            " 11  marca           11174 non-null  object        \n",
            " 12  mes_entero      11174 non-null  int64         \n",
            " 13  dia_entero      11174 non-null  int64         \n",
            "dtypes: datetime64[ns](1), float64(3), int64(6), object(4)\n",
            "memory usage: 1.3+ MB\n"
          ]
        }
      ],
      "source": [
        "marca9= archivo_marca2_10['marca 9'].copy()\n",
        "# marca9=marca9.drop(columns=['Unnamed: 10','Unnamed: 11','Unnamed: 12'])\n",
        "marca9=marca9.rename(columns={'Fecha':'fecha_de_venta','TIenda':'tienda','Ventas sin IVA ':'ventas_sin_iva','Hora entera':'hora_entera','Transacciones':'transacciones','Unidades':'unidades','# Semana':'semana','Año':'anio_entero','Mes':'mes_string','Muelle':'muelle','Piezas':'unidades','Tickets':'transacciones'})\n",
        "marca9= marca9[~(marca9['ventas_sin_iva']==0)]\n",
        "marca9['ventas'] = marca9['ventas_sin_iva'] * 1.19\n",
        "marca9['marca'] = 'marca9'\n",
        "marca9['anio_entero'] = marca9['fecha_de_venta'].apply(sacar_anio)\n",
        "marca9['mes_entero'] = marca9['fecha_de_venta'].apply(sacar_mes)\n",
        "marca9['dia_entero'] = marca9['fecha_de_venta'].apply(sacar_dia)\n",
        "marca9['mes_string'] = marca9['fecha_de_venta'].dt.strftime('%B')\n",
        "marca9['semana'] = marca9['fecha_de_venta'].dt.week\n",
        "marca9.info()"
      ]
    },
    {
      "cell_type": "code",
      "execution_count": 78,
      "id": "6495de7f-3d89-4e6c-86c5-fc588c61c219",
      "metadata": {
        "colab": {
          "base_uri": "https://localhost:8080/",
          "height": 313
        },
        "id": "6495de7f-3d89-4e6c-86c5-fc588c61c219",
        "outputId": "35703f47-8aa8-475b-dd77-1ebe3f7b9bdc"
      },
      "outputs": [
        {
          "data": {
            "text/html": [
              "<div>\n",
              "<style scoped>\n",
              "    .dataframe tbody tr th:only-of-type {\n",
              "        vertical-align: middle;\n",
              "    }\n",
              "\n",
              "    .dataframe tbody tr th {\n",
              "        vertical-align: top;\n",
              "    }\n",
              "\n",
              "    .dataframe thead th {\n",
              "        text-align: right;\n",
              "    }\n",
              "</style>\n",
              "<table border=\"1\" class=\"dataframe\">\n",
              "  <thead>\n",
              "    <tr style=\"text-align: right;\">\n",
              "      <th></th>\n",
              "      <th>tienda</th>\n",
              "      <th>anio_entero</th>\n",
              "      <th>mes_string</th>\n",
              "      <th>fecha_de_venta</th>\n",
              "      <th>semana</th>\n",
              "      <th>hora_entera</th>\n",
              "      <th>ventas_sin_iva</th>\n",
              "      <th>transacciones</th>\n",
              "      <th>unidades</th>\n",
              "      <th>muelle</th>\n",
              "      <th>ventas</th>\n",
              "      <th>marca</th>\n",
              "      <th>mes_entero</th>\n",
              "      <th>dia_entero</th>\n",
              "    </tr>\n",
              "  </thead>\n",
              "  <tbody>\n",
              "    <tr>\n",
              "      <th>0</th>\n",
              "      <td>MARCA 9</td>\n",
              "      <td>2022</td>\n",
              "      <td>enero</td>\n",
              "      <td>2022-01-02</td>\n",
              "      <td>52</td>\n",
              "      <td>5</td>\n",
              "      <td>11425940</td>\n",
              "      <td>18.0</td>\n",
              "      <td>40.0</td>\n",
              "      <td>Internacional Oriente</td>\n",
              "      <td>13596868.6</td>\n",
              "      <td>marca9</td>\n",
              "      <td>1</td>\n",
              "      <td>2</td>\n",
              "    </tr>\n",
              "    <tr>\n",
              "      <th>1</th>\n",
              "      <td>MARCA 9</td>\n",
              "      <td>2022</td>\n",
              "      <td>enero</td>\n",
              "      <td>2022-01-02</td>\n",
              "      <td>52</td>\n",
              "      <td>6</td>\n",
              "      <td>3070280</td>\n",
              "      <td>6.0</td>\n",
              "      <td>8.0</td>\n",
              "      <td>Internacional Oriente</td>\n",
              "      <td>3653633.2</td>\n",
              "      <td>marca9</td>\n",
              "      <td>1</td>\n",
              "      <td>2</td>\n",
              "    </tr>\n",
              "    <tr>\n",
              "      <th>2</th>\n",
              "      <td>MARCA 9</td>\n",
              "      <td>2022</td>\n",
              "      <td>enero</td>\n",
              "      <td>2022-01-02</td>\n",
              "      <td>52</td>\n",
              "      <td>7</td>\n",
              "      <td>13548300</td>\n",
              "      <td>20.0</td>\n",
              "      <td>58.0</td>\n",
              "      <td>Internacional Oriente</td>\n",
              "      <td>16122477.0</td>\n",
              "      <td>marca9</td>\n",
              "      <td>1</td>\n",
              "      <td>2</td>\n",
              "    </tr>\n",
              "    <tr>\n",
              "      <th>3</th>\n",
              "      <td>MARCA 9</td>\n",
              "      <td>2022</td>\n",
              "      <td>enero</td>\n",
              "      <td>2022-01-02</td>\n",
              "      <td>52</td>\n",
              "      <td>8</td>\n",
              "      <td>2982360</td>\n",
              "      <td>7.0</td>\n",
              "      <td>11.0</td>\n",
              "      <td>Internacional Oriente</td>\n",
              "      <td>3549008.4</td>\n",
              "      <td>marca9</td>\n",
              "      <td>1</td>\n",
              "      <td>2</td>\n",
              "    </tr>\n",
              "    <tr>\n",
              "      <th>4</th>\n",
              "      <td>MARCA 9</td>\n",
              "      <td>2022</td>\n",
              "      <td>enero</td>\n",
              "      <td>2022-01-02</td>\n",
              "      <td>52</td>\n",
              "      <td>9</td>\n",
              "      <td>4048960</td>\n",
              "      <td>6.0</td>\n",
              "      <td>15.0</td>\n",
              "      <td>Internacional Oriente</td>\n",
              "      <td>4818262.4</td>\n",
              "      <td>marca9</td>\n",
              "      <td>1</td>\n",
              "      <td>2</td>\n",
              "    </tr>\n",
              "  </tbody>\n",
              "</table>\n",
              "</div>"
            ],
            "text/plain": [
              "    tienda  anio_entero mes_string fecha_de_venta  semana  hora_entera  \\\n",
              "0  MARCA 9         2022      enero     2022-01-02      52            5   \n",
              "1  MARCA 9         2022      enero     2022-01-02      52            6   \n",
              "2  MARCA 9         2022      enero     2022-01-02      52            7   \n",
              "3  MARCA 9         2022      enero     2022-01-02      52            8   \n",
              "4  MARCA 9         2022      enero     2022-01-02      52            9   \n",
              "\n",
              "   ventas_sin_iva  transacciones  unidades                 muelle      ventas  \\\n",
              "0        11425940           18.0      40.0  Internacional Oriente  13596868.6   \n",
              "1         3070280            6.0       8.0  Internacional Oriente   3653633.2   \n",
              "2        13548300           20.0      58.0  Internacional Oriente  16122477.0   \n",
              "3         2982360            7.0      11.0  Internacional Oriente   3549008.4   \n",
              "4         4048960            6.0      15.0  Internacional Oriente   4818262.4   \n",
              "\n",
              "    marca  mes_entero  dia_entero  \n",
              "0  marca9           1           2  \n",
              "1  marca9           1           2  \n",
              "2  marca9           1           2  \n",
              "3  marca9           1           2  \n",
              "4  marca9           1           2  "
            ]
          },
          "execution_count": 78,
          "metadata": {},
          "output_type": "execute_result"
        }
      ],
      "source": [
        "marca9.head()"
      ]
    },
    {
      "cell_type": "code",
      "execution_count": 79,
      "id": "f5d2f212-f105-49e9-8b27-f7e8481ba572",
      "metadata": {
        "colab": {
          "base_uri": "https://localhost:8080/"
        },
        "id": "f5d2f212-f105-49e9-8b27-f7e8481ba572",
        "outputId": "f11ea5ba-af65-4ab9-edf6-82d404cff1c4"
      },
      "outputs": [
        {
          "name": "stdout",
          "output_type": "stream",
          "text": [
            "<class 'pandas.core.frame.DataFrame'>\n",
            "RangeIndex: 4575 entries, 0 to 4574\n",
            "Data columns (total 16 columns):\n",
            " #   Column          Non-Null Count  Dtype         \n",
            "---  ------          --------------  -----         \n",
            " 0   categoria       4575 non-null   object        \n",
            " 1   unidades        4575 non-null   int64         \n",
            " 2   ventas          4575 non-null   int64         \n",
            " 3   ventas_sin_iva  4575 non-null   int32         \n",
            " 4   transacciones   4575 non-null   int64         \n",
            " 5   fecha_de_venta  4575 non-null   datetime64[ns]\n",
            " 6   hora_minutos    4575 non-null   object        \n",
            " 7   hora_entera     4575 non-null   int64         \n",
            " 8   muelle          4575 non-null   object        \n",
            " 9   tienda          4575 non-null   object        \n",
            " 10  marca           4575 non-null   object        \n",
            " 11  anio_entero     4575 non-null   int64         \n",
            " 12  mes_entero      4575 non-null   int64         \n",
            " 13  dia_entero      4575 non-null   int64         \n",
            " 14  mes_string      4575 non-null   object        \n",
            " 15  semana          4575 non-null   int64         \n",
            "dtypes: datetime64[ns](1), int32(1), int64(8), object(6)\n",
            "memory usage: 554.1+ KB\n"
          ]
        }
      ],
      "source": [
        "marca10= archivo_marca2_10['marca 10'].copy()\n",
        "marca10= marca10.drop(columns=['Factura'])\n",
        "marca10=marca10.rename(columns={'Fecha':'fecha_de_venta','Tienda':'tienda','Ventas':'ventas','Hora entera':'hora_entera','Transacciones':'transacciones','Unidades':'unidades','Muelle':'muelle','Department':'departamento','Category':'categoria','Total (Tax Ex)':'ventas_sin_iva','Hora':'hora_minutos'})\n",
        "marca10= marca10.drop(columns=['departamento'])\n",
        "marca10['marca'] = 'marca10'\n",
        "marca10['anio_entero'] = marca10['fecha_de_venta'].apply(sacar_anio)\n",
        "marca10['mes_entero'] = marca10['fecha_de_venta'].apply(sacar_mes)\n",
        "marca10['dia_entero'] = marca10['fecha_de_venta'].apply(sacar_dia)\n",
        "marca10['mes_string'] = marca10['fecha_de_venta'].dt.strftime('%B')\n",
        "marca10['semana'] = marca10['fecha_de_venta'].dt.week\n",
        "marca10['hora_minutos'] = marca10['hora_minutos'].astype(str)\n",
        "marca10['hora_minutos'] = marca10['hora_minutos'].apply(obt_horas_minutos_marca10)\n",
        "marca10['ventas_sin_iva']=marca10['ventas_sin_iva'].astype(int)\n",
        "marca10.info()"
      ]
    },
    {
      "cell_type": "code",
      "execution_count": 80,
      "id": "4dea62e2-2502-44bb-b427-a2ab39b85407",
      "metadata": {
        "id": "4dea62e2-2502-44bb-b427-a2ab39b85407"
      },
      "outputs": [],
      "source": [
        "marca10['categoria']=marca10['categoria'].str.lower()"
      ]
    },
    {
      "cell_type": "code",
      "execution_count": 81,
      "id": "ba71fab8-3c65-4369-be71-59a54c952b89",
      "metadata": {
        "colab": {
          "base_uri": "https://localhost:8080/"
        },
        "id": "ba71fab8-3c65-4369-be71-59a54c952b89",
        "outputId": "54dec963-ce7b-42b5-c30b-9bcacb22269a"
      },
      "outputs": [
        {
          "data": {
            "text/plain": [
              "array(['categoria 9', 'categoria 1', 'categoria 2', 'categoria 3',\n",
              "       'categoria 4', 'categoria 5', 'categoria 6', 'categoria 7',\n",
              "       'categoria 8', 'categoria 10', 'categoria 11', 'categoria 12',\n",
              "       'categoria 13', 'categoria 14', 'categoria 15', 'categoria 16',\n",
              "       'categoria 17', 'categoria 18', 'categoria 19', 'categoria 20',\n",
              "       'categoria 21', 'categoria 22', 'categoria 23', 'categoria 24',\n",
              "       'categoria 25', 'categoria 26', 'categoria 27', 'categoria 28',\n",
              "       'categoria 29', 'categoria 30', 'categoria 31', 'categoria 32',\n",
              "       'categoria 33', 'categoria 34', 'categoria 35', 'categoria 36',\n",
              "       'categoria 37', 'categoria 38', 'categoria 39', 'categoria 40',\n",
              "       'categoria 41', 'categoria 42', 'categoria 43', 'categoria 44',\n",
              "       'categoria 45', 'categoria 46', 'categoria 47', 'categoria 48',\n",
              "       'categoria 49', 'categoria 50', 'categoria 51', 'categoria 52',\n",
              "       'categoria 53', 'categoria 54', 'categoria 55', 'categoria 56',\n",
              "       'categoria 57', 'categoria 58', 'categoria 59', 'categoria 60',\n",
              "       'categoria 61', 'categoria 62', 'categoria 63', 'categoria 64',\n",
              "       'categoria 65', 'categoria 66', 'categoria 67', 'categoria 68',\n",
              "       'categoria 69', 'categoria 70', 'categoria 71', 'categoria 72',\n",
              "       'categoria 73', 'categoria 74', 'categoria 75', 'categoria 76',\n",
              "       'categoria 77', 'categoria 78', 'categoria 79', 'categoria 80',\n",
              "       'categoria 81', 'categoria 82', 'categoria 83', 'categoria 84',\n",
              "       'categoria 85', 'categoria 86', 'categoria 87', 'categoria 88',\n",
              "       'categoria 89', 'categoria 90', 'categoria 91', 'categoria 92',\n",
              "       'categoria 93', 'categoria 94', 'categoria 95', 'categoria 96',\n",
              "       'categoria 97', 'categoria 98', 'categoria 99', 'categoria 100',\n",
              "       'categoria 101', 'categoria 102', 'categoria 103'], dtype=object)"
            ]
          },
          "execution_count": 81,
          "metadata": {},
          "output_type": "execute_result"
        }
      ],
      "source": [
        "marca10['categoria'].unique()"
      ]
    },
    {
      "cell_type": "code",
      "execution_count": 82,
      "id": "c67b1478-42fd-4d60-bd6d-5c2857de1290",
      "metadata": {
        "colab": {
          "base_uri": "https://localhost:8080/"
        },
        "id": "c67b1478-42fd-4d60-bd6d-5c2857de1290",
        "outputId": "e46cd60c-fd45-4811-d151-8344519ffd0b"
      },
      "outputs": [
        {
          "name": "stdout",
          "output_type": "stream",
          "text": [
            "<class 'pandas.core.frame.DataFrame'>\n",
            "RangeIndex: 4575 entries, 0 to 4574\n",
            "Columns: 103 entries, categoria 1 to categoria 99\n",
            "dtypes: uint8(103)\n",
            "memory usage: 460.3 KB\n"
          ]
        }
      ],
      "source": [
        "marca10_dummies_cat = pd.get_dummies(marca10.categoria)\n",
        "marca10_dummies_cat.info()"
      ]
    },
    {
      "cell_type": "code",
      "execution_count": 83,
      "id": "f78d7c6d-2361-4ea5-bae2-5910e18c70af",
      "metadata": {
        "colab": {
          "base_uri": "https://localhost:8080/",
          "height": 417
        },
        "id": "f78d7c6d-2361-4ea5-bae2-5910e18c70af",
        "outputId": "ec8fa5d1-b42e-4d90-98c2-4daf434328d2"
      },
      "outputs": [
        {
          "data": {
            "text/html": [
              "<div>\n",
              "<style scoped>\n",
              "    .dataframe tbody tr th:only-of-type {\n",
              "        vertical-align: middle;\n",
              "    }\n",
              "\n",
              "    .dataframe tbody tr th {\n",
              "        vertical-align: top;\n",
              "    }\n",
              "\n",
              "    .dataframe thead th {\n",
              "        text-align: right;\n",
              "    }\n",
              "</style>\n",
              "<table border=\"1\" class=\"dataframe\">\n",
              "  <thead>\n",
              "    <tr style=\"text-align: right;\">\n",
              "      <th></th>\n",
              "      <th>categoria</th>\n",
              "      <th>unidades</th>\n",
              "      <th>ventas</th>\n",
              "      <th>ventas_sin_iva</th>\n",
              "      <th>transacciones</th>\n",
              "      <th>fecha_de_venta</th>\n",
              "      <th>hora_minutos</th>\n",
              "      <th>hora_entera</th>\n",
              "      <th>muelle</th>\n",
              "      <th>tienda</th>\n",
              "      <th>marca</th>\n",
              "      <th>anio_entero</th>\n",
              "      <th>mes_entero</th>\n",
              "      <th>dia_entero</th>\n",
              "      <th>mes_string</th>\n",
              "      <th>semana</th>\n",
              "      <th>categoria 1</th>\n",
              "      <th>categoria 10</th>\n",
              "      <th>categoria 100</th>\n",
              "      <th>categoria 101</th>\n",
              "    </tr>\n",
              "  </thead>\n",
              "  <tbody>\n",
              "    <tr>\n",
              "      <th>0</th>\n",
              "      <td>categoria 9</td>\n",
              "      <td>1</td>\n",
              "      <td>4238400</td>\n",
              "      <td>3561680</td>\n",
              "      <td>1</td>\n",
              "      <td>2022-09-16</td>\n",
              "      <td>54:45</td>\n",
              "      <td>13</td>\n",
              "      <td>A Internacional Oriente</td>\n",
              "      <td>marca 10</td>\n",
              "      <td>marca10</td>\n",
              "      <td>2022</td>\n",
              "      <td>9</td>\n",
              "      <td>16</td>\n",
              "      <td>septiembre</td>\n",
              "      <td>37</td>\n",
              "      <td>0</td>\n",
              "      <td>0</td>\n",
              "      <td>0</td>\n",
              "      <td>0</td>\n",
              "    </tr>\n",
              "    <tr>\n",
              "      <th>1</th>\n",
              "      <td>categoria 1</td>\n",
              "      <td>1</td>\n",
              "      <td>2988700</td>\n",
              "      <td>2511512</td>\n",
              "      <td>1</td>\n",
              "      <td>2022-09-16</td>\n",
              "      <td>22:54</td>\n",
              "      <td>14</td>\n",
              "      <td>A Internacional Oriente</td>\n",
              "      <td>marca 10</td>\n",
              "      <td>marca10</td>\n",
              "      <td>2022</td>\n",
              "      <td>9</td>\n",
              "      <td>16</td>\n",
              "      <td>septiembre</td>\n",
              "      <td>37</td>\n",
              "      <td>1</td>\n",
              "      <td>0</td>\n",
              "      <td>0</td>\n",
              "      <td>0</td>\n",
              "    </tr>\n",
              "    <tr>\n",
              "      <th>2</th>\n",
              "      <td>categoria 2</td>\n",
              "      <td>1</td>\n",
              "      <td>2398400</td>\n",
              "      <td>2015462</td>\n",
              "      <td>1</td>\n",
              "      <td>2022-09-16</td>\n",
              "      <td>19:46</td>\n",
              "      <td>15</td>\n",
              "      <td>A Internacional Oriente</td>\n",
              "      <td>marca 10</td>\n",
              "      <td>marca10</td>\n",
              "      <td>2022</td>\n",
              "      <td>9</td>\n",
              "      <td>16</td>\n",
              "      <td>septiembre</td>\n",
              "      <td>37</td>\n",
              "      <td>0</td>\n",
              "      <td>0</td>\n",
              "      <td>0</td>\n",
              "      <td>0</td>\n",
              "    </tr>\n",
              "    <tr>\n",
              "      <th>3</th>\n",
              "      <td>categoria 3</td>\n",
              "      <td>1</td>\n",
              "      <td>2800000</td>\n",
              "      <td>2352941</td>\n",
              "      <td>0</td>\n",
              "      <td>2022-09-16</td>\n",
              "      <td>19:46</td>\n",
              "      <td>15</td>\n",
              "      <td>A Internacional Oriente</td>\n",
              "      <td>marca 10</td>\n",
              "      <td>marca10</td>\n",
              "      <td>2022</td>\n",
              "      <td>9</td>\n",
              "      <td>16</td>\n",
              "      <td>septiembre</td>\n",
              "      <td>37</td>\n",
              "      <td>0</td>\n",
              "      <td>0</td>\n",
              "      <td>0</td>\n",
              "      <td>0</td>\n",
              "    </tr>\n",
              "    <tr>\n",
              "      <th>4</th>\n",
              "      <td>categoria 4</td>\n",
              "      <td>1</td>\n",
              "      <td>2398400</td>\n",
              "      <td>2015462</td>\n",
              "      <td>1</td>\n",
              "      <td>2022-09-16</td>\n",
              "      <td>55:05</td>\n",
              "      <td>19</td>\n",
              "      <td>A Internacional Oriente</td>\n",
              "      <td>marca 10</td>\n",
              "      <td>marca10</td>\n",
              "      <td>2022</td>\n",
              "      <td>9</td>\n",
              "      <td>16</td>\n",
              "      <td>septiembre</td>\n",
              "      <td>37</td>\n",
              "      <td>0</td>\n",
              "      <td>0</td>\n",
              "      <td>0</td>\n",
              "      <td>0</td>\n",
              "    </tr>\n",
              "  </tbody>\n",
              "</table>\n",
              "</div>"
            ],
            "text/plain": [
              "     categoria  unidades   ventas  ventas_sin_iva  transacciones  \\\n",
              "0  categoria 9         1  4238400         3561680              1   \n",
              "1  categoria 1         1  2988700         2511512              1   \n",
              "2  categoria 2         1  2398400         2015462              1   \n",
              "3  categoria 3         1  2800000         2352941              0   \n",
              "4  categoria 4         1  2398400         2015462              1   \n",
              "\n",
              "  fecha_de_venta hora_minutos  hora_entera                   muelle    tienda  \\\n",
              "0     2022-09-16        54:45           13  A Internacional Oriente  marca 10   \n",
              "1     2022-09-16        22:54           14  A Internacional Oriente  marca 10   \n",
              "2     2022-09-16        19:46           15  A Internacional Oriente  marca 10   \n",
              "3     2022-09-16        19:46           15  A Internacional Oriente  marca 10   \n",
              "4     2022-09-16        55:05           19  A Internacional Oriente  marca 10   \n",
              "\n",
              "     marca  anio_entero  mes_entero  dia_entero  mes_string  semana  \\\n",
              "0  marca10         2022           9          16  septiembre      37   \n",
              "1  marca10         2022           9          16  septiembre      37   \n",
              "2  marca10         2022           9          16  septiembre      37   \n",
              "3  marca10         2022           9          16  septiembre      37   \n",
              "4  marca10         2022           9          16  septiembre      37   \n",
              "\n",
              "   categoria 1  categoria 10  categoria 100  categoria 101  \n",
              "0            0             0              0              0  \n",
              "1            1             0              0              0  \n",
              "2            0             0              0              0  \n",
              "3            0             0              0              0  \n",
              "4            0             0              0              0  "
            ]
          },
          "execution_count": 83,
          "metadata": {},
          "output_type": "execute_result"
        }
      ],
      "source": [
        "marca10=pd.concat([marca10,marca10_dummies_cat],axis=1)\n",
        "marca10.iloc[:,:20].head()"
      ]
    },
    {
      "cell_type": "code",
      "execution_count": 84,
      "id": "ebad5acf-7c26-4f93-89df-518335369ad0",
      "metadata": {
        "id": "ebad5acf-7c26-4f93-89df-518335369ad0"
      },
      "outputs": [],
      "source": [
        "# marca10.iloc[:,:2]"
      ]
    },
    {
      "cell_type": "code",
      "execution_count": 85,
      "id": "cc668ef5-ea37-4633-ade4-fe3f5e1ca550",
      "metadata": {
        "id": "cc668ef5-ea37-4633-ade4-fe3f5e1ca550"
      },
      "outputs": [],
      "source": [
        "cols_groupby_10=['tienda','anio_entero','mes_entero','dia_entero','hora_entera']\n",
        "cols_merge_10=['tienda','anio_entero','mes_entero','dia_entero','hora_entera','semana','fecha_de_venta','marca','mes_string']"
      ]
    },
    {
      "cell_type": "code",
      "execution_count": 86,
      "id": "2bbff8e0-ebc2-4221-a830-bed03f0929a6",
      "metadata": {
        "colab": {
          "base_uri": "https://localhost:8080/"
        },
        "id": "2bbff8e0-ebc2-4221-a830-bed03f0929a6",
        "outputId": "1b348a3e-90b9-481a-d28b-70e6d6f6a498"
      },
      "outputs": [
        {
          "name": "stdout",
          "output_type": "stream",
          "text": [
            "<class 'pandas.core.frame.DataFrame'>\n",
            "Int64Index: 2033 entries, 0 to 2032\n",
            "Columns: 116 entries, tienda to mes_string\n",
            "dtypes: datetime64[ns](1), int32(1), int64(8), object(3), uint8(103)\n",
            "memory usage: 418.9+ KB\n"
          ]
        }
      ],
      "source": [
        "marca10_conglomerado=marca10.groupby(by=cols_groupby_10).sum().drop(columns=['semana']).reset_index().merge(marca10.drop_duplicates(subset=cols_groupby_10)[cols_merge_10],how=\"left\",on=cols_groupby_10)\n",
        "marca10_conglomerado.info()"
      ]
    },
    {
      "cell_type": "code",
      "execution_count": 87,
      "id": "5b8de299-757e-40c5-8e1f-132acceecb47",
      "metadata": {
        "colab": {
          "base_uri": "https://localhost:8080/"
        },
        "id": "5b8de299-757e-40c5-8e1f-132acceecb47",
        "outputId": "8c4e110f-736b-45ab-bbf5-18f86e01026e"
      },
      "outputs": [
        {
          "name": "stdout",
          "output_type": "stream",
          "text": [
            "<class 'pandas.core.frame.DataFrame'>\n",
            "Int64Index: 2033 entries, 0 to 2032\n",
            "Data columns (total 20 columns):\n",
            " #   Column          Non-Null Count  Dtype \n",
            "---  ------          --------------  ----- \n",
            " 0   tienda          2033 non-null   object\n",
            " 1   anio_entero     2033 non-null   int64 \n",
            " 2   mes_entero      2033 non-null   int64 \n",
            " 3   dia_entero      2033 non-null   int64 \n",
            " 4   hora_entera     2033 non-null   int64 \n",
            " 5   unidades        2033 non-null   int64 \n",
            " 6   ventas          2033 non-null   int64 \n",
            " 7   ventas_sin_iva  2033 non-null   int32 \n",
            " 8   transacciones   2033 non-null   int64 \n",
            " 9   categoria 1     2033 non-null   uint8 \n",
            " 10  categoria 10    2033 non-null   uint8 \n",
            " 11  categoria 100   2033 non-null   uint8 \n",
            " 12  categoria 101   2033 non-null   uint8 \n",
            " 13  categoria 102   2033 non-null   uint8 \n",
            " 14  categoria 103   2033 non-null   uint8 \n",
            " 15  categoria 11    2033 non-null   uint8 \n",
            " 16  categoria 12    2033 non-null   uint8 \n",
            " 17  categoria 13    2033 non-null   uint8 \n",
            " 18  categoria 14    2033 non-null   uint8 \n",
            " 19  categoria 15    2033 non-null   uint8 \n",
            "dtypes: int32(1), int64(7), object(1), uint8(11)\n",
            "memory usage: 172.7+ KB\n"
          ]
        }
      ],
      "source": [
        "marca10_conglomerado.iloc[:,:20].info()"
      ]
    },
    {
      "cell_type": "code",
      "execution_count": 88,
      "id": "6531bdec-8364-4748-b715-bb5a2546e37c",
      "metadata": {
        "colab": {
          "base_uri": "https://localhost:8080/",
          "height": 330
        },
        "id": "6531bdec-8364-4748-b715-bb5a2546e37c",
        "outputId": "4e7dc3be-3a8d-41e6-c4c0-207e012bbb00"
      },
      "outputs": [
        {
          "data": {
            "text/html": [
              "<div>\n",
              "<style scoped>\n",
              "    .dataframe tbody tr th:only-of-type {\n",
              "        vertical-align: middle;\n",
              "    }\n",
              "\n",
              "    .dataframe tbody tr th {\n",
              "        vertical-align: top;\n",
              "    }\n",
              "\n",
              "    .dataframe thead th {\n",
              "        text-align: right;\n",
              "    }\n",
              "</style>\n",
              "<table border=\"1\" class=\"dataframe\">\n",
              "  <thead>\n",
              "    <tr style=\"text-align: right;\">\n",
              "      <th></th>\n",
              "      <th>tienda</th>\n",
              "      <th>anio_entero</th>\n",
              "      <th>mes_entero</th>\n",
              "      <th>dia_entero</th>\n",
              "      <th>hora_entera</th>\n",
              "      <th>unidades</th>\n",
              "      <th>ventas</th>\n",
              "      <th>ventas_sin_iva</th>\n",
              "      <th>transacciones</th>\n",
              "      <th>categoria 1</th>\n",
              "    </tr>\n",
              "  </thead>\n",
              "  <tbody>\n",
              "    <tr>\n",
              "      <th>0</th>\n",
              "      <td>marca 10</td>\n",
              "      <td>2022</td>\n",
              "      <td>9</td>\n",
              "      <td>16</td>\n",
              "      <td>13</td>\n",
              "      <td>1</td>\n",
              "      <td>4238400</td>\n",
              "      <td>3561680</td>\n",
              "      <td>1</td>\n",
              "      <td>0</td>\n",
              "    </tr>\n",
              "    <tr>\n",
              "      <th>1</th>\n",
              "      <td>marca 10</td>\n",
              "      <td>2022</td>\n",
              "      <td>9</td>\n",
              "      <td>16</td>\n",
              "      <td>14</td>\n",
              "      <td>1</td>\n",
              "      <td>2988700</td>\n",
              "      <td>2511512</td>\n",
              "      <td>1</td>\n",
              "      <td>1</td>\n",
              "    </tr>\n",
              "    <tr>\n",
              "      <th>2</th>\n",
              "      <td>marca 10</td>\n",
              "      <td>2022</td>\n",
              "      <td>9</td>\n",
              "      <td>16</td>\n",
              "      <td>15</td>\n",
              "      <td>2</td>\n",
              "      <td>5198400</td>\n",
              "      <td>4368403</td>\n",
              "      <td>1</td>\n",
              "      <td>0</td>\n",
              "    </tr>\n",
              "    <tr>\n",
              "      <th>3</th>\n",
              "      <td>marca 10</td>\n",
              "      <td>2022</td>\n",
              "      <td>9</td>\n",
              "      <td>16</td>\n",
              "      <td>19</td>\n",
              "      <td>1</td>\n",
              "      <td>2398400</td>\n",
              "      <td>2015462</td>\n",
              "      <td>1</td>\n",
              "      <td>0</td>\n",
              "    </tr>\n",
              "    <tr>\n",
              "      <th>4</th>\n",
              "      <td>marca 10</td>\n",
              "      <td>2022</td>\n",
              "      <td>9</td>\n",
              "      <td>16</td>\n",
              "      <td>20</td>\n",
              "      <td>4</td>\n",
              "      <td>15278400</td>\n",
              "      <td>12838991</td>\n",
              "      <td>3</td>\n",
              "      <td>0</td>\n",
              "    </tr>\n",
              "  </tbody>\n",
              "</table>\n",
              "</div>"
            ],
            "text/plain": [
              "     tienda  anio_entero  mes_entero  dia_entero  hora_entera  unidades  \\\n",
              "0  marca 10         2022           9          16           13         1   \n",
              "1  marca 10         2022           9          16           14         1   \n",
              "2  marca 10         2022           9          16           15         2   \n",
              "3  marca 10         2022           9          16           19         1   \n",
              "4  marca 10         2022           9          16           20         4   \n",
              "\n",
              "     ventas  ventas_sin_iva  transacciones  categoria 1  \n",
              "0   4238400         3561680              1            0  \n",
              "1   2988700         2511512              1            1  \n",
              "2   5198400         4368403              1            0  \n",
              "3   2398400         2015462              1            0  \n",
              "4  15278400        12838991              3            0  "
            ]
          },
          "execution_count": 88,
          "metadata": {},
          "output_type": "execute_result"
        }
      ],
      "source": [
        "marca10_conglomerado.iloc[:,:10].head()"
      ]
    },
    {
      "cell_type": "code",
      "execution_count": 89,
      "id": "e3f5368a-eb9f-4cd6-85aa-a19c6f442b0c",
      "metadata": {
        "colab": {
          "base_uri": "https://localhost:8080/"
        },
        "id": "e3f5368a-eb9f-4cd6-85aa-a19c6f442b0c",
        "outputId": "5e6e3227-3612-4c33-f16d-2fd17f05af4d"
      },
      "outputs": [
        {
          "data": {
            "text/plain": [
              "array([1, 3, 5, 2, 4, 6, 7], dtype=int64)"
            ]
          },
          "execution_count": 89,
          "metadata": {},
          "output_type": "execute_result"
        }
      ],
      "source": [
        "marca10_conglomerado['transacciones'].unique()"
      ]
    },
    {
      "cell_type": "markdown",
      "id": "5d1c9d09",
      "metadata": {},
      "source": [
        "# Limpieza datos final"
      ]
    },
    {
      "cell_type": "code",
      "execution_count": 90,
      "id": "9f27aaa9-5b42-4f25-877c-4d13248328d4",
      "metadata": {
        "colab": {
          "base_uri": "https://localhost:8080/"
        },
        "id": "9f27aaa9-5b42-4f25-877c-4d13248328d4",
        "outputId": "c00c9846-2dd8-4712-e899-fa7cbd87792b"
      },
      "outputs": [
        {
          "name": "stdout",
          "output_type": "stream",
          "text": [
            "<class 'pandas.core.frame.DataFrame'>\n",
            "Int64Index: 246221 entries, 0 to 2032\n",
            "Data columns (total 100 columns):\n",
            " #   Column                      Non-Null Count   Dtype         \n",
            "---  ------                      --------------   -----         \n",
            " 0   fecha_de_venta              246221 non-null  datetime64[ns]\n",
            " 1   tienda                      246221 non-null  object        \n",
            " 2   ventas                      246221 non-null  float64       \n",
            " 3   muelle                      153526 non-null  object        \n",
            " 4   hora_entera                 246133 non-null  object        \n",
            " 5   transacciones               246132 non-null  float64       \n",
            " 6   semana                      246221 non-null  float64       \n",
            " 7   anio_entero                 246221 non-null  float64       \n",
            " 8   mes_entero                  246221 non-null  float64       \n",
            " 9   dia_entero                  246221 non-null  float64       \n",
            " 10  mes_string                  246221 non-null  object        \n",
            " 11  marca                       246221 non-null  object        \n",
            " 12  unidades                    160662 non-null  float64       \n",
            " 13  accesorios                  79358 non-null   float64       \n",
            " 14  comida                      97124 non-null   float64       \n",
            " 15  cuidado personal            97124 non-null   float64       \n",
            " 16  golosinas                   97124 non-null   float64       \n",
            " 17  juegos y juguetes           97124 non-null   float64       \n",
            " 18  libros                      97124 non-null   float64       \n",
            " 19  lujo                        79358 non-null   float64       \n",
            " 20  miscelanea                  79358 non-null   float64       \n",
            " 21  perfumería                  79358 non-null   float64       \n",
            " 22  souvenirs                   97124 non-null   float64       \n",
            " 23  tecnologia                  97124 non-null   float64       \n",
            " 24  textiles de regalo          97124 non-null   float64       \n",
            " 25  vicios                      97124 non-null   float64       \n",
            " 26  tipo_de_tienda              79358 non-null   object        \n",
            " 27  ventas_sin_iva              30973 non-null   float64       \n",
            " 28  precio_bruto_total          17766 non-null   float64       \n",
            " 29  impuesto_total              17766 non-null   float64       \n",
            " 30  descuento_total             17766 non-null   float64       \n",
            " 31  alimentos y bebidas retail  17766 non-null   float64       \n",
            " 32  artesanias                  17766 non-null   float64       \n",
            " 33  articulos de viaje          17766 non-null   float64       \n",
            " 34  cafe                        28738 non-null   float64       \n",
            " 35  complementos cafe           17766 non-null   float64       \n",
            " 36  joyeria                     17766 non-null   float64       \n",
            " 37  productos de papel          17766 non-null   float64       \n",
            " 38  reposteria dulce            17766 non-null   float64       \n",
            " 39  revistas y periodicos       17766 non-null   float64       \n",
            " 40  textiles de playa           17766 non-null   float64       \n",
            " 41  descripcion                 10972 non-null   float64       \n",
            " 42  objeto1                     10972 non-null   object        \n",
            " 43  objeto2                     10972 non-null   object        \n",
            " 44  objeto3                     10972 non-null   object        \n",
            " 45  objeto4                     10972 non-null   object        \n",
            " 46  objeto5                     10972 non-null   object        \n",
            " 47  maleta                      10972 non-null   float64       \n",
            " 48  cruzado                     10972 non-null   float64       \n",
            " 49  morral                      10972 non-null   float64       \n",
            " 50  almohada                    10972 non-null   float64       \n",
            " 51  billetera                   10972 non-null   float64       \n",
            " 52  limpiador                   10972 non-null   float64       \n",
            " 53  portadocumentos             10972 non-null   float64       \n",
            " 54  ruana                       10972 non-null   float64       \n",
            " 55  manos libres                10972 non-null   float64       \n",
            " 56  bolso                       10972 non-null   float64       \n",
            " 57  chaqueta                    10972 non-null   float64       \n",
            " 58  canguro                     10972 non-null   float64       \n",
            " 59  tapaboca                    10972 non-null   float64       \n",
            " 60  tacon                       10972 non-null   float64       \n",
            " 61  shoulder                    10972 non-null   float64       \n",
            " 62  mocasin                     10972 non-null   float64       \n",
            " 63  aguadeño                    10972 non-null   float64       \n",
            " 64  cosmetiquero                10972 non-null   float64       \n",
            " 65  carriel                     10972 non-null   float64       \n",
            " 66  pañoleta                    10972 non-null   float64       \n",
            " 67  accesorio                   10972 non-null   float64       \n",
            " 68  maleta de viaje             10972 non-null   float64       \n",
            " 69  cinturon                    10972 non-null   float64       \n",
            " 70  sandalia                    10972 non-null   float64       \n",
            " 71  gafa                        10972 non-null   float64       \n",
            " 72  fragancia                   10972 non-null   float64       \n",
            " 73  bolso de viaje              10972 non-null   float64       \n",
            " 74  calzado                     10972 non-null   float64       \n",
            " 75  camiseta                    10972 non-null   float64       \n",
            " 76  media                       10972 non-null   float64       \n",
            " 77  tarjetero                   10972 non-null   float64       \n",
            " 78  estuche                     10972 non-null   float64       \n",
            " 79  capa                        10972 non-null   float64       \n",
            " 80  cartuchera                  10972 non-null   float64       \n",
            " 81  joya                        10972 non-null   float64       \n",
            " 82  sombrero                    10972 non-null   float64       \n",
            " 83  zapato                      10972 non-null   float64       \n",
            " 84  libro                       10972 non-null   float64       \n",
            " 85  monedero                    10972 non-null   float64       \n",
            " 86  neceser                     10972 non-null   float64       \n",
            " 87  botella                     10972 non-null   float64       \n",
            " 88  gorra                       10972 non-null   float64       \n",
            " 89  porta pc                    10972 non-null   float64       \n",
            " 90  gorra beisbolera            10972 non-null   float64       \n",
            " 91  cardigan                    10972 non-null   float64       \n",
            " 92  tula herencia               10972 non-null   float64       \n",
            " 93  riñonera                    10972 non-null   float64       \n",
            " 94  faja de seguridad           10972 non-null   float64       \n",
            " 95  tejido                      10972 non-null   float64       \n",
            " 96  porta pasaporte             10972 non-null   float64       \n",
            " 97  cambio                      10972 non-null   float64       \n",
            " 98  hebilla                     10972 non-null   float64       \n",
            " 99                              10972 non-null   float64       \n",
            "dtypes: datetime64[ns](1), float64(88), object(11)\n",
            "memory usage: 189.7+ MB\n"
          ]
        }
      ],
      "source": [
        "dataframe_unificado= pd.concat([marca1,marca2,marca3_conglomerado,marca4_conglomerado,marca5_fin,marca6_conglomerado,marca7,marca8_conglomerado,marca9,marca10_conglomerado])\n",
        "dataframe_unificado.iloc[:,:100].info()"
      ]
    },
    {
      "cell_type": "code",
      "execution_count": 91,
      "id": "264af476-9a29-44c6-866c-f5f86c91cba4",
      "metadata": {
        "colab": {
          "base_uri": "https://localhost:8080/"
        },
        "id": "264af476-9a29-44c6-866c-f5f86c91cba4",
        "outputId": "9c0fea93-c84e-4e60-edb1-271f114d0444"
      },
      "outputs": [
        {
          "name": "stdout",
          "output_type": "stream",
          "text": [
            "<class 'pandas.core.frame.DataFrame'>\n",
            "Int64Index: 246221 entries, 0 to 2032\n",
            "Columns: 244 entries, fecha_de_venta to categoria 99\n",
            "dtypes: datetime64[ns](1), float64(232), object(11)\n",
            "memory usage: 460.2+ MB\n"
          ]
        }
      ],
      "source": [
        "dataframe_unificado.info()"
      ]
    },
    {
      "cell_type": "code",
      "execution_count": 92,
      "id": "b5f34c47-adea-47f7-aded-35b8d507b9e4",
      "metadata": {
        "id": "b5f34c47-adea-47f7-aded-35b8d507b9e4"
      },
      "outputs": [],
      "source": [
        "columnas_a_cambiar=list(dataframe_unificado.iloc[:,13:].columns)\n",
        "columnas_a_cambiar.remove('descripcion')\n",
        "columnas_a_cambiar.remove('ventas_sin_iva')\n",
        "columnas_a_cambiar.remove('precio_bruto_total')\n",
        "columnas_a_cambiar.remove('impuesto_total')\n",
        "columnas_a_cambiar.remove('descuento_total')\n",
        "columnas_a_cambiar.remove('personas_que_ingresan')"
      ]
    },
    {
      "cell_type": "code",
      "execution_count": 93,
      "id": "c08c248a-5686-48fe-9c9a-0ae76ced082c",
      "metadata": {
        "id": "c08c248a-5686-48fe-9c9a-0ae76ced082c"
      },
      "outputs": [],
      "source": [
        "for col in columnas_a_cambiar:\n",
        "    dataframe_unificado[col]=  dataframe_unificado[col].fillna(0)"
      ]
    },
    {
      "cell_type": "code",
      "execution_count": 94,
      "id": "2c726c56-d2d3-4dea-a4f7-490cd585514b",
      "metadata": {
        "colab": {
          "base_uri": "https://localhost:8080/"
        },
        "id": "2c726c56-d2d3-4dea-a4f7-490cd585514b",
        "outputId": "bcfb8b37-b46b-4e58-8e7e-ee2ca4190067"
      },
      "outputs": [
        {
          "name": "stdout",
          "output_type": "stream",
          "text": [
            "<class 'pandas.core.frame.DataFrame'>\n",
            "Int64Index: 246221 entries, 0 to 2032\n",
            "Data columns (total 100 columns):\n",
            " #   Column                      Non-Null Count   Dtype         \n",
            "---  ------                      --------------   -----         \n",
            " 0   fecha_de_venta              246221 non-null  datetime64[ns]\n",
            " 1   tienda                      246221 non-null  object        \n",
            " 2   ventas                      246221 non-null  float64       \n",
            " 3   muelle                      153526 non-null  object        \n",
            " 4   hora_entera                 246133 non-null  object        \n",
            " 5   transacciones               246132 non-null  float64       \n",
            " 6   semana                      246221 non-null  float64       \n",
            " 7   anio_entero                 246221 non-null  float64       \n",
            " 8   mes_entero                  246221 non-null  float64       \n",
            " 9   dia_entero                  246221 non-null  float64       \n",
            " 10  mes_string                  246221 non-null  object        \n",
            " 11  marca                       246221 non-null  object        \n",
            " 12  unidades                    160662 non-null  float64       \n",
            " 13  accesorios                  246221 non-null  float64       \n",
            " 14  comida                      246221 non-null  float64       \n",
            " 15  cuidado personal            246221 non-null  float64       \n",
            " 16  golosinas                   246221 non-null  float64       \n",
            " 17  juegos y juguetes           246221 non-null  float64       \n",
            " 18  libros                      246221 non-null  float64       \n",
            " 19  lujo                        246221 non-null  float64       \n",
            " 20  miscelanea                  246221 non-null  float64       \n",
            " 21  perfumería                  246221 non-null  float64       \n",
            " 22  souvenirs                   246221 non-null  float64       \n",
            " 23  tecnologia                  246221 non-null  float64       \n",
            " 24  textiles de regalo          246221 non-null  float64       \n",
            " 25  vicios                      246221 non-null  float64       \n",
            " 26  tipo_de_tienda              246221 non-null  object        \n",
            " 27  ventas_sin_iva              30973 non-null   float64       \n",
            " 28  precio_bruto_total          17766 non-null   float64       \n",
            " 29  impuesto_total              17766 non-null   float64       \n",
            " 30  descuento_total             17766 non-null   float64       \n",
            " 31  alimentos y bebidas retail  246221 non-null  float64       \n",
            " 32  artesanias                  246221 non-null  float64       \n",
            " 33  articulos de viaje          246221 non-null  float64       \n",
            " 34  cafe                        246221 non-null  float64       \n",
            " 35  complementos cafe           246221 non-null  float64       \n",
            " 36  joyeria                     246221 non-null  float64       \n",
            " 37  productos de papel          246221 non-null  float64       \n",
            " 38  reposteria dulce            246221 non-null  float64       \n",
            " 39  revistas y periodicos       246221 non-null  float64       \n",
            " 40  textiles de playa           246221 non-null  float64       \n",
            " 41  descripcion                 10972 non-null   float64       \n",
            " 42  objeto1                     246221 non-null  object        \n",
            " 43  objeto2                     246221 non-null  object        \n",
            " 44  objeto3                     246221 non-null  object        \n",
            " 45  objeto4                     246221 non-null  object        \n",
            " 46  objeto5                     246221 non-null  object        \n",
            " 47  maleta                      246221 non-null  float64       \n",
            " 48  cruzado                     246221 non-null  float64       \n",
            " 49  morral                      246221 non-null  float64       \n",
            " 50  almohada                    246221 non-null  float64       \n",
            " 51  billetera                   246221 non-null  float64       \n",
            " 52  limpiador                   246221 non-null  float64       \n",
            " 53  portadocumentos             246221 non-null  float64       \n",
            " 54  ruana                       246221 non-null  float64       \n",
            " 55  manos libres                246221 non-null  float64       \n",
            " 56  bolso                       246221 non-null  float64       \n",
            " 57  chaqueta                    246221 non-null  float64       \n",
            " 58  canguro                     246221 non-null  float64       \n",
            " 59  tapaboca                    246221 non-null  float64       \n",
            " 60  tacon                       246221 non-null  float64       \n",
            " 61  shoulder                    246221 non-null  float64       \n",
            " 62  mocasin                     246221 non-null  float64       \n",
            " 63  aguadeño                    246221 non-null  float64       \n",
            " 64  cosmetiquero                246221 non-null  float64       \n",
            " 65  carriel                     246221 non-null  float64       \n",
            " 66  pañoleta                    246221 non-null  float64       \n",
            " 67  accesorio                   246221 non-null  float64       \n",
            " 68  maleta de viaje             246221 non-null  float64       \n",
            " 69  cinturon                    246221 non-null  float64       \n",
            " 70  sandalia                    246221 non-null  float64       \n",
            " 71  gafa                        246221 non-null  float64       \n",
            " 72  fragancia                   246221 non-null  float64       \n",
            " 73  bolso de viaje              246221 non-null  float64       \n",
            " 74  calzado                     246221 non-null  float64       \n",
            " 75  camiseta                    246221 non-null  float64       \n",
            " 76  media                       246221 non-null  float64       \n",
            " 77  tarjetero                   246221 non-null  float64       \n",
            " 78  estuche                     246221 non-null  float64       \n",
            " 79  capa                        246221 non-null  float64       \n",
            " 80  cartuchera                  246221 non-null  float64       \n",
            " 81  joya                        246221 non-null  float64       \n",
            " 82  sombrero                    246221 non-null  float64       \n",
            " 83  zapato                      246221 non-null  float64       \n",
            " 84  libro                       246221 non-null  float64       \n",
            " 85  monedero                    246221 non-null  float64       \n",
            " 86  neceser                     246221 non-null  float64       \n",
            " 87  botella                     246221 non-null  float64       \n",
            " 88  gorra                       246221 non-null  float64       \n",
            " 89  porta pc                    246221 non-null  float64       \n",
            " 90  gorra beisbolera            246221 non-null  float64       \n",
            " 91  cardigan                    246221 non-null  float64       \n",
            " 92  tula herencia               246221 non-null  float64       \n",
            " 93  riñonera                    246221 non-null  float64       \n",
            " 94  faja de seguridad           246221 non-null  float64       \n",
            " 95  tejido                      246221 non-null  float64       \n",
            " 96  porta pasaporte             246221 non-null  float64       \n",
            " 97  cambio                      246221 non-null  float64       \n",
            " 98  hebilla                     246221 non-null  float64       \n",
            " 99                              246221 non-null  float64       \n",
            "dtypes: datetime64[ns](1), float64(88), object(11)\n",
            "memory usage: 189.7+ MB\n"
          ]
        }
      ],
      "source": [
        "dataframe_unificado.iloc[:,:100].info()"
      ]
    },
    {
      "cell_type": "code",
      "execution_count": 95,
      "id": "e3c40459",
      "metadata": {
        "colab": {
          "base_uri": "https://localhost:8080/"
        },
        "id": "e3c40459",
        "outputId": "3894d531-4c27-454d-d217-d84a3e227561"
      },
      "outputs": [
        {
          "data": {
            "text/plain": [
              "Index(['fecha_de_venta', 'tienda', 'ventas', 'muelle', 'hora_entera',\n",
              "       'transacciones', 'semana', 'anio_entero', 'mes_entero', 'dia_entero',\n",
              "       'mes_string', 'marca', 'unidades', 'accesorios', 'comida',\n",
              "       'cuidado personal', 'golosinas', 'juegos y juguetes', 'libros', 'lujo',\n",
              "       'miscelanea', 'perfumería', 'souvenirs', 'tecnologia',\n",
              "       'textiles de regalo', 'vicios', 'tipo_de_tienda', 'ventas_sin_iva',\n",
              "       'precio_bruto_total', 'impuesto_total', 'descuento_total',\n",
              "       'alimentos y bebidas retail', 'artesanias', 'articulos de viaje',\n",
              "       'cafe', 'complementos cafe', 'joyeria', 'productos de papel',\n",
              "       'reposteria dulce', 'revistas y periodicos', 'textiles de playa',\n",
              "       'descripcion', 'objeto1', 'objeto2', 'objeto3', 'objeto4', 'objeto5',\n",
              "       'maleta', 'cruzado', 'morral', 'almohada', 'billetera', 'limpiador',\n",
              "       'portadocumentos', 'ruana', 'manos libres', 'bolso', 'chaqueta',\n",
              "       'canguro', 'tapaboca', 'tacon', 'shoulder', 'mocasin', 'aguadeño',\n",
              "       'cosmetiquero', 'carriel', 'pañoleta', 'accesorio', 'maleta de viaje',\n",
              "       'cinturon', 'sandalia', 'gafa', 'fragancia', 'bolso de viaje',\n",
              "       'calzado', 'camiseta', 'media', 'tarjetero', 'estuche', 'capa',\n",
              "       'cartuchera', 'joya', 'sombrero', 'zapato', 'libro', 'monedero',\n",
              "       'neceser', 'botella', 'gorra', 'porta pc', 'gorra beisbolera',\n",
              "       'cardigan', 'tula herencia', 'riñonera', 'faja de seguridad', 'tejido',\n",
              "       'porta pasaporte', 'cambio', 'hebilla', ''],\n",
              "      dtype='object')"
            ]
          },
          "execution_count": 95,
          "metadata": {},
          "output_type": "execute_result"
        }
      ],
      "source": [
        "dataframe_unificado.columns[:100]"
      ]
    },
    {
      "cell_type": "code",
      "execution_count": 96,
      "id": "6711b528",
      "metadata": {
        "colab": {
          "base_uri": "https://localhost:8080/"
        },
        "id": "6711b528",
        "outputId": "bbedc45b-08ff-4ed7-aa63-7af5a2d8198e"
      },
      "outputs": [
        {
          "data": {
            "text/plain": [
              "Index(['lederter band', 'baul', 'llavero', 'correa', 'brazelete', 'pulsera',\n",
              "       'chal', 'esmeralda', 'papelera', 'aerpos', 'marroquineria', 'prenda',\n",
              "       'linea de viaje', 'casa hogar', 'linea ejecutiva', 'alimento',\n",
              "       'oficina', 'suspiro', 'tira', 'obsequio', 'escritorio',\n",
              "       'accesorios de lujo femenino', 'accesorios de lujo masculino',\n",
              "       'bienestar femenino', 'bienestar masculino', 'bienestar unisex',\n",
              "       'bolsos femenino', 'bolsos masculino', 'calzado femenino',\n",
              "       'calzado masculino', 'cinturones femenino', 'cinturones masculino',\n",
              "       'marroquinería femenino', 'marroquinería masculino',\n",
              "       'prendas de vestir femenino', 'prendas de vestir masculino',\n",
              "       'productos comerciali unisex', 'sin asignar sin asignar',\n",
              "       'travel & business femenino', 'travel & business masculino',\n",
              "       'personas_que_ingresan', 'categoria 1', 'categoria 10', 'categoria 100',\n",
              "       'categoria 101', 'categoria 102', 'categoria 103', 'categoria 11',\n",
              "       'categoria 12', 'categoria 13', 'categoria 14', 'categoria 15',\n",
              "       'categoria 16', 'categoria 17', 'categoria 18', 'categoria 19',\n",
              "       'categoria 2', 'categoria 20', 'categoria 21', 'categoria 22',\n",
              "       'categoria 23', 'categoria 24', 'categoria 25', 'categoria 26',\n",
              "       'categoria 27', 'categoria 28', 'categoria 29', 'categoria 3',\n",
              "       'categoria 30', 'categoria 31', 'categoria 32', 'categoria 33',\n",
              "       'categoria 34', 'categoria 35', 'categoria 36', 'categoria 37',\n",
              "       'categoria 38', 'categoria 39', 'categoria 4', 'categoria 40',\n",
              "       'categoria 41', 'categoria 42', 'categoria 43', 'categoria 44',\n",
              "       'categoria 45', 'categoria 46', 'categoria 47', 'categoria 48',\n",
              "       'categoria 49', 'categoria 5', 'categoria 50', 'categoria 51',\n",
              "       'categoria 52', 'categoria 53', 'categoria 54', 'categoria 55',\n",
              "       'categoria 56', 'categoria 57', 'categoria 58', 'categoria 59'],\n",
              "      dtype='object')"
            ]
          },
          "execution_count": 96,
          "metadata": {},
          "output_type": "execute_result"
        }
      ],
      "source": [
        "dataframe_unificado.columns[100:200]"
      ]
    },
    {
      "cell_type": "code",
      "execution_count": 97,
      "id": "291348d2",
      "metadata": {
        "colab": {
          "base_uri": "https://localhost:8080/"
        },
        "id": "291348d2",
        "outputId": "f2814769-bcbd-4e9d-a8b3-851b20d23a07"
      },
      "outputs": [
        {
          "data": {
            "text/plain": [
              "Index(['categoria 6', 'categoria 60', 'categoria 61', 'categoria 62',\n",
              "       'categoria 63', 'categoria 64', 'categoria 65', 'categoria 66',\n",
              "       'categoria 67', 'categoria 68', 'categoria 69', 'categoria 7',\n",
              "       'categoria 70', 'categoria 71', 'categoria 72', 'categoria 73',\n",
              "       'categoria 74', 'categoria 75', 'categoria 76', 'categoria 77',\n",
              "       'categoria 78', 'categoria 79', 'categoria 8', 'categoria 80',\n",
              "       'categoria 81', 'categoria 82', 'categoria 83', 'categoria 84',\n",
              "       'categoria 85', 'categoria 86', 'categoria 87', 'categoria 88',\n",
              "       'categoria 89', 'categoria 9', 'categoria 90', 'categoria 91',\n",
              "       'categoria 92', 'categoria 93', 'categoria 94', 'categoria 95',\n",
              "       'categoria 96', 'categoria 97', 'categoria 98', 'categoria 99'],\n",
              "      dtype='object')"
            ]
          },
          "execution_count": 97,
          "metadata": {},
          "output_type": "execute_result"
        }
      ],
      "source": [
        "dataframe_unificado.columns[200:]"
      ]
    },
    {
      "cell_type": "code",
      "execution_count": 98,
      "id": "d0e1a1f6",
      "metadata": {
        "id": "d0e1a1f6"
      },
      "outputs": [],
      "source": [
        "dataframe_unificado['tienda'] = dataframe_unificado['tienda'].str.lower()"
      ]
    },
    {
      "cell_type": "code",
      "execution_count": 99,
      "id": "c3eae038-8780-4762-8453-f05be4e6eada",
      "metadata": {
        "colab": {
          "base_uri": "https://localhost:8080/"
        },
        "id": "c3eae038-8780-4762-8453-f05be4e6eada",
        "outputId": "ce2ac6b0-aa76-4cbe-fa19-718f24dc98e3"
      },
      "outputs": [
        {
          "data": {
            "text/plain": [
              "array(['tienda 1', 'tienda 4', 'tienda 5', 'tienda 6', 'tienda 3',\n",
              "       'tienda 2', 'tienda 12', 'tienda 11', 'tienda 10 ', 'tienda 9',\n",
              "       'tienda a', 'tienda b', 'tienda 7', 'tienda 8', 'marca 5',\n",
              "       'marca 6', 'marca 7', 'marca 8', 'marca 9', 'marca 10'],\n",
              "      dtype=object)"
            ]
          },
          "execution_count": 99,
          "metadata": {},
          "output_type": "execute_result"
        }
      ],
      "source": [
        "dataframe_unificado['tienda'].unique()"
      ]
    },
    {
      "cell_type": "code",
      "execution_count": 100,
      "id": "80abe42b",
      "metadata": {
        "colab": {
          "base_uri": "https://localhost:8080/"
        },
        "id": "80abe42b",
        "outputId": "1acb0ff1-3716-4f1d-d292-5b546cf0bc3f"
      },
      "outputs": [
        {
          "data": {
            "text/plain": [
              "array(['MUELLE INTERNACIONAL ORIENTE', 'Internacional Oriente', nan,\n",
              "       'A Internacional oriente'], dtype=object)"
            ]
          },
          "execution_count": 100,
          "metadata": {},
          "output_type": "execute_result"
        }
      ],
      "source": [
        "dataframe_unificado['muelle'].unique()"
      ]
    },
    {
      "cell_type": "code",
      "execution_count": 101,
      "id": "2438777d",
      "metadata": {
        "id": "2438777d"
      },
      "outputs": [],
      "source": [
        "dataframe_unificado['muelle'] = np.where((dataframe_unificado['muelle']=='MUELLE INTERNACIONAL ORIENTE') | (dataframe_unificado['muelle']=='Internacional Oriente') | (dataframe_unificado['muelle']=='A Internacional oriente'),'internacional_oriente',None)"
      ]
    },
    {
      "cell_type": "code",
      "execution_count": 102,
      "id": "f622d23d",
      "metadata": {
        "colab": {
          "base_uri": "https://localhost:8080/"
        },
        "id": "f622d23d",
        "outputId": "fb67a62d-93e2-41de-dfaa-342f1252ffc9"
      },
      "outputs": [
        {
          "data": {
            "text/plain": [
              "array(['internacional_oriente', None], dtype=object)"
            ]
          },
          "execution_count": 102,
          "metadata": {},
          "output_type": "execute_result"
        }
      ],
      "source": [
        "dataframe_unificado['muelle'].unique()"
      ]
    },
    {
      "cell_type": "code",
      "execution_count": 103,
      "id": "67fa2f23",
      "metadata": {
        "colab": {
          "base_uri": "https://localhost:8080/"
        },
        "id": "67fa2f23",
        "outputId": "4809d56e-ad8c-4d0f-a639-bea22f4dc60b"
      },
      "outputs": [
        {
          "data": {
            "text/plain": [
              "array(['marca1', 'marca2', 'marca3', 'marca4', 'marca5', 'marca6',\n",
              "       'marca7', 'marca8', 'marca9', 'marca10'], dtype=object)"
            ]
          },
          "execution_count": 103,
          "metadata": {},
          "output_type": "execute_result"
        }
      ],
      "source": [
        "dataframe_unificado['marca'].unique()"
      ]
    },
    {
      "cell_type": "code",
      "execution_count": 104,
      "id": "5b4ee9a9",
      "metadata": {
        "id": "5b4ee9a9",
        "outputId": "9b956ba1-0cd2-47c1-babe-b196950d7fca"
      },
      "outputs": [
        {
          "data": {
            "text/plain": [
              "array([0, 'DUTY FREE', 'DUTY PAID'], dtype=object)"
            ]
          },
          "execution_count": 104,
          "metadata": {},
          "output_type": "execute_result"
        }
      ],
      "source": [
        "dataframe_unificado['tipo_de_tienda'].unique()"
      ]
    },
    {
      "cell_type": "code",
      "execution_count": 105,
      "id": "05ff6b4a-3fb5-4025-937c-d771407f3962",
      "metadata": {
        "id": "05ff6b4a-3fb5-4025-937c-d771407f3962"
      },
      "outputs": [],
      "source": [
        "# dataframe_unificado.to_excel(\"Marcas1-10Unificado.xlsx\")"
      ]
    },
    {
      "cell_type": "code",
      "execution_count": 106,
      "id": "f0bb0a5a",
      "metadata": {},
      "outputs": [
        {
          "data": {
            "text/plain": [
              "(246221,)"
            ]
          },
          "execution_count": 106,
          "metadata": {},
          "output_type": "execute_result"
        }
      ],
      "source": [
        "dataframe_unificado['marca'].shape"
      ]
    },
    {
      "cell_type": "code",
      "execution_count": 107,
      "id": "649eb74a",
      "metadata": {},
      "outputs": [
        {
          "data": {
            "text/plain": [
              "(246221,)"
            ]
          },
          "execution_count": 107,
          "metadata": {},
          "output_type": "execute_result"
        }
      ],
      "source": [
        "dataframe_unificado['tienda'].shape"
      ]
    },
    {
      "cell_type": "code",
      "execution_count": 108,
      "id": "bed30d5e",
      "metadata": {},
      "outputs": [
        {
          "data": {
            "text/plain": [
              "array(['marca1', 'marca2', 'marca3', 'marca4', 'marca5', 'marca6',\n",
              "       'marca7', 'marca8', 'marca9', 'marca10'], dtype=object)"
            ]
          },
          "execution_count": 108,
          "metadata": {},
          "output_type": "execute_result"
        }
      ],
      "source": [
        "dataframe_unificado['marca'].unique()"
      ]
    },
    {
      "cell_type": "code",
      "execution_count": 109,
      "id": "990c9ba5",
      "metadata": {},
      "outputs": [
        {
          "data": {
            "text/plain": [
              "array(['tienda 1', 'tienda 4', 'tienda 5', 'tienda 6', 'tienda 3',\n",
              "       'tienda 2', 'tienda 12', 'tienda 11', 'tienda 10 ', 'tienda 9',\n",
              "       'tienda a', 'tienda b', 'tienda 7', 'tienda 8', 'marca 5',\n",
              "       'marca 6', 'marca 7', 'marca 8', 'marca 9', 'marca 10'],\n",
              "      dtype=object)"
            ]
          },
          "execution_count": 109,
          "metadata": {},
          "output_type": "execute_result"
        }
      ],
      "source": [
        "dataframe_unificado['tienda'].unique()"
      ]
    },
    {
      "cell_type": "code",
      "execution_count": 110,
      "id": "d71c0bc7",
      "metadata": {
        "id": "d71c0bc7"
      },
      "outputs": [],
      "source": [
        "marcas_dummies=pd.get_dummies(dataframe_unificado['marca'])\n",
        "tiendas_dummies=pd.get_dummies(dataframe_unificado['tienda'])"
      ]
    },
    {
      "cell_type": "code",
      "execution_count": 111,
      "id": "010f73c3",
      "metadata": {},
      "outputs": [],
      "source": [
        "marcas_tiendas_dummies = pd.DataFrame()"
      ]
    },
    {
      "cell_type": "code",
      "execution_count": 112,
      "id": "960f1f8d",
      "metadata": {},
      "outputs": [],
      "source": [
        "marcas_tiendas_dummies['marca5'] = np.where(((marcas_dummies['marca5']+tiendas_dummies['marca 5'])>=1),1,0)\n",
        "marcas_tiendas_dummies['marca6'] = np.where(((marcas_dummies['marca6']+tiendas_dummies['marca 6'])>=1),1,0)\n",
        "marcas_tiendas_dummies['marca7'] = np.where(((marcas_dummies['marca7']+tiendas_dummies['marca 7'])>=1),1,0)\n",
        "marcas_tiendas_dummies['marca8'] = np.where(((marcas_dummies['marca8']+tiendas_dummies['marca 8'])>=1),1,0)\n",
        "marcas_tiendas_dummies['marca9'] = np.where(((marcas_dummies['marca9']+tiendas_dummies['marca 9'])>=1),1,0)\n",
        "marcas_tiendas_dummies['marca10'] = np.where(((marcas_dummies['marca10']+tiendas_dummies['marca 10'])>=1),1,0)"
      ]
    },
    {
      "cell_type": "code",
      "execution_count": 113,
      "id": "19ce8ee9",
      "metadata": {},
      "outputs": [],
      "source": [
        "marcas_dummies=marcas_dummies.drop(columns=['marca5','marca6','marca7','marca8','marca9','marca10'])\n",
        "tiendas_dummies=tiendas_dummies.drop(columns=['marca 5','marca 6','marca 7','marca 8','marca 9','marca 10'])"
      ]
    },
    {
      "cell_type": "code",
      "execution_count": 114,
      "id": "1c20b12d",
      "metadata": {},
      "outputs": [],
      "source": [
        "marcas_tiendas_dummies= marcas_tiendas_dummies.reset_index(drop=True)\n",
        "tiendas_dummies= tiendas_dummies.reset_index(drop=True)\n",
        "marcas_dummies= marcas_dummies.reset_index(drop=True)\n",
        "dataframe_unificado= dataframe_unificado.reset_index(drop=True)"
      ]
    },
    {
      "cell_type": "code",
      "execution_count": 115,
      "id": "fa6bd5cd",
      "metadata": {
        "id": "fa6bd5cd"
      },
      "outputs": [],
      "source": [
        "dataframe_unificado_final = pd.concat([dataframe_unificado,marcas_dummies,tiendas_dummies,marcas_tiendas_dummies],axis=1)"
      ]
    },
    {
      "cell_type": "code",
      "execution_count": 116,
      "id": "924c21dc",
      "metadata": {
        "colab": {
          "base_uri": "https://localhost:8080/"
        },
        "id": "924c21dc",
        "outputId": "b9690449-a687-4fbe-87e2-3cb4e39fb7dc"
      },
      "outputs": [
        {
          "data": {
            "text/plain": [
              "Index(['categoria 6', 'categoria 60', 'categoria 61', 'categoria 62',\n",
              "       'categoria 63', 'categoria 64', 'categoria 65', 'categoria 66',\n",
              "       'categoria 67', 'categoria 68', 'categoria 69', 'categoria 7',\n",
              "       'categoria 70', 'categoria 71', 'categoria 72', 'categoria 73',\n",
              "       'categoria 74', 'categoria 75', 'categoria 76', 'categoria 77',\n",
              "       'categoria 78', 'categoria 79', 'categoria 8', 'categoria 80',\n",
              "       'categoria 81', 'categoria 82', 'categoria 83', 'categoria 84',\n",
              "       'categoria 85', 'categoria 86', 'categoria 87', 'categoria 88',\n",
              "       'categoria 89', 'categoria 9', 'categoria 90', 'categoria 91',\n",
              "       'categoria 92', 'categoria 93', 'categoria 94', 'categoria 95',\n",
              "       'categoria 96', 'categoria 97', 'categoria 98', 'categoria 99',\n",
              "       'marca1', 'marca2', 'marca3', 'marca4', 'tienda 1', 'tienda 10 ',\n",
              "       'tienda 11', 'tienda 12', 'tienda 2', 'tienda 3', 'tienda 4',\n",
              "       'tienda 5', 'tienda 6', 'tienda 7', 'tienda 8', 'tienda 9', 'tienda a',\n",
              "       'tienda b', 'marca5', 'marca6', 'marca7', 'marca8', 'marca9',\n",
              "       'marca10'],\n",
              "      dtype='object')"
            ]
          },
          "execution_count": 116,
          "metadata": {},
          "output_type": "execute_result"
        }
      ],
      "source": [
        "dataframe_unificado_final.columns[200:]"
      ]
    },
    {
      "cell_type": "code",
      "execution_count": 117,
      "id": "c79633fc",
      "metadata": {
        "colab": {
          "base_uri": "https://localhost:8080/"
        },
        "id": "c79633fc",
        "outputId": "7fed4c7d-c5e7-48a0-dfa4-effacae74728"
      },
      "outputs": [
        {
          "data": {
            "text/plain": [
              "array([2022., 2023., 2002., 2020., 2021.])"
            ]
          },
          "execution_count": 117,
          "metadata": {},
          "output_type": "execute_result"
        }
      ],
      "source": [
        "dataframe_unificado_final['anio_entero'].unique()"
      ]
    },
    {
      "cell_type": "code",
      "execution_count": 118,
      "id": "00c5927e",
      "metadata": {
        "id": "00c5927e"
      },
      "outputs": [],
      "source": [
        "dataframe_unificado_final = dataframe_unificado_final[dataframe_unificado_final['anio_entero']>=2022]"
      ]
    },
    {
      "cell_type": "code",
      "execution_count": 119,
      "id": "82d8d04b",
      "metadata": {
        "colab": {
          "base_uri": "https://localhost:8080/"
        },
        "id": "82d8d04b",
        "outputId": "d58e0e09-7ea7-4453-85c0-6097c2c08fa8"
      },
      "outputs": [
        {
          "data": {
            "text/plain": [
              "(246207, 268)"
            ]
          },
          "execution_count": 119,
          "metadata": {},
          "output_type": "execute_result"
        }
      ],
      "source": [
        "dataframe_unificado_final.shape"
      ]
    },
    {
      "cell_type": "code",
      "execution_count": 120,
      "id": "67acdb30",
      "metadata": {},
      "outputs": [
        {
          "data": {
            "text/plain": [
              "0            166849\n",
              "DUTY FREE     55502\n",
              "DUTY PAID     23856\n",
              "Name: tipo_de_tienda, dtype: int64"
            ]
          },
          "execution_count": 120,
          "metadata": {},
          "output_type": "execute_result"
        }
      ],
      "source": [
        "dataframe_unificado_final['tipo_de_tienda'].value_counts()"
      ]
    },
    {
      "cell_type": "code",
      "execution_count": 121,
      "id": "5e4cd945",
      "metadata": {
        "colab": {
          "base_uri": "https://localhost:8080/"
        },
        "id": "5e4cd945",
        "outputId": "d03f0614-e830-4987-c763-c62303feb758"
      },
      "outputs": [
        {
          "name": "stdout",
          "output_type": "stream",
          "text": [
            "<class 'pandas.core.frame.DataFrame'>\n",
            "Int64Index: 246207 entries, 0 to 246220\n",
            "Data columns (total 100 columns):\n",
            " #   Column                      Non-Null Count   Dtype         \n",
            "---  ------                      --------------   -----         \n",
            " 0   fecha_de_venta              246207 non-null  datetime64[ns]\n",
            " 1   tienda                      246207 non-null  object        \n",
            " 2   ventas                      246207 non-null  float64       \n",
            " 3   muelle                      153526 non-null  object        \n",
            " 4   hora_entera                 246119 non-null  object        \n",
            " 5   transacciones               246118 non-null  float64       \n",
            " 6   semana                      246207 non-null  float64       \n",
            " 7   anio_entero                 246207 non-null  float64       \n",
            " 8   mes_entero                  246207 non-null  float64       \n",
            " 9   dia_entero                  246207 non-null  float64       \n",
            " 10  mes_string                  246207 non-null  object        \n",
            " 11  marca                       246207 non-null  object        \n",
            " 12  unidades                    160662 non-null  float64       \n",
            " 13  accesorios                  246207 non-null  float64       \n",
            " 14  comida                      246207 non-null  float64       \n",
            " 15  cuidado personal            246207 non-null  float64       \n",
            " 16  golosinas                   246207 non-null  float64       \n",
            " 17  juegos y juguetes           246207 non-null  float64       \n",
            " 18  libros                      246207 non-null  float64       \n",
            " 19  lujo                        246207 non-null  float64       \n",
            " 20  miscelanea                  246207 non-null  float64       \n",
            " 21  perfumería                  246207 non-null  float64       \n",
            " 22  souvenirs                   246207 non-null  float64       \n",
            " 23  tecnologia                  246207 non-null  float64       \n",
            " 24  textiles de regalo          246207 non-null  float64       \n",
            " 25  vicios                      246207 non-null  float64       \n",
            " 26  tipo_de_tienda              246207 non-null  object        \n",
            " 27  ventas_sin_iva              30973 non-null   float64       \n",
            " 28  precio_bruto_total          17766 non-null   float64       \n",
            " 29  impuesto_total              17766 non-null   float64       \n",
            " 30  descuento_total             17766 non-null   float64       \n",
            " 31  alimentos y bebidas retail  246207 non-null  float64       \n",
            " 32  artesanias                  246207 non-null  float64       \n",
            " 33  articulos de viaje          246207 non-null  float64       \n",
            " 34  cafe                        246207 non-null  float64       \n",
            " 35  complementos cafe           246207 non-null  float64       \n",
            " 36  joyeria                     246207 non-null  float64       \n",
            " 37  productos de papel          246207 non-null  float64       \n",
            " 38  reposteria dulce            246207 non-null  float64       \n",
            " 39  revistas y periodicos       246207 non-null  float64       \n",
            " 40  textiles de playa           246207 non-null  float64       \n",
            " 41  descripcion                 10972 non-null   float64       \n",
            " 42  objeto1                     246207 non-null  object        \n",
            " 43  objeto2                     246207 non-null  object        \n",
            " 44  objeto3                     246207 non-null  object        \n",
            " 45  objeto4                     246207 non-null  object        \n",
            " 46  objeto5                     246207 non-null  object        \n",
            " 47  maleta                      246207 non-null  float64       \n",
            " 48  cruzado                     246207 non-null  float64       \n",
            " 49  morral                      246207 non-null  float64       \n",
            " 50  almohada                    246207 non-null  float64       \n",
            " 51  billetera                   246207 non-null  float64       \n",
            " 52  limpiador                   246207 non-null  float64       \n",
            " 53  portadocumentos             246207 non-null  float64       \n",
            " 54  ruana                       246207 non-null  float64       \n",
            " 55  manos libres                246207 non-null  float64       \n",
            " 56  bolso                       246207 non-null  float64       \n",
            " 57  chaqueta                    246207 non-null  float64       \n",
            " 58  canguro                     246207 non-null  float64       \n",
            " 59  tapaboca                    246207 non-null  float64       \n",
            " 60  tacon                       246207 non-null  float64       \n",
            " 61  shoulder                    246207 non-null  float64       \n",
            " 62  mocasin                     246207 non-null  float64       \n",
            " 63  aguadeño                    246207 non-null  float64       \n",
            " 64  cosmetiquero                246207 non-null  float64       \n",
            " 65  carriel                     246207 non-null  float64       \n",
            " 66  pañoleta                    246207 non-null  float64       \n",
            " 67  accesorio                   246207 non-null  float64       \n",
            " 68  maleta de viaje             246207 non-null  float64       \n",
            " 69  cinturon                    246207 non-null  float64       \n",
            " 70  sandalia                    246207 non-null  float64       \n",
            " 71  gafa                        246207 non-null  float64       \n",
            " 72  fragancia                   246207 non-null  float64       \n",
            " 73  bolso de viaje              246207 non-null  float64       \n",
            " 74  calzado                     246207 non-null  float64       \n",
            " 75  camiseta                    246207 non-null  float64       \n",
            " 76  media                       246207 non-null  float64       \n",
            " 77  tarjetero                   246207 non-null  float64       \n",
            " 78  estuche                     246207 non-null  float64       \n",
            " 79  capa                        246207 non-null  float64       \n",
            " 80  cartuchera                  246207 non-null  float64       \n",
            " 81  joya                        246207 non-null  float64       \n",
            " 82  sombrero                    246207 non-null  float64       \n",
            " 83  zapato                      246207 non-null  float64       \n",
            " 84  libro                       246207 non-null  float64       \n",
            " 85  monedero                    246207 non-null  float64       \n",
            " 86  neceser                     246207 non-null  float64       \n",
            " 87  botella                     246207 non-null  float64       \n",
            " 88  gorra                       246207 non-null  float64       \n",
            " 89  porta pc                    246207 non-null  float64       \n",
            " 90  gorra beisbolera            246207 non-null  float64       \n",
            " 91  cardigan                    246207 non-null  float64       \n",
            " 92  tula herencia               246207 non-null  float64       \n",
            " 93  riñonera                    246207 non-null  float64       \n",
            " 94  faja de seguridad           246207 non-null  float64       \n",
            " 95  tejido                      246207 non-null  float64       \n",
            " 96  porta pasaporte             246207 non-null  float64       \n",
            " 97  cambio                      246207 non-null  float64       \n",
            " 98  hebilla                     246207 non-null  float64       \n",
            " 99                              246207 non-null  float64       \n",
            "dtypes: datetime64[ns](1), float64(88), object(11)\n",
            "memory usage: 189.7+ MB\n"
          ]
        }
      ],
      "source": [
        "dataframe_unificado_final.iloc[:,:100].info()"
      ]
    },
    {
      "cell_type": "code",
      "execution_count": 122,
      "id": "a420476d",
      "metadata": {},
      "outputs": [
        {
          "name": "stdout",
          "output_type": "stream",
          "text": [
            "<class 'pandas.core.frame.DataFrame'>\n",
            "Int64Index: 246207 entries, 0 to 246220\n",
            "Data columns (total 100 columns):\n",
            " #   Column                        Non-Null Count   Dtype  \n",
            "---  ------                        --------------   -----  \n",
            " 0   lederter band                 246207 non-null  float64\n",
            " 1   baul                          246207 non-null  float64\n",
            " 2   llavero                       246207 non-null  float64\n",
            " 3   correa                        246207 non-null  float64\n",
            " 4   brazelete                     246207 non-null  float64\n",
            " 5   pulsera                       246207 non-null  float64\n",
            " 6   chal                          246207 non-null  float64\n",
            " 7   esmeralda                     246207 non-null  float64\n",
            " 8   papelera                      246207 non-null  float64\n",
            " 9   aerpos                        246207 non-null  float64\n",
            " 10  marroquineria                 246207 non-null  float64\n",
            " 11  prenda                        246207 non-null  float64\n",
            " 12  linea de viaje                246207 non-null  float64\n",
            " 13  casa hogar                    246207 non-null  float64\n",
            " 14  linea ejecutiva               246207 non-null  float64\n",
            " 15  alimento                      246207 non-null  float64\n",
            " 16  oficina                       246207 non-null  float64\n",
            " 17  suspiro                       246207 non-null  float64\n",
            " 18  tira                          246207 non-null  float64\n",
            " 19  obsequio                      246207 non-null  float64\n",
            " 20  escritorio                    246207 non-null  float64\n",
            " 21  accesorios de lujo femenino   246207 non-null  float64\n",
            " 22  accesorios de lujo masculino  246207 non-null  float64\n",
            " 23  bienestar femenino            246207 non-null  float64\n",
            " 24  bienestar masculino           246207 non-null  float64\n",
            " 25  bienestar unisex              246207 non-null  float64\n",
            " 26  bolsos femenino               246207 non-null  float64\n",
            " 27  bolsos masculino              246207 non-null  float64\n",
            " 28  calzado femenino              246207 non-null  float64\n",
            " 29  calzado masculino             246207 non-null  float64\n",
            " 30  cinturones femenino           246207 non-null  float64\n",
            " 31  cinturones masculino          246207 non-null  float64\n",
            " 32  marroquinería femenino        246207 non-null  float64\n",
            " 33  marroquinería masculino       246207 non-null  float64\n",
            " 34  prendas de vestir femenino    246207 non-null  float64\n",
            " 35  prendas de vestir masculino   246207 non-null  float64\n",
            " 36  productos comerciali unisex   246207 non-null  float64\n",
            " 37  sin asignar sin asignar       246207 non-null  float64\n",
            " 38  travel & business femenino    246207 non-null  float64\n",
            " 39  travel & business masculino   246207 non-null  float64\n",
            " 40  personas_que_ingresan         7947 non-null    float64\n",
            " 41  categoria 1                   246207 non-null  float64\n",
            " 42  categoria 10                  246207 non-null  float64\n",
            " 43  categoria 100                 246207 non-null  float64\n",
            " 44  categoria 101                 246207 non-null  float64\n",
            " 45  categoria 102                 246207 non-null  float64\n",
            " 46  categoria 103                 246207 non-null  float64\n",
            " 47  categoria 11                  246207 non-null  float64\n",
            " 48  categoria 12                  246207 non-null  float64\n",
            " 49  categoria 13                  246207 non-null  float64\n",
            " 50  categoria 14                  246207 non-null  float64\n",
            " 51  categoria 15                  246207 non-null  float64\n",
            " 52  categoria 16                  246207 non-null  float64\n",
            " 53  categoria 17                  246207 non-null  float64\n",
            " 54  categoria 18                  246207 non-null  float64\n",
            " 55  categoria 19                  246207 non-null  float64\n",
            " 56  categoria 2                   246207 non-null  float64\n",
            " 57  categoria 20                  246207 non-null  float64\n",
            " 58  categoria 21                  246207 non-null  float64\n",
            " 59  categoria 22                  246207 non-null  float64\n",
            " 60  categoria 23                  246207 non-null  float64\n",
            " 61  categoria 24                  246207 non-null  float64\n",
            " 62  categoria 25                  246207 non-null  float64\n",
            " 63  categoria 26                  246207 non-null  float64\n",
            " 64  categoria 27                  246207 non-null  float64\n",
            " 65  categoria 28                  246207 non-null  float64\n",
            " 66  categoria 29                  246207 non-null  float64\n",
            " 67  categoria 3                   246207 non-null  float64\n",
            " 68  categoria 30                  246207 non-null  float64\n",
            " 69  categoria 31                  246207 non-null  float64\n",
            " 70  categoria 32                  246207 non-null  float64\n",
            " 71  categoria 33                  246207 non-null  float64\n",
            " 72  categoria 34                  246207 non-null  float64\n",
            " 73  categoria 35                  246207 non-null  float64\n",
            " 74  categoria 36                  246207 non-null  float64\n",
            " 75  categoria 37                  246207 non-null  float64\n",
            " 76  categoria 38                  246207 non-null  float64\n",
            " 77  categoria 39                  246207 non-null  float64\n",
            " 78  categoria 4                   246207 non-null  float64\n",
            " 79  categoria 40                  246207 non-null  float64\n",
            " 80  categoria 41                  246207 non-null  float64\n",
            " 81  categoria 42                  246207 non-null  float64\n",
            " 82  categoria 43                  246207 non-null  float64\n",
            " 83  categoria 44                  246207 non-null  float64\n",
            " 84  categoria 45                  246207 non-null  float64\n",
            " 85  categoria 46                  246207 non-null  float64\n",
            " 86  categoria 47                  246207 non-null  float64\n",
            " 87  categoria 48                  246207 non-null  float64\n",
            " 88  categoria 49                  246207 non-null  float64\n",
            " 89  categoria 5                   246207 non-null  float64\n",
            " 90  categoria 50                  246207 non-null  float64\n",
            " 91  categoria 51                  246207 non-null  float64\n",
            " 92  categoria 52                  246207 non-null  float64\n",
            " 93  categoria 53                  246207 non-null  float64\n",
            " 94  categoria 54                  246207 non-null  float64\n",
            " 95  categoria 55                  246207 non-null  float64\n",
            " 96  categoria 56                  246207 non-null  float64\n",
            " 97  categoria 57                  246207 non-null  float64\n",
            " 98  categoria 58                  246207 non-null  float64\n",
            " 99  categoria 59                  246207 non-null  float64\n",
            "dtypes: float64(100)\n",
            "memory usage: 189.7 MB\n"
          ]
        }
      ],
      "source": [
        "dataframe_unificado_final.iloc[:,100:200].info()"
      ]
    },
    {
      "cell_type": "code",
      "execution_count": 123,
      "id": "fcb023ae",
      "metadata": {},
      "outputs": [
        {
          "name": "stdout",
          "output_type": "stream",
          "text": [
            "<class 'pandas.core.frame.DataFrame'>\n",
            "Int64Index: 246207 entries, 0 to 246220\n",
            "Data columns (total 68 columns):\n",
            " #   Column        Non-Null Count   Dtype  \n",
            "---  ------        --------------   -----  \n",
            " 0   categoria 6   246207 non-null  float64\n",
            " 1   categoria 60  246207 non-null  float64\n",
            " 2   categoria 61  246207 non-null  float64\n",
            " 3   categoria 62  246207 non-null  float64\n",
            " 4   categoria 63  246207 non-null  float64\n",
            " 5   categoria 64  246207 non-null  float64\n",
            " 6   categoria 65  246207 non-null  float64\n",
            " 7   categoria 66  246207 non-null  float64\n",
            " 8   categoria 67  246207 non-null  float64\n",
            " 9   categoria 68  246207 non-null  float64\n",
            " 10  categoria 69  246207 non-null  float64\n",
            " 11  categoria 7   246207 non-null  float64\n",
            " 12  categoria 70  246207 non-null  float64\n",
            " 13  categoria 71  246207 non-null  float64\n",
            " 14  categoria 72  246207 non-null  float64\n",
            " 15  categoria 73  246207 non-null  float64\n",
            " 16  categoria 74  246207 non-null  float64\n",
            " 17  categoria 75  246207 non-null  float64\n",
            " 18  categoria 76  246207 non-null  float64\n",
            " 19  categoria 77  246207 non-null  float64\n",
            " 20  categoria 78  246207 non-null  float64\n",
            " 21  categoria 79  246207 non-null  float64\n",
            " 22  categoria 8   246207 non-null  float64\n",
            " 23  categoria 80  246207 non-null  float64\n",
            " 24  categoria 81  246207 non-null  float64\n",
            " 25  categoria 82  246207 non-null  float64\n",
            " 26  categoria 83  246207 non-null  float64\n",
            " 27  categoria 84  246207 non-null  float64\n",
            " 28  categoria 85  246207 non-null  float64\n",
            " 29  categoria 86  246207 non-null  float64\n",
            " 30  categoria 87  246207 non-null  float64\n",
            " 31  categoria 88  246207 non-null  float64\n",
            " 32  categoria 89  246207 non-null  float64\n",
            " 33  categoria 9   246207 non-null  float64\n",
            " 34  categoria 90  246207 non-null  float64\n",
            " 35  categoria 91  246207 non-null  float64\n",
            " 36  categoria 92  246207 non-null  float64\n",
            " 37  categoria 93  246207 non-null  float64\n",
            " 38  categoria 94  246207 non-null  float64\n",
            " 39  categoria 95  246207 non-null  float64\n",
            " 40  categoria 96  246207 non-null  float64\n",
            " 41  categoria 97  246207 non-null  float64\n",
            " 42  categoria 98  246207 non-null  float64\n",
            " 43  categoria 99  246207 non-null  float64\n",
            " 44  marca1        246207 non-null  uint8  \n",
            " 45  marca2        246207 non-null  uint8  \n",
            " 46  marca3        246207 non-null  uint8  \n",
            " 47  marca4        246207 non-null  uint8  \n",
            " 48  tienda 1      246207 non-null  uint8  \n",
            " 49  tienda 10     246207 non-null  uint8  \n",
            " 50  tienda 11     246207 non-null  uint8  \n",
            " 51  tienda 12     246207 non-null  uint8  \n",
            " 52  tienda 2      246207 non-null  uint8  \n",
            " 53  tienda 3      246207 non-null  uint8  \n",
            " 54  tienda 4      246207 non-null  uint8  \n",
            " 55  tienda 5      246207 non-null  uint8  \n",
            " 56  tienda 6      246207 non-null  uint8  \n",
            " 57  tienda 7      246207 non-null  uint8  \n",
            " 58  tienda 8      246207 non-null  uint8  \n",
            " 59  tienda 9      246207 non-null  uint8  \n",
            " 60  tienda a      246207 non-null  uint8  \n",
            " 61  tienda b      246207 non-null  uint8  \n",
            " 62  marca5        246207 non-null  int32  \n",
            " 63  marca6        246207 non-null  int32  \n",
            " 64  marca7        246207 non-null  int32  \n",
            " 65  marca8        246207 non-null  int32  \n",
            " 66  marca9        246207 non-null  int32  \n",
            " 67  marca10       246207 non-null  int32  \n",
            "dtypes: float64(44), int32(6), uint8(18)\n",
            "memory usage: 94.4 MB\n"
          ]
        }
      ],
      "source": [
        "dataframe_unificado_final.iloc[:,200:].info()"
      ]
    },
    {
      "cell_type": "code",
      "execution_count": 124,
      "id": "6818e064",
      "metadata": {
        "id": "6818e064"
      },
      "outputs": [],
      "source": [
        "dataframe_unificado_final=dataframe_unificado_final[~(dataframe_unificado_final['hora_entera']=='1905-07-16 00') & ~(dataframe_unificado_final['hora_entera'].isna())].copy()"
      ]
    },
    {
      "cell_type": "code",
      "execution_count": 125,
      "id": "7752909e",
      "metadata": {
        "id": "7752909e"
      },
      "outputs": [],
      "source": [
        "dataframe_unificado_final=dataframe_unificado_final[(dataframe_unificado_final['ventas']>=0)].copy()"
      ]
    },
    {
      "cell_type": "code",
      "execution_count": 126,
      "id": "72afbd69",
      "metadata": {
        "colab": {
          "base_uri": "https://localhost:8080/",
          "height": 116
        },
        "id": "72afbd69",
        "outputId": "2362868d-beed-49db-8b50-c0276ebd9af0"
      },
      "outputs": [
        {
          "data": {
            "text/html": [
              "<div>\n",
              "<style scoped>\n",
              "    .dataframe tbody tr th:only-of-type {\n",
              "        vertical-align: middle;\n",
              "    }\n",
              "\n",
              "    .dataframe tbody tr th {\n",
              "        vertical-align: top;\n",
              "    }\n",
              "\n",
              "    .dataframe thead th {\n",
              "        text-align: right;\n",
              "    }\n",
              "</style>\n",
              "<table border=\"1\" class=\"dataframe\">\n",
              "  <thead>\n",
              "    <tr style=\"text-align: right;\">\n",
              "      <th></th>\n",
              "      <th>fecha_de_venta</th>\n",
              "      <th>tienda</th>\n",
              "      <th>ventas</th>\n",
              "      <th>muelle</th>\n",
              "      <th>hora_entera</th>\n",
              "      <th>transacciones</th>\n",
              "      <th>semana</th>\n",
              "      <th>anio_entero</th>\n",
              "      <th>mes_entero</th>\n",
              "      <th>dia_entero</th>\n",
              "      <th>...</th>\n",
              "      <th>tienda 8</th>\n",
              "      <th>tienda 9</th>\n",
              "      <th>tienda a</th>\n",
              "      <th>tienda b</th>\n",
              "      <th>marca5</th>\n",
              "      <th>marca6</th>\n",
              "      <th>marca7</th>\n",
              "      <th>marca8</th>\n",
              "      <th>marca9</th>\n",
              "      <th>marca10</th>\n",
              "    </tr>\n",
              "  </thead>\n",
              "  <tbody>\n",
              "  </tbody>\n",
              "</table>\n",
              "<p>0 rows × 268 columns</p>\n",
              "</div>"
            ],
            "text/plain": [
              "Empty DataFrame\n",
              "Columns: [fecha_de_venta, tienda, ventas, muelle, hora_entera, transacciones, semana, anio_entero, mes_entero, dia_entero, mes_string, marca, unidades, accesorios, comida, cuidado personal, golosinas, juegos y juguetes, libros, lujo, miscelanea, perfumería, souvenirs, tecnologia, textiles de regalo, vicios, tipo_de_tienda, ventas_sin_iva, precio_bruto_total, impuesto_total, descuento_total, alimentos y bebidas retail, artesanias, articulos de viaje, cafe, complementos cafe, joyeria, productos de papel, reposteria dulce, revistas y periodicos, textiles de playa, descripcion, objeto1, objeto2, objeto3, objeto4, objeto5, maleta, cruzado, morral, almohada, billetera, limpiador, portadocumentos, ruana, manos libres, bolso, chaqueta, canguro, tapaboca, tacon, shoulder, mocasin, aguadeño, cosmetiquero, carriel, pañoleta, accesorio, maleta de viaje, cinturon, sandalia, gafa, fragancia, bolso de viaje, calzado, camiseta, media, tarjetero, estuche, capa, cartuchera, joya, sombrero, zapato, libro, monedero, neceser, botella, gorra, porta pc, gorra beisbolera, cardigan, tula herencia, riñonera, faja de seguridad, tejido, porta pasaporte, cambio, hebilla, , ...]\n",
              "Index: []\n",
              "\n",
              "[0 rows x 268 columns]"
            ]
          },
          "execution_count": 126,
          "metadata": {},
          "output_type": "execute_result"
        }
      ],
      "source": [
        "dataframe_unificado_final[(dataframe_unificado_final['ventas'].isna())]"
      ]
    },
    {
      "cell_type": "code",
      "execution_count": 127,
      "id": "2f8e4c19",
      "metadata": {
        "colab": {
          "base_uri": "https://localhost:8080/",
          "height": 168
        },
        "id": "2f8e4c19",
        "outputId": "99cb9f1a-8900-4789-d23e-05407881362c"
      },
      "outputs": [
        {
          "data": {
            "image/png": "[encoded data removed]",
            "text/plain": [
              "<Figure size 2500x300 with 1 Axes>"
            ]
          },
          "metadata": {},
          "output_type": "display_data"
        }
      ],
      "source": [
        "plt.figure(figsize=(25, 3))\n",
        "plt.boxplot(dataframe_unificado_final[[\"ventas\"]], whis=[0, 99.5], showmeans=True, vert=False,)\n",
        "plt.title(\"Distribución ventas\")\n",
        "plt.show()"
      ]
    },
    {
      "cell_type": "code",
      "execution_count": 128,
      "id": "e50d9558",
      "metadata": {},
      "outputs": [
        {
          "data": {
            "text/plain": [
              "(246011, 268)"
            ]
          },
          "execution_count": 128,
          "metadata": {},
          "output_type": "execute_result"
        }
      ],
      "source": [
        "dataframe_unificado_final.shape"
      ]
    },
    {
      "cell_type": "code",
      "execution_count": 129,
      "id": "4e02f773",
      "metadata": {},
      "outputs": [
        {
          "data": {
            "text/plain": [
              "marca1     83244\n",
              "marca3     79301\n",
              "marca2     22297\n",
              "marca4     17762\n",
              "marca9     11174\n",
              "marca5     10972\n",
              "marca6      9116\n",
              "marca7      7944\n",
              "marca8      2173\n",
              "marca10     2028\n",
              "Name: marca, dtype: int64"
            ]
          },
          "execution_count": 129,
          "metadata": {},
          "output_type": "execute_result"
        }
      ],
      "source": [
        "dataframe_unificado_final['marca'].value_counts()"
      ]
    },
    {
      "cell_type": "code",
      "execution_count": 130,
      "id": "8447e389",
      "metadata": {},
      "outputs": [],
      "source": [
        "percentil_98 = dataframe_unificado_final['ventas'].quantile(0.98)\n",
        "dataframe_unificado_final = dataframe_unificado_final[dataframe_unificado_final['ventas'] <= percentil_98]"
      ]
    },
    {
      "cell_type": "code",
      "execution_count": 131,
      "id": "910279a1",
      "metadata": {},
      "outputs": [
        {
          "data": {
            "text/plain": [
              "(241090, 268)"
            ]
          },
          "execution_count": 131,
          "metadata": {},
          "output_type": "execute_result"
        }
      ],
      "source": [
        "dataframe_unificado_final.shape"
      ]
    },
    {
      "cell_type": "code",
      "execution_count": 132,
      "id": "c7f46f8c",
      "metadata": {},
      "outputs": [
        {
          "data": {
            "text/plain": [
              "marca1     83244\n",
              "marca3     74406\n",
              "marca2     22297\n",
              "marca4     17762\n",
              "marca9     11174\n",
              "marca5     10971\n",
              "marca6      9112\n",
              "marca7      7944\n",
              "marca8      2152\n",
              "marca10     2028\n",
              "Name: marca, dtype: int64"
            ]
          },
          "execution_count": 132,
          "metadata": {},
          "output_type": "execute_result"
        }
      ],
      "source": [
        "dataframe_unificado_final['marca'].value_counts()"
      ]
    },
    {
      "cell_type": "code",
      "execution_count": 133,
      "id": "2b53dc31",
      "metadata": {
        "id": "2b53dc31"
      },
      "outputs": [],
      "source": [
        "dataframe_unificado_final['hora_entera'] = dataframe_unificado_final['hora_entera'].astype(int)"
      ]
    },
    {
      "cell_type": "code",
      "execution_count": 134,
      "id": "aac64244",
      "metadata": {
        "colab": {
          "base_uri": "https://localhost:8080/"
        },
        "id": "aac64244",
        "outputId": "d037c165-09c4-4e09-9dcf-29c50323d972"
      },
      "outputs": [
        {
          "data": {
            "text/plain": [
              "array([ 0,  1,  2,  3,  4,  5,  6,  7,  8,  9, 10, 11, 12, 13, 14, 15, 16,\n",
              "       17, 18, 19, 20, 21, 22, 23])"
            ]
          },
          "execution_count": 134,
          "metadata": {},
          "output_type": "execute_result"
        }
      ],
      "source": [
        "dataframe_unificado_final['hora_entera'].unique()"
      ]
    },
    {
      "cell_type": "code",
      "execution_count": 135,
      "id": "b16e08c6",
      "metadata": {
        "colab": {
          "base_uri": "https://localhost:8080/"
        },
        "id": "b16e08c6",
        "outputId": "c011d216-c233-4002-8bbb-069d60cade09"
      },
      "outputs": [
        {
          "data": {
            "text/plain": [
              "array([ 6666120.,  7080880.,   168060., ..., 14393200.,  9056400.,\n",
              "        8516600.])"
            ]
          },
          "execution_count": 135,
          "metadata": {},
          "output_type": "execute_result"
        }
      ],
      "source": [
        "dataframe_unificado_final['ventas'].unique()"
      ]
    },
    {
      "cell_type": "markdown",
      "metadata": {},
      "source": [
        "<p> Se podrían añadir datos de vuelos (despues), ubicacion más especifica del aeropuerto(listo), si hay evento o no en un día o semana (?), clima de cada día(listo) y agrupar categorías (listo). </p>"
      ]
    },
    {
      "cell_type": "code",
      "execution_count": 136,
      "id": "100e7cc1",
      "metadata": {},
      "outputs": [
        {
          "data": {
            "text/plain": [
              "array(['tienda 1', 'tienda 4', 'tienda 5', 'tienda 6', 'tienda 3',\n",
              "       'tienda 2', 'tienda 12', 'tienda 11', 'tienda 10 ', 'tienda 9',\n",
              "       'tienda a', 'tienda b', 'tienda 7', 'tienda 8', 'marca 5',\n",
              "       'marca 6', 'marca 7', 'marca 8', 'marca 9', 'marca 10'],\n",
              "      dtype=object)"
            ]
          },
          "execution_count": 136,
          "metadata": {},
          "output_type": "execute_result"
        }
      ],
      "source": [
        "dataframe_unificado_final['tienda'].unique()"
      ]
    },
    {
      "cell_type": "code",
      "execution_count": 137,
      "id": "617c9d2a",
      "metadata": {},
      "outputs": [],
      "source": [
        "dataframe_unificado_final['ubicacion_esp']= np.where((dataframe_unificado_final['tienda']=='tienda 1') | \n",
        "(dataframe_unificado_final['tienda']=='tienda 3') | (dataframe_unificado_final['tienda']=='tienda 4') |\n",
        "(dataframe_unificado_final['tienda']=='tienda 4')  | (dataframe_unificado_final['tienda']=='tienda 6'),\"A10-A12\",\n",
        "np.where((dataframe_unificado_final['tienda']=='tienda 2'),\"A6-A8\",\n",
        "np.where((dataframe_unificado_final['tienda']=='tienda 9') | (dataframe_unificado_final['tienda']=='tienda 10') ,\"A2-A4\",\n",
        "np.where((dataframe_unificado_final['tienda']=='marca 7') | (dataframe_unificado_final['tienda']=='marca 5') | (dataframe_unificado_final['tienda']=='marca 6'),\"A4\",\n",
        "np.where((dataframe_unificado_final['tienda']=='marca 9') |  (dataframe_unificado_final['tienda']=='marca 10'),\"A5-A6\",\n",
        "np.where((dataframe_unificado_final['tienda']=='marca 8') ,\"A8-A10\",None))))))"
      ]
    },
    {
      "cell_type": "code",
      "execution_count": 138,
      "id": "8406f181",
      "metadata": {},
      "outputs": [],
      "source": [
        "ubicacion_esp=pd.get_dummies(dataframe_unificado_final['ubicacion_esp'])\n",
        "meses_dummies=pd.get_dummies(dataframe_unificado_final['mes_string'])"
      ]
    },
    {
      "cell_type": "code",
      "execution_count": 139,
      "id": "4d207262",
      "metadata": {},
      "outputs": [],
      "source": [
        "dataframe_unificado_final=pd.concat([dataframe_unificado_final,ubicacion_esp,meses_dummies],axis=1)"
      ]
    },
    {
      "cell_type": "code",
      "execution_count": 140,
      "id": "124dee54",
      "metadata": {},
      "outputs": [
        {
          "data": {
            "text/plain": [
              "0        2022-01-01\n",
              "1        2022-01-01\n",
              "2        2022-01-01\n",
              "3        2022-01-01\n",
              "4        2022-01-01\n",
              "            ...    \n",
              "246216   2023-06-30\n",
              "246217   2023-06-30\n",
              "246218   2023-06-30\n",
              "246219   2023-06-30\n",
              "246220   2023-06-30\n",
              "Name: fecha_de_venta, Length: 241090, dtype: datetime64[ns]"
            ]
          },
          "execution_count": 140,
          "metadata": {},
          "output_type": "execute_result"
        }
      ],
      "source": [
        "dataframe_unificado_final['fecha_de_venta']"
      ]
    },
    {
      "cell_type": "markdown",
      "id": "cd4fd929",
      "metadata": {},
      "source": [
        "# Se añade información del clima"
      ]
    },
    {
      "cell_type": "code",
      "execution_count": 141,
      "id": "490ec179",
      "metadata": {},
      "outputs": [],
      "source": [
        "# Se agrega información del clima\n",
        "info_clima = pd.read_excel(\"weather_data_bogota.xlsx\")"
      ]
    },
    {
      "cell_type": "code",
      "execution_count": 142,
      "id": "6b2fac5a",
      "metadata": {},
      "outputs": [
        {
          "name": "stdout",
          "output_type": "stream",
          "text": [
            "<class 'pandas.core.frame.DataFrame'>\n",
            "RangeIndex: 13872 entries, 0 to 13871\n",
            "Data columns (total 6 columns):\n",
            " #   Column         Non-Null Count  Dtype  \n",
            "---  ------         --------------  -----  \n",
            " 0   date           13872 non-null  object \n",
            " 1   time           13872 non-null  int64  \n",
            " 2   temperature    13872 non-null  int64  \n",
            " 3   wind_speed     13872 non-null  int64  \n",
            " 4   precipitation  13872 non-null  float64\n",
            " 5   cloud_cover    13872 non-null  int64  \n",
            "dtypes: float64(1), int64(4), object(1)\n",
            "memory usage: 650.4+ KB\n"
          ]
        }
      ],
      "source": [
        "info_clima.info()"
      ]
    },
    {
      "cell_type": "code",
      "execution_count": 143,
      "id": "051449f8",
      "metadata": {},
      "outputs": [
        {
          "data": {
            "text/html": [
              "<div>\n",
              "<style scoped>\n",
              "    .dataframe tbody tr th:only-of-type {\n",
              "        vertical-align: middle;\n",
              "    }\n",
              "\n",
              "    .dataframe tbody tr th {\n",
              "        vertical-align: top;\n",
              "    }\n",
              "\n",
              "    .dataframe thead th {\n",
              "        text-align: right;\n",
              "    }\n",
              "</style>\n",
              "<table border=\"1\" class=\"dataframe\">\n",
              "  <thead>\n",
              "    <tr style=\"text-align: right;\">\n",
              "      <th></th>\n",
              "      <th>date</th>\n",
              "      <th>time</th>\n",
              "      <th>temperature</th>\n",
              "      <th>wind_speed</th>\n",
              "      <th>precipitation</th>\n",
              "      <th>cloud_cover</th>\n",
              "    </tr>\n",
              "  </thead>\n",
              "  <tbody>\n",
              "    <tr>\n",
              "      <th>0</th>\n",
              "      <td>2022-01-01</td>\n",
              "      <td>0</td>\n",
              "      <td>13</td>\n",
              "      <td>1</td>\n",
              "      <td>0.8</td>\n",
              "      <td>59</td>\n",
              "    </tr>\n",
              "    <tr>\n",
              "      <th>1</th>\n",
              "      <td>2022-01-01</td>\n",
              "      <td>100</td>\n",
              "      <td>12</td>\n",
              "      <td>1</td>\n",
              "      <td>0.5</td>\n",
              "      <td>67</td>\n",
              "    </tr>\n",
              "    <tr>\n",
              "      <th>2</th>\n",
              "      <td>2022-01-01</td>\n",
              "      <td>200</td>\n",
              "      <td>12</td>\n",
              "      <td>1</td>\n",
              "      <td>0.0</td>\n",
              "      <td>75</td>\n",
              "    </tr>\n",
              "    <tr>\n",
              "      <th>3</th>\n",
              "      <td>2022-01-01</td>\n",
              "      <td>300</td>\n",
              "      <td>12</td>\n",
              "      <td>1</td>\n",
              "      <td>0.0</td>\n",
              "      <td>84</td>\n",
              "    </tr>\n",
              "    <tr>\n",
              "      <th>4</th>\n",
              "      <td>2022-01-01</td>\n",
              "      <td>400</td>\n",
              "      <td>12</td>\n",
              "      <td>1</td>\n",
              "      <td>0.0</td>\n",
              "      <td>89</td>\n",
              "    </tr>\n",
              "  </tbody>\n",
              "</table>\n",
              "</div>"
            ],
            "text/plain": [
              "         date  time  temperature  wind_speed  precipitation  cloud_cover\n",
              "0  2022-01-01     0           13           1            0.8           59\n",
              "1  2022-01-01   100           12           1            0.5           67\n",
              "2  2022-01-01   200           12           1            0.0           75\n",
              "3  2022-01-01   300           12           1            0.0           84\n",
              "4  2022-01-01   400           12           1            0.0           89"
            ]
          },
          "execution_count": 143,
          "metadata": {},
          "output_type": "execute_result"
        }
      ],
      "source": [
        "info_clima.head()"
      ]
    },
    {
      "cell_type": "code",
      "execution_count": 144,
      "id": "684c2029",
      "metadata": {},
      "outputs": [],
      "source": [
        "info_clima['date']= pd.to_datetime(info_clima['date'])\n",
        "info_clima['time']= round(info_clima['time']/100,2)\n",
        "info_clima['time']= info_clima['time'].astype(int)\n",
        "info_clima= info_clima.rename(columns={'time':'hora_entera','date':'fecha_de_venta'})\n",
        "# info_clima =info_clima.drop_duplicates(subset=['fecha_de_venta','hora_entera'],keep='last')"
      ]
    },
    {
      "cell_type": "code",
      "execution_count": 145,
      "id": "df15b780",
      "metadata": {},
      "outputs": [
        {
          "data": {
            "text/plain": [
              "0       2022-01-01\n",
              "1       2022-01-01\n",
              "2       2022-01-01\n",
              "3       2022-01-01\n",
              "4       2022-01-01\n",
              "           ...    \n",
              "13867   2023-08-01\n",
              "13868   2023-08-01\n",
              "13869   2023-08-01\n",
              "13870   2023-08-01\n",
              "13871   2023-08-01\n",
              "Name: fecha_de_venta, Length: 13872, dtype: datetime64[ns]"
            ]
          },
          "execution_count": 145,
          "metadata": {},
          "output_type": "execute_result"
        }
      ],
      "source": [
        "info_clima['fecha_de_venta']"
      ]
    },
    {
      "cell_type": "code",
      "execution_count": 146,
      "id": "75d05cac",
      "metadata": {},
      "outputs": [
        {
          "data": {
            "text/html": [
              "<div>\n",
              "<style scoped>\n",
              "    .dataframe tbody tr th:only-of-type {\n",
              "        vertical-align: middle;\n",
              "    }\n",
              "\n",
              "    .dataframe tbody tr th {\n",
              "        vertical-align: top;\n",
              "    }\n",
              "\n",
              "    .dataframe thead th {\n",
              "        text-align: right;\n",
              "    }\n",
              "</style>\n",
              "<table border=\"1\" class=\"dataframe\">\n",
              "  <thead>\n",
              "    <tr style=\"text-align: right;\">\n",
              "      <th></th>\n",
              "      <th>fecha_de_venta</th>\n",
              "      <th>hora_entera</th>\n",
              "      <th>temperature</th>\n",
              "      <th>wind_speed</th>\n",
              "      <th>precipitation</th>\n",
              "      <th>cloud_cover</th>\n",
              "    </tr>\n",
              "  </thead>\n",
              "  <tbody>\n",
              "    <tr>\n",
              "      <th>0</th>\n",
              "      <td>2022-01-01</td>\n",
              "      <td>0</td>\n",
              "      <td>13</td>\n",
              "      <td>1</td>\n",
              "      <td>0.8</td>\n",
              "      <td>59</td>\n",
              "    </tr>\n",
              "    <tr>\n",
              "      <th>1</th>\n",
              "      <td>2022-01-01</td>\n",
              "      <td>1</td>\n",
              "      <td>12</td>\n",
              "      <td>1</td>\n",
              "      <td>0.5</td>\n",
              "      <td>67</td>\n",
              "    </tr>\n",
              "    <tr>\n",
              "      <th>2</th>\n",
              "      <td>2022-01-01</td>\n",
              "      <td>2</td>\n",
              "      <td>12</td>\n",
              "      <td>1</td>\n",
              "      <td>0.0</td>\n",
              "      <td>75</td>\n",
              "    </tr>\n",
              "    <tr>\n",
              "      <th>3</th>\n",
              "      <td>2022-01-01</td>\n",
              "      <td>3</td>\n",
              "      <td>12</td>\n",
              "      <td>1</td>\n",
              "      <td>0.0</td>\n",
              "      <td>84</td>\n",
              "    </tr>\n",
              "    <tr>\n",
              "      <th>4</th>\n",
              "      <td>2022-01-01</td>\n",
              "      <td>4</td>\n",
              "      <td>12</td>\n",
              "      <td>1</td>\n",
              "      <td>0.0</td>\n",
              "      <td>89</td>\n",
              "    </tr>\n",
              "  </tbody>\n",
              "</table>\n",
              "</div>"
            ],
            "text/plain": [
              "  fecha_de_venta  hora_entera  temperature  wind_speed  precipitation  \\\n",
              "0     2022-01-01            0           13           1            0.8   \n",
              "1     2022-01-01            1           12           1            0.5   \n",
              "2     2022-01-01            2           12           1            0.0   \n",
              "3     2022-01-01            3           12           1            0.0   \n",
              "4     2022-01-01            4           12           1            0.0   \n",
              "\n",
              "   cloud_cover  \n",
              "0           59  \n",
              "1           67  \n",
              "2           75  \n",
              "3           84  \n",
              "4           89  "
            ]
          },
          "execution_count": 146,
          "metadata": {},
          "output_type": "execute_result"
        }
      ],
      "source": [
        "info_clima.head(5)"
      ]
    },
    {
      "cell_type": "code",
      "execution_count": 147,
      "id": "5f18b991",
      "metadata": {},
      "outputs": [
        {
          "data": {
            "text/plain": [
              "(13872, 6)"
            ]
          },
          "execution_count": 147,
          "metadata": {},
          "output_type": "execute_result"
        }
      ],
      "source": [
        "info_clima.shape"
      ]
    },
    {
      "cell_type": "code",
      "execution_count": 148,
      "id": "2f3d9b62",
      "metadata": {},
      "outputs": [
        {
          "data": {
            "text/plain": [
              "(241090, 287)"
            ]
          },
          "execution_count": 148,
          "metadata": {},
          "output_type": "execute_result"
        }
      ],
      "source": [
        "dataframe_unificado_final.shape"
      ]
    },
    {
      "cell_type": "code",
      "execution_count": 149,
      "id": "e9917fff",
      "metadata": {},
      "outputs": [],
      "source": [
        "dataframe_unificado_final = dataframe_unificado_final.merge( info_clima, how='left', on=['fecha_de_venta','hora_entera'])"
      ]
    },
    {
      "cell_type": "code",
      "execution_count": 150,
      "id": "a9ed48b7",
      "metadata": {},
      "outputs": [],
      "source": [
        "dataframe_unificado_final= dataframe_unificado_final[~dataframe_unificado_final['temperature'].isna()].copy()"
      ]
    },
    {
      "cell_type": "code",
      "execution_count": 151,
      "id": "f509ea74",
      "metadata": {},
      "outputs": [
        {
          "data": {
            "text/plain": [
              "(240436, 291)"
            ]
          },
          "execution_count": 151,
          "metadata": {},
          "output_type": "execute_result"
        }
      ],
      "source": [
        "dataframe_unificado_final.shape"
      ]
    },
    {
      "cell_type": "markdown",
      "id": "dd8e78b0",
      "metadata": {},
      "source": [
        "# Reducción de variables categóricas"
      ]
    },
    {
      "cell_type": "code",
      "execution_count": 152,
      "id": "7d6987da",
      "metadata": {},
      "outputs": [],
      "source": [
        "dataframe_unificado_final['viaje_ejecutivo_negocio'] = dataframe_unificado_final['travel & business femenino'] + dataframe_unificado_final['travel & business masculino'] + dataframe_unificado_final['articulos de viaje'] + dataframe_unificado_final['linea de viaje'] + dataframe_unificado_final['linea ejecutiva']+ dataframe_unificado_final['aerpos']+  dataframe_unificado_final['oficina'] + dataframe_unificado_final['escritorio']\n",
        "dataframe_unificado_final['tabaco_alcohol'] = dataframe_unificado_final['vicios'] \n",
        "dataframe_unificado_final= dataframe_unificado_final.drop(columns=['sin asignar sin asignar',''],axis=1)\n",
        "dataframe_unificado_final['accesorios'] = dataframe_unificado_final['accesorio']+ dataframe_unificado_final['accesorios']+ dataframe_unificado_final['porta pasaporte'] + dataframe_unificado_final['portadocumentos']\n",
        "dataframe_unificado_final['regalos_obsequios'] = dataframe_unificado_final['souvenirs'] + dataframe_unificado_final['textiles de regalo']+dataframe_unificado_final['obsequio']+ dataframe_unificado_final['llavero']     \n",
        "dataframe_unificado_final['artesanias']= dataframe_unificado_final['artesanias']+ dataframe_unificado_final['tejido']+ dataframe_unificado_final['pulsera']+dataframe_unificado_final['brazelete']\n",
        "dataframe_unificado_final['calzado'] = dataframe_unificado_final['calzado']+ dataframe_unificado_final['zapato']+ dataframe_unificado_final['mocasin']+ dataframe_unificado_final['sandalia']+ dataframe_unificado_final['tacon']+ dataframe_unificado_final['calzado femenino']+dataframe_unificado_final['calzado masculino']    \n",
        "dataframe_unificado_final['accesorios_de_mano']= dataframe_unificado_final['bolsos femenino']+ dataframe_unificado_final['bolsos masculino']+ dataframe_unificado_final['riñonera']+dataframe_unificado_final['cartuchera']+dataframe_unificado_final['maleta']+dataframe_unificado_final['cruzado']+dataframe_unificado_final['morral']+dataframe_unificado_final['bolso'] +dataframe_unificado_final['canguro'] + dataframe_unificado_final['billetera']+ dataframe_unificado_final['monedero']+ dataframe_unificado_final['hebilla']+dataframe_unificado_final['correa']+ dataframe_unificado_final['cinturones femenino']+dataframe_unificado_final['cinturones masculino']+dataframe_unificado_final['lederter band']+dataframe_unificado_final['maleta de viaje']+dataframe_unificado_final['cinturon']+dataframe_unificado_final['bolso de viaje']+dataframe_unificado_final['carriel']+dataframe_unificado_final['tarjetero']+dataframe_unificado_final['estuche']\n",
        "dataframe_unificado_final['accesorios_belleza_cuidado'] =dataframe_unificado_final['cuidado personal']+dataframe_unificado_final['cosmetiquero']+dataframe_unificado_final['limpiador']+dataframe_unificado_final['neceser']+dataframe_unificado_final['bienestar femenino']+dataframe_unificado_final['bienestar masculino']+dataframe_unificado_final['bienestar unisex']\n",
        "dataframe_unificado_final['prendas_vestir'] =  dataframe_unificado_final['textiles de playa'] + dataframe_unificado_final['chaqueta']+ dataframe_unificado_final['chal']+ dataframe_unificado_final['tula herencia']+ dataframe_unificado_final['prenda'] + dataframe_unificado_final['ruana'] + dataframe_unificado_final['shoulder'] + dataframe_unificado_final['camiseta'] + dataframe_unificado_final['capa'] + dataframe_unificado_final['camiseta'] + dataframe_unificado_final['capa'] + dataframe_unificado_final['faja de seguridad']+ dataframe_unificado_final['cardigan'] + dataframe_unificado_final['prendas de vestir femenino'] + dataframe_unificado_final['prendas de vestir masculino'] + dataframe_unificado_final['tira']+ dataframe_unificado_final['media'] + dataframe_unificado_final['tapaboca'] + dataframe_unificado_final['gafa']\n",
        "dataframe_unificado_final['prendas_vestir_cabeza'] = dataframe_unificado_final['gorra'] + dataframe_unificado_final['pañoleta']+ dataframe_unificado_final['gorra beisbolera']+ dataframe_unificado_final['sombrero']+ dataframe_unificado_final['aguadeño']\n",
        "dataframe_unificado_final['lujo'] = dataframe_unificado_final['joya'] + dataframe_unificado_final['esmeralda'] + dataframe_unificado_final['lujo']+ dataframe_unificado_final['joyeria'] + dataframe_unificado_final['perfumería']+ dataframe_unificado_final['fragancia']+dataframe_unificado_final['accesorios de lujo femenino']+dataframe_unificado_final['accesorios de lujo masculino']\n",
        "dataframe_unificado_final['marroquineria'] = dataframe_unificado_final['marroquineria']+ dataframe_unificado_final['marroquinería femenino']+ dataframe_unificado_final['marroquinería masculino']\n",
        "dataframe_unificado_final['cafe'] = dataframe_unificado_final['cafe']+ dataframe_unificado_final['complementos cafe']\n",
        "dataframe_unificado_final['tecnologia'] = dataframe_unificado_final['tecnologia']+ dataframe_unificado_final['porta pc'] + dataframe_unificado_final['manos libres']\n",
        "dataframe_unificado_final['libros_revistas_papel']= dataframe_unificado_final['libros']+dataframe_unificado_final['libro']+ dataframe_unificado_final['revistas y periodicos']+ dataframe_unificado_final['productos de papel']+dataframe_unificado_final['papelera']\n",
        "dataframe_unificado_final['cosas_hogar']= dataframe_unificado_final['baul'] + dataframe_unificado_final['casa hogar']+ dataframe_unificado_final['almohada']\n",
        "dataframe_unificado_final['comida_galguerias']= dataframe_unificado_final['alimentos y bebidas retail'] + dataframe_unificado_final['golosinas']+ dataframe_unificado_final['comida']+ dataframe_unificado_final['alimento']+ dataframe_unificado_final['suspiro']+ dataframe_unificado_final['reposteria dulce']"
      ]
    },
    {
      "cell_type": "code",
      "execution_count": 153,
      "id": "8837502c",
      "metadata": {},
      "outputs": [],
      "source": [
        "dataframe_unificado_final= dataframe_unificado_final.drop(columns=['papelera','productos de papel','revistas y periodicos','libro','libros','manos libres','porta pc','tecnologia',\n",
        "'complementos cafe','marroquinería masculino','marroquinería femenino','accesorios de lujo masculino','accesorios de lujo femenino','fragancia','perfumería',\n",
        "'joyeria','esmeralda','joya','sombrero','aguadeño','gorra beisbolera','pañoleta','gorra','gafa','tapaboca','media','tira','prendas de vestir masculino','prendas de vestir femenino',\n",
        "'cardigan','faja de seguridad','capa','camiseta','shoulder','ruana','prenda','tula herencia','chal','chaqueta','textiles de playa','bienestar unisex','bienestar masculino','bienestar femenino','neceser',\n",
        "'limpiador','cosmetiquero','cuidado personal','estuche','tarjetero','carriel','bolso de viaje','cinturon','maleta de viaje','lederter band','cinturones masculino','cinturones femenino',\n",
        "'correa','hebilla','monedero','billetera','canguro','bolso','morral','cruzado','maleta','cartuchera','riñonera','bolsos masculino','bolsos femenino','tacon','sandalia','mocasin','zapato',\n",
        "'calzado masculino','calzado femenino','tejido','pulsera','brazelete','llavero','obsequio','textiles de regalo','souvenirs','vicios','articulos de viaje','linea de viaje','portadocumentos',\n",
        "'porta pasaporte','accesorio','reposteria dulce','suspiro','alimento','comida','golosinas','alimentos y bebidas retail','escritorio','oficina','aerpos','linea ejecutiva','linea de viaje','articulos de viaje',\n",
        "'travel & business femenino', 'travel & business masculino','almohada','casa hogar','baul'])"
      ]
    },
    {
      "cell_type": "code",
      "execution_count": 154,
      "id": "f068511e",
      "metadata": {},
      "outputs": [
        {
          "data": {
            "text/plain": [
              "(240436, 196)"
            ]
          },
          "execution_count": 154,
          "metadata": {},
          "output_type": "execute_result"
        }
      ],
      "source": [
        "dataframe_unificado_final.shape"
      ]
    },
    {
      "cell_type": "markdown",
      "id": "6fbd8c0f",
      "metadata": {},
      "source": [
        "# División de dataframes"
      ]
    },
    {
      "cell_type": "code",
      "execution_count": 155,
      "id": "b633a770",
      "metadata": {},
      "outputs": [
        {
          "name": "stdout",
          "output_type": "stream",
          "text": [
            "<class 'pandas.core.frame.DataFrame'>\n",
            "Int64Index: 240436 entries, 0 to 241089\n",
            "Data columns (total 22 columns):\n",
            " #   Column         Non-Null Count   Dtype  \n",
            "---  ------         --------------   -----  \n",
            " 0   A10-A12        240436 non-null  uint8  \n",
            " 1   A2-A4          240436 non-null  uint8  \n",
            " 2   A4             240436 non-null  uint8  \n",
            " 3   A5-A6          240436 non-null  uint8  \n",
            " 4   A6-A8          240436 non-null  uint8  \n",
            " 5   A8-A10         240436 non-null  uint8  \n",
            " 6   abril          240436 non-null  uint8  \n",
            " 7   agosto         240436 non-null  uint8  \n",
            " 8   diciembre      240436 non-null  uint8  \n",
            " 9   enero          240436 non-null  uint8  \n",
            " 10  febrero        240436 non-null  uint8  \n",
            " 11  julio          240436 non-null  uint8  \n",
            " 12  junio          240436 non-null  uint8  \n",
            " 13  marzo          240436 non-null  uint8  \n",
            " 14  mayo           240436 non-null  uint8  \n",
            " 15  noviembre      240436 non-null  uint8  \n",
            " 16  octubre        240436 non-null  uint8  \n",
            " 17  septiembre     240436 non-null  uint8  \n",
            " 18  temperature    240436 non-null  float64\n",
            " 19  wind_speed     240436 non-null  float64\n",
            " 20  precipitation  240436 non-null  float64\n",
            " 21  cloud_cover    240436 non-null  float64\n",
            "dtypes: float64(4), uint8(18)\n",
            "memory usage: 13.3 MB\n"
          ]
        }
      ],
      "source": [
        "dataframe_unificado_final.iloc[:,164:186].info()"
      ]
    },
    {
      "cell_type": "code",
      "execution_count": 156,
      "id": "479b3a02",
      "metadata": {},
      "outputs": [],
      "source": [
        "dataframe_unificado_final_solo_marca_categorias=dataframe_unificado_final[(dataframe_unificado_final['marca']==\"marca3\") | (dataframe_unificado_final['marca']==\"marca4\") \n",
        "| (dataframe_unificado_final['marca']==\"marca5\") | (dataframe_unificado_final['marca']==\"marca6\") | (dataframe_unificado_final['marca']==\"marca10\")].reset_index(drop=True).copy()\n",
        "dataframe_unificado_final_sin_categorias= pd.concat([dataframe_unificado_final.iloc[:,:13].reset_index(drop=True).copy(),dataframe_unificado_final.iloc[:,164:186].reset_index(drop=True).copy()],axis=1).reset_index(drop=True).copy()"
      ]
    },
    {
      "cell_type": "code",
      "execution_count": 157,
      "id": "63424105",
      "metadata": {},
      "outputs": [
        {
          "data": {
            "text/plain": [
              "Index(['fecha_de_venta', 'tienda', 'ventas', 'muelle', 'hora_entera',\n",
              "       'transacciones', 'semana', 'anio_entero', 'mes_entero', 'dia_entero',\n",
              "       ...\n",
              "       'viaje_ejecutivo_negocio', 'tabaco_alcohol', 'regalos_obsequios',\n",
              "       'accesorios_de_mano', 'accesorios_belleza_cuidado', 'prendas_vestir',\n",
              "       'prendas_vestir_cabeza', 'libros_revistas_papel', 'cosas_hogar',\n",
              "       'comida_galguerias'],\n",
              "      dtype='object', length=196)"
            ]
          },
          "execution_count": 157,
          "metadata": {},
          "output_type": "execute_result"
        }
      ],
      "source": [
        "dataframe_unificado_final_solo_marca_categorias.columns"
      ]
    },
    {
      "cell_type": "markdown",
      "id": "17377522",
      "metadata": {},
      "source": [
        "# Modelo LazyRegressor con categorías"
      ]
    },
    {
      "cell_type": "code",
      "execution_count": 158,
      "id": "9effe0be",
      "metadata": {},
      "outputs": [],
      "source": [
        "from lazypredict.Supervised import LazyRegressor\n",
        "from sklearn import datasets\n",
        "from sklearn.utils import shuffle\n",
        "import numpy as np\n",
        "\n",
        "X = dataframe_unificado_final_solo_marca_categorias.drop(columns=['unidades','transacciones','ventas','muelle','fecha_de_venta','mes_string','tienda','marca',\n",
        "'descripcion','objeto1','objeto2','objeto3','objeto4','objeto5','tipo_de_tienda','ubicacion_esp','ventas_sin_iva','precio_bruto_total','impuesto_total','descuento_total','tienda a','tienda b','personas_que_ingresan'])\n",
        "y = dataframe_unificado_final_solo_marca_categorias['ventas']\n",
        "# X['transacciones'].fillna(0, inplace=True)\n",
        "\n",
        "# drop_cols = X.isna().sum().to_frame()\n",
        "# drop_cols =drop_cols.loc[drop_cols[0] > 0]\n",
        "# X = X.drop(columns=drop_cols.index.array)\n",
        "# X.isna().sum().to_frame()\n",
        "\n",
        "X_train = X[X['anio_entero']==2022]\n",
        "X_test = X[X['anio_entero']==2023]\n",
        "y_train = y[X['anio_entero']==2022]\n",
        "y_test = y[X['anio_entero']==2023]\n",
        "\n",
        "# Lista de modelos a excluir"
      ]
    },
    {
      "cell_type": "code",
      "execution_count": 159,
      "id": "a7d72760-4f7c-4db4-8a66-5ca3b5af19e1",
      "metadata": {
        "id": "a7d72760-4f7c-4db4-8a66-5ca3b5af19e1",
        "outputId": "1aec0544-d9a8-4ac3-eeaa-c5d08361ad9c"
      },
      "outputs": [
        {
          "name": "stderr",
          "output_type": "stream",
          "text": [
            "  0%|          | 0/40 [00:00<?, ?it/s]"
          ]
        },
        {
          "name": "stderr",
          "output_type": "stream",
          "text": [
            " 25%|██▌       | 10/40 [00:45<03:44,  7.50s/it]"
          ]
        },
        {
          "name": "stdout",
          "output_type": "stream",
          "text": [
            "GammaRegressor model failed to execute\n",
            "Some value(s) of y are out of the valid range of the loss 'HalfGammaLoss'.\n"
          ]
        },
        {
          "name": "stderr",
          "output_type": "stream",
          "text": [
            " 28%|██▊       | 11/40 [08:57<1:15:15, 155.70s/it]"
          ]
        },
        {
          "name": "stdout",
          "output_type": "stream",
          "text": [
            "GaussianProcessRegressor model failed to execute\n",
            "Unable to allocate 21.4 GiB for an array with shape (2877028440,) and data type float64\n"
          ]
        },
        {
          "name": "stderr",
          "output_type": "stream",
          "text": [
            " 40%|████      | 16/40 [14:22<47:42, 119.27s/it]  "
          ]
        },
        {
          "name": "stdout",
          "output_type": "stream",
          "text": [
            "KernelRidge model failed to execute\n",
            "_ArrayMemoryError.__init__() missing 1 required positional argument: 'dtype'\n"
          ]
        },
        {
          "name": "stderr",
          "output_type": "stream",
          "text": [
            " 78%|███████▊  | 31/40 [16:12<01:24,  9.38s/it] "
          ]
        },
        {
          "name": "stdout",
          "output_type": "stream",
          "text": [
            "QuantileRegressor model failed to execute\n",
            "Unable to allocate 42.9 GiB for an array with shape (75856, 75856) and data type float64\n"
          ]
        },
        {
          "name": "stderr",
          "output_type": "stream",
          "text": [
            "100%|██████████| 40/40 [17:03<00:00, 25.60s/it]"
          ]
        },
        {
          "name": "stdout",
          "output_type": "stream",
          "text": [
            "                                          Adjusted R-Squared  \\\n",
            "Model                                                          \n",
            "LGBMRegressor                                           0.75   \n",
            "HistGradientBoostingRegressor                           0.75   \n",
            "XGBRegressor                                            0.74   \n",
            "RandomForestRegressor                                   0.73   \n",
            "GradientBoostingRegressor                               0.73   \n",
            "ExtraTreesRegressor                                     0.72   \n",
            "BaggingRegressor                                        0.71   \n",
            "PoissonRegressor                                        0.62   \n",
            "AdaBoostRegressor                                       0.57   \n",
            "KNeighborsRegressor                                     0.56   \n",
            "ExtraTreeRegressor                                      0.56   \n",
            "Lasso                                                   0.55   \n",
            "Ridge                                                   0.55   \n",
            "RidgeCV                                                 0.55   \n",
            "BayesianRidge                                           0.55   \n",
            "DecisionTreeRegressor                                   0.55   \n",
            "LassoLarsIC                                             0.54   \n",
            "LassoLars                                               0.54   \n",
            "OrthogonalMatchingPursuit                               0.54   \n",
            "OrthogonalMatchingPursuitCV                             0.50   \n",
            "ElasticNet                                              0.45   \n",
            "TweedieRegressor                                        0.37   \n",
            "HuberRegressor                                          0.28   \n",
            "PassiveAggressiveRegressor                              0.09   \n",
            "LarsCV                                                  0.04   \n",
            "DummyRegressor                                         -0.03   \n",
            "LassoLarsCV                                            -0.03   \n",
            "ElasticNetCV                                           -0.03   \n",
            "LassoCV                                                -0.03   \n",
            "MLPRegressor                                           -0.32   \n",
            "LinearSVR                                              -0.49   \n",
            "Lars                                                  -11.90   \n",
            "SGDRegressor                                    -88993162.21   \n",
            "RANSACRegressor                -3499121997045689657327616.00   \n",
            "LinearRegression              -26145010025192242402033664.00   \n",
            "TransformedTargetRegressor    -26145010025192242402033664.00   \n",
            "\n",
            "                                                   R-Squared  \\\n",
            "Model                                                          \n",
            "LGBMRegressor                                           0.75   \n",
            "HistGradientBoostingRegressor                           0.75   \n",
            "XGBRegressor                                            0.74   \n",
            "RandomForestRegressor                                   0.73   \n",
            "GradientBoostingRegressor                               0.73   \n",
            "ExtraTreesRegressor                                     0.72   \n",
            "BaggingRegressor                                        0.71   \n",
            "PoissonRegressor                                        0.63   \n",
            "AdaBoostRegressor                                       0.58   \n",
            "KNeighborsRegressor                                     0.57   \n",
            "ExtraTreeRegressor                                      0.56   \n",
            "Lasso                                                   0.55   \n",
            "Ridge                                                   0.55   \n",
            "RidgeCV                                                 0.55   \n",
            "BayesianRidge                                           0.55   \n",
            "DecisionTreeRegressor                                   0.55   \n",
            "LassoLarsIC                                             0.54   \n",
            "LassoLars                                               0.54   \n",
            "OrthogonalMatchingPursuit                               0.54   \n",
            "OrthogonalMatchingPursuitCV                             0.50   \n",
            "ElasticNet                                              0.45   \n",
            "TweedieRegressor                                        0.37   \n",
            "HuberRegressor                                          0.28   \n",
            "PassiveAggressiveRegressor                              0.10   \n",
            "LarsCV                                                  0.05   \n",
            "DummyRegressor                                         -0.02   \n",
            "LassoLarsCV                                            -0.02   \n",
            "ElasticNetCV                                           -0.02   \n",
            "LassoCV                                                -0.02   \n",
            "MLPRegressor                                           -0.32   \n",
            "LinearSVR                                              -0.48   \n",
            "Lars                                                  -11.85   \n",
            "SGDRegressor                                    -88592459.03   \n",
            "RANSACRegressor                -3483366749908921571344384.00   \n",
            "LinearRegression              -26027288752630736676192256.00   \n",
            "TransformedTargetRegressor    -26027288752630736676192256.00   \n",
            "\n",
            "                                                  RMSE  Time Taken  \n",
            "Model                                                               \n",
            "LGBMRegressor                              20538953.31        0.64  \n",
            "HistGradientBoostingRegressor              20543527.65        3.12  \n",
            "XGBRegressor                               20867942.70        2.91  \n",
            "RandomForestRegressor                      21460464.58       41.45  \n",
            "GradientBoostingRegressor                  21555096.35       13.70  \n",
            "ExtraTreesRegressor                        21938299.44       31.99  \n",
            "BaggingRegressor                           22085673.51        4.86  \n",
            "PoissonRegressor                           25257359.14        0.76  \n",
            "AdaBoostRegressor                          26911454.09        4.10  \n",
            "KNeighborsRegressor                        27220838.95        3.58  \n",
            "ExtraTreeRegressor                         27310383.26        0.68  \n",
            "Lasso                                      27626719.10        4.83  \n",
            "Ridge                                      27626770.44        0.41  \n",
            "RidgeCV                                    27627232.51        0.67  \n",
            "BayesianRidge                              27630911.12        0.63  \n",
            "DecisionTreeRegressor                      27720566.89        0.93  \n",
            "LassoLarsIC                                27887608.07        0.64  \n",
            "LassoLars                                  27887608.07        0.43  \n",
            "OrthogonalMatchingPursuit                  28102597.95        0.39  \n",
            "OrthogonalMatchingPursuitCV                29156852.83        0.99  \n",
            "ElasticNet                                 30589732.38        0.54  \n",
            "TweedieRegressor                           32701523.53        0.47  \n",
            "HuberRegressor                             35009470.48        2.33  \n",
            "PassiveAggressiveRegressor                 39230961.12       32.02  \n",
            "LarsCV                                     40360313.68        1.30  \n",
            "DummyRegressor                             41821959.52        0.32  \n",
            "LassoLarsCV                                41821959.52        0.90  \n",
            "ElasticNetCV                               41821959.52        1.45  \n",
            "LassoCV                                    41821959.52        1.52  \n",
            "MLPRegressor                               47440086.86       62.40  \n",
            "LinearSVR                                  50270589.41        0.48  \n",
            "Lars                                      148065500.55        0.60  \n",
            "SGDRegressor                           388838932754.36        1.92  \n",
            "RANSACRegressor                77102944333512065024.00        2.09  \n",
            "LinearRegression              210758853263215198208.00        0.57  \n",
            "TransformedTargetRegressor    210758853263215198208.00        0.56  \n"
          ]
        },
        {
          "name": "stderr",
          "output_type": "stream",
          "text": [
            "\n"
          ]
        }
      ],
      "source": [
        "# Lista de modelos a excluir\n",
        "modelos_a_excluir = ['SVR', 'NuSVR', 'GaussianProcessRegressor']\n",
        "reg = LazyRegressor(verbose=0, ignore_warnings=False, custom_metric=None)\n",
        "models, predictions = reg.fit(X_train, X_test, y_train, y_test)\n",
        "\n",
        "print(models)"
      ]
    },
    {
      "cell_type": "code",
      "execution_count": 160,
      "id": "34d06b86",
      "metadata": {
        "id": "34d06b86",
        "outputId": "b037465b-9f4f-4fb0-f920-806746a28ba4"
      },
      "outputs": [
        {
          "data": {
            "image/png": "[encoded data removed]",
            "text/plain": [
              "<Figure size 500x1000 with 1 Axes>"
            ]
          },
          "metadata": {},
          "output_type": "display_data"
        }
      ],
      "source": [
        "plt.figure(figsize=(5, 10))\n",
        "sns.set_theme(style=\"whitegrid\")\n",
        "ax = sns.barplot(y=predictions.index[:-15], x=\"R-Squared\", data=predictions[:-15])"
      ]
    },
    {
      "cell_type": "markdown",
      "id": "2c9e8ee8",
      "metadata": {},
      "source": [
        "# Busqueda hiperparámetros LGBMRegressor"
      ]
    },
    {
      "cell_type": "code",
      "execution_count": 161,
      "id": "GYRSiOlpU2T9",
      "metadata": {
        "colab": {
          "base_uri": "https://localhost:8080/",
          "height": 75
        },
        "id": "GYRSiOlpU2T9",
        "outputId": "fb8b15a5-3f63-4ece-ce58-6b3c2aee56b4"
      },
      "outputs": [
        {
          "name": "stdout",
          "output_type": "stream",
          "text": [
            "Fitting 5 folds for each of 162 candidates, totalling 810 fits\n",
            "[LightGBM] [Warning] min_data_in_leaf is set=100, min_child_samples=20 will be ignored. Current value: min_data_in_leaf=100\n"
          ]
        },
        {
          "data": {
            "text/html": [
              "<style>#sk-container-id-1 {color: black;background-color: white;}#sk-container-id-1 pre{padding: 0;}#sk-container-id-1 div.sk-toggleable {background-color: white;}#sk-container-id-1 label.sk-toggleable__label {cursor: pointer;display: block;width: 100%;margin-bottom: 0;padding: 0.3em;box-sizing: border-box;text-align: center;}#sk-container-id-1 label.sk-toggleable__label-arrow:before {content: \"▸\";float: left;margin-right: 0.25em;color: #696969;}#sk-container-id-1 label.sk-toggleable__label-arrow:hover:before {color: black;}#sk-container-id-1 div.sk-estimator:hover label.sk-toggleable__label-arrow:before {color: black;}#sk-container-id-1 div.sk-toggleable__content {max-height: 0;max-width: 0;overflow: hidden;text-align: left;background-color: #f0f8ff;}#sk-container-id-1 div.sk-toggleable__content pre {margin: 0.2em;color: black;border-radius: 0.25em;background-color: #f0f8ff;}#sk-container-id-1 input.sk-toggleable__control:checked~div.sk-toggleable__content {max-height: 200px;max-width: 100%;overflow: auto;}#sk-container-id-1 input.sk-toggleable__control:checked~label.sk-toggleable__label-arrow:before {content: \"▾\";}#sk-container-id-1 div.sk-estimator input.sk-toggleable__control:checked~label.sk-toggleable__label {background-color: #d4ebff;}#sk-container-id-1 div.sk-label input.sk-toggleable__control:checked~label.sk-toggleable__label {background-color: #d4ebff;}#sk-container-id-1 input.sk-hidden--visually {border: 0;clip: rect(1px 1px 1px 1px);clip: rect(1px, 1px, 1px, 1px);height: 1px;margin: -1px;overflow: hidden;padding: 0;position: absolute;width: 1px;}#sk-container-id-1 div.sk-estimator {font-family: monospace;background-color: #f0f8ff;border: 1px dotted black;border-radius: 0.25em;box-sizing: border-box;margin-bottom: 0.5em;}#sk-container-id-1 div.sk-estimator:hover {background-color: #d4ebff;}#sk-container-id-1 div.sk-parallel-item::after {content: \"\";width: 100%;border-bottom: 1px solid gray;flex-grow: 1;}#sk-container-id-1 div.sk-label:hover label.sk-toggleable__label {background-color: #d4ebff;}#sk-container-id-1 div.sk-serial::before {content: \"\";position: absolute;border-left: 1px solid gray;box-sizing: border-box;top: 0;bottom: 0;left: 50%;z-index: 0;}#sk-container-id-1 div.sk-serial {display: flex;flex-direction: column;align-items: center;background-color: white;padding-right: 0.2em;padding-left: 0.2em;position: relative;}#sk-container-id-1 div.sk-item {position: relative;z-index: 1;}#sk-container-id-1 div.sk-parallel {display: flex;align-items: stretch;justify-content: center;background-color: white;position: relative;}#sk-container-id-1 div.sk-item::before, #sk-container-id-1 div.sk-parallel-item::before {content: \"\";position: absolute;border-left: 1px solid gray;box-sizing: border-box;top: 0;bottom: 0;left: 50%;z-index: -1;}#sk-container-id-1 div.sk-parallel-item {display: flex;flex-direction: column;z-index: 1;position: relative;background-color: white;}#sk-container-id-1 div.sk-parallel-item:first-child::after {align-self: flex-end;width: 50%;}#sk-container-id-1 div.sk-parallel-item:last-child::after {align-self: flex-start;width: 50%;}#sk-container-id-1 div.sk-parallel-item:only-child::after {width: 0;}#sk-container-id-1 div.sk-dashed-wrapped {border: 1px dashed gray;margin: 0 0.4em 0.5em 0.4em;box-sizing: border-box;padding-bottom: 0.4em;background-color: white;}#sk-container-id-1 div.sk-label label {font-family: monospace;font-weight: bold;display: inline-block;line-height: 1.2em;}#sk-container-id-1 div.sk-label-container {text-align: center;}#sk-container-id-1 div.sk-container {/* jupyter's `normalize.less` sets `[hidden] { display: none; }` but bootstrap.min.css set `[hidden] { display: none !important; }` so we also need the `!important` here to be able to override the default hidden behavior on the sphinx rendered scikit-learn.org. See: https://github.com/scikit-learn/scikit-learn/issues/21755 */display: inline-block !important;position: relative;}#sk-container-id-1 div.sk-text-repr-fallback {display: none;}</style><div id=\"sk-container-id-1\" class=\"sk-top-container\"><div class=\"sk-text-repr-fallback\"><pre>GridSearchCV(cv=5, estimator=LGBMRegressor(), n_jobs=-1,\n",
              "             param_grid={&#x27;learning_rate&#x27;: [0.01, 0.05, 0.1],\n",
              "                         &#x27;max_depth&#x27;: [-1, 5, 10],\n",
              "                         &#x27;min_data_in_leaf&#x27;: [30, 50, 100],\n",
              "                         &#x27;num_leaves&#x27;: [31, 50, 70], &#x27;reg_alpha&#x27;: [0.1, 0.5]},\n",
              "             scoring=&#x27;r2&#x27;, verbose=1)</pre><b>In a Jupyter environment, please rerun this cell to show the HTML representation or trust the notebook. <br />On GitHub, the HTML representation is unable to render, please try loading this page with nbviewer.org.</b></div><div class=\"sk-container\" hidden><div class=\"sk-item sk-dashed-wrapped\"><div class=\"sk-label-container\"><div class=\"sk-label sk-toggleable\"><input class=\"sk-toggleable__control sk-hidden--visually\" id=\"sk-estimator-id-1\" type=\"checkbox\" ><label for=\"sk-estimator-id-1\" class=\"sk-toggleable__label sk-toggleable__label-arrow\">GridSearchCV</label><div class=\"sk-toggleable__content\"><pre>GridSearchCV(cv=5, estimator=LGBMRegressor(), n_jobs=-1,\n",
              "             param_grid={&#x27;learning_rate&#x27;: [0.01, 0.05, 0.1],\n",
              "                         &#x27;max_depth&#x27;: [-1, 5, 10],\n",
              "                         &#x27;min_data_in_leaf&#x27;: [30, 50, 100],\n",
              "                         &#x27;num_leaves&#x27;: [31, 50, 70], &#x27;reg_alpha&#x27;: [0.1, 0.5]},\n",
              "             scoring=&#x27;r2&#x27;, verbose=1)</pre></div></div></div><div class=\"sk-parallel\"><div class=\"sk-parallel-item\"><div class=\"sk-item\"><div class=\"sk-label-container\"><div class=\"sk-label sk-toggleable\"><input class=\"sk-toggleable__control sk-hidden--visually\" id=\"sk-estimator-id-2\" type=\"checkbox\" ><label for=\"sk-estimator-id-2\" class=\"sk-toggleable__label sk-toggleable__label-arrow\">estimator: LGBMRegressor</label><div class=\"sk-toggleable__content\"><pre>LGBMRegressor()</pre></div></div></div><div class=\"sk-serial\"><div class=\"sk-item\"><div class=\"sk-estimator sk-toggleable\"><input class=\"sk-toggleable__control sk-hidden--visually\" id=\"sk-estimator-id-3\" type=\"checkbox\" ><label for=\"sk-estimator-id-3\" class=\"sk-toggleable__label sk-toggleable__label-arrow\">LGBMRegressor</label><div class=\"sk-toggleable__content\"><pre>LGBMRegressor()</pre></div></div></div></div></div></div></div></div></div></div>"
            ],
            "text/plain": [
              "GridSearchCV(cv=5, estimator=LGBMRegressor(), n_jobs=-1,\n",
              "             param_grid={'learning_rate': [0.01, 0.05, 0.1],\n",
              "                         'max_depth': [-1, 5, 10],\n",
              "                         'min_data_in_leaf': [30, 50, 100],\n",
              "                         'num_leaves': [31, 50, 70], 'reg_alpha': [0.1, 0.5]},\n",
              "             scoring='r2', verbose=1)"
            ]
          },
          "execution_count": 161,
          "metadata": {},
          "output_type": "execute_result"
        }
      ],
      "source": [
        "# LGBMRegressor\n",
        "import lightgbm as lgb\n",
        "from sklearn.model_selection import GridSearchCV\n",
        "\n",
        "param_grid = {\n",
        "    'num_leaves': [31, 50, 70],\n",
        "    'reg_alpha': [0.1, 0.5],\n",
        "    'min_data_in_leaf': [30, 50, 100],\n",
        "    'learning_rate': [0.01, 0.05, 0.1],\n",
        "    'max_depth': [-1, 5, 10]\n",
        "}\n",
        "\n",
        "lgbm = lgb.LGBMRegressor()\n",
        "\n",
        "grid_search = GridSearchCV(estimator=lgbm, param_grid=param_grid, cv=5, scoring='r2', verbose=1, n_jobs=-1)\n",
        "\n",
        "grid_search.fit(X_train, y_train)"
      ]
    },
    {
      "cell_type": "code",
      "execution_count": 162,
      "metadata": {},
      "outputs": [
        {
          "name": "stdout",
          "output_type": "stream",
          "text": [
            "Mejores parámetros encontrados: {'learning_rate': 0.05, 'max_depth': -1, 'min_data_in_leaf': 100, 'num_leaves': 70, 'reg_alpha': 0.5}\n"
          ]
        }
      ],
      "source": [
        "# Mejores parámetros LBBMRegressor con categorias\n",
        "best_params_lgbm_categorias = grid_search.best_params_\n",
        "best_model_lgbm_categorias = grid_search.best_estimator_\n",
        "\n",
        "print(f\"Mejores parámetros encontrados: {best_params_lgbm_categorias}\")"
      ]
    },
    {
      "cell_type": "code",
      "execution_count": 163,
      "id": "4INR0r8MXuBm",
      "metadata": {
        "colab": {
          "base_uri": "https://localhost:8080/"
        },
        "id": "4INR0r8MXuBm",
        "outputId": "98f033b8-4821-4496-e1f5-04bb9d740488"
      },
      "outputs": [
        {
          "name": "stdout",
          "output_type": "stream",
          "text": [
            "MAE train: 7862636.431130053\n",
            "MAE test: 11218845.185880592\n",
            "\n",
            "RMSE train: 15646572.286599882\n",
            "RMSE test: 20700288.21168876\n",
            "\n",
            "R2 train: 0.8418402924952801\n",
            "R2 test: 0.7489211904404943\n"
          ]
        }
      ],
      "source": [
        "# Evaluar para train y test. MAE, RMSE y R2\n",
        "from sklearn.metrics import mean_absolute_error, mean_squared_error, r2_score\n",
        "\n",
        "y_train_pred = best_model_lgbm_categorias.predict(X_train)\n",
        "y_test_pred = best_model_lgbm_categorias.predict(X_test)\n",
        "\n",
        "mae_train = mean_absolute_error(y_train, y_train_pred)\n",
        "rmse_train = np.sqrt(mean_squared_error(y_train, y_train_pred))\n",
        "r2_train = r2_score(y_train, y_train_pred)\n",
        "\n",
        "mae_test = mean_absolute_error(y_test, y_test_pred)\n",
        "rmse_test = np.sqrt(mean_squared_error(y_test, y_test_pred))\n",
        "r2_test = r2_score(y_test, y_test_pred)\n",
        "\n",
        "print(f\"MAE train: {mae_train}\")\n",
        "print(f\"MAE test: {mae_test}\")\n",
        "print()\n",
        "print(f\"RMSE train: {rmse_train}\")\n",
        "print(f\"RMSE test: {rmse_test}\")\n",
        "print()\n",
        "print(f\"R2 train: {r2_train}\")\n",
        "print(f\"R2 test: {r2_test}\")"
      ]
    },
    {
      "cell_type": "code",
      "execution_count": 164,
      "id": "xzqdfNa1RPnv",
      "metadata": {
        "id": "xzqdfNa1RPnv"
      },
      "outputs": [],
      "source": [
        "importances =pd.DataFrame({'feature': X_train.columns.array, 'score': best_model_lgbm_categorias.feature_importances_})\n",
        "importances.sort_values(by='score', ascending=False, inplace=True)\n",
        "\n",
        "plot = importances.head(10)"
      ]
    },
    {
      "cell_type": "code",
      "execution_count": 165,
      "id": "WauvsgZpThEf",
      "metadata": {
        "colab": {
          "base_uri": "https://localhost:8080/",
          "height": 1000
        },
        "id": "WauvsgZpThEf",
        "outputId": "2355242a-b6b8-4f44-cbf2-019b1f182766"
      },
      "outputs": [
        {
          "data": {
            "image/png": "[encoded data removed]",
            "text/plain": [
              "<Figure size 4000x2000 with 1 Axes>"
            ]
          },
          "metadata": {},
          "output_type": "display_data"
        }
      ],
      "source": [
        "plt.figure(figsize=(40, 20))\n",
        "plt.bar(plot['feature'], plot['score'], color='skyblue')\n",
        "plt.xlabel('feature')\n",
        "plt.ylabel('score')\n",
        "plt.title('Importancia')\n",
        "\n",
        "# Mostrar el diagrama de barras\n",
        "plt.show()"
      ]
    },
    {
      "cell_type": "code",
      "execution_count": 166,
      "metadata": {},
      "outputs": [],
      "source": [
        "# Guardar el modelo\n",
        "import pickle\n",
        "\n",
        "pickle.dump(best_model_lgbm_categorias, open('best_model_lgbm_categorias.pkl', 'wb'))"
      ]
    },
    {
      "cell_type": "markdown",
      "id": "26d2f11e",
      "metadata": {},
      "source": [
        "# Busqueda hiperparámetros HistGradientBoostingRegressor"
      ]
    },
    {
      "cell_type": "code",
      "execution_count": 168,
      "id": "bccc55f5",
      "metadata": {},
      "outputs": [
        {
          "name": "stdout",
          "output_type": "stream",
          "text": [
            "Fitting 5 folds for each of 72 candidates, totalling 360 fits\n"
          ]
        },
        {
          "data": {
            "text/html": [
              "<style>#sk-container-id-2 {color: black;background-color: white;}#sk-container-id-2 pre{padding: 0;}#sk-container-id-2 div.sk-toggleable {background-color: white;}#sk-container-id-2 label.sk-toggleable__label {cursor: pointer;display: block;width: 100%;margin-bottom: 0;padding: 0.3em;box-sizing: border-box;text-align: center;}#sk-container-id-2 label.sk-toggleable__label-arrow:before {content: \"▸\";float: left;margin-right: 0.25em;color: #696969;}#sk-container-id-2 label.sk-toggleable__label-arrow:hover:before {color: black;}#sk-container-id-2 div.sk-estimator:hover label.sk-toggleable__label-arrow:before {color: black;}#sk-container-id-2 div.sk-toggleable__content {max-height: 0;max-width: 0;overflow: hidden;text-align: left;background-color: #f0f8ff;}#sk-container-id-2 div.sk-toggleable__content pre {margin: 0.2em;color: black;border-radius: 0.25em;background-color: #f0f8ff;}#sk-container-id-2 input.sk-toggleable__control:checked~div.sk-toggleable__content {max-height: 200px;max-width: 100%;overflow: auto;}#sk-container-id-2 input.sk-toggleable__control:checked~label.sk-toggleable__label-arrow:before {content: \"▾\";}#sk-container-id-2 div.sk-estimator input.sk-toggleable__control:checked~label.sk-toggleable__label {background-color: #d4ebff;}#sk-container-id-2 div.sk-label input.sk-toggleable__control:checked~label.sk-toggleable__label {background-color: #d4ebff;}#sk-container-id-2 input.sk-hidden--visually {border: 0;clip: rect(1px 1px 1px 1px);clip: rect(1px, 1px, 1px, 1px);height: 1px;margin: -1px;overflow: hidden;padding: 0;position: absolute;width: 1px;}#sk-container-id-2 div.sk-estimator {font-family: monospace;background-color: #f0f8ff;border: 1px dotted black;border-radius: 0.25em;box-sizing: border-box;margin-bottom: 0.5em;}#sk-container-id-2 div.sk-estimator:hover {background-color: #d4ebff;}#sk-container-id-2 div.sk-parallel-item::after {content: \"\";width: 100%;border-bottom: 1px solid gray;flex-grow: 1;}#sk-container-id-2 div.sk-label:hover label.sk-toggleable__label {background-color: #d4ebff;}#sk-container-id-2 div.sk-serial::before {content: \"\";position: absolute;border-left: 1px solid gray;box-sizing: border-box;top: 0;bottom: 0;left: 50%;z-index: 0;}#sk-container-id-2 div.sk-serial {display: flex;flex-direction: column;align-items: center;background-color: white;padding-right: 0.2em;padding-left: 0.2em;position: relative;}#sk-container-id-2 div.sk-item {position: relative;z-index: 1;}#sk-container-id-2 div.sk-parallel {display: flex;align-items: stretch;justify-content: center;background-color: white;position: relative;}#sk-container-id-2 div.sk-item::before, #sk-container-id-2 div.sk-parallel-item::before {content: \"\";position: absolute;border-left: 1px solid gray;box-sizing: border-box;top: 0;bottom: 0;left: 50%;z-index: -1;}#sk-container-id-2 div.sk-parallel-item {display: flex;flex-direction: column;z-index: 1;position: relative;background-color: white;}#sk-container-id-2 div.sk-parallel-item:first-child::after {align-self: flex-end;width: 50%;}#sk-container-id-2 div.sk-parallel-item:last-child::after {align-self: flex-start;width: 50%;}#sk-container-id-2 div.sk-parallel-item:only-child::after {width: 0;}#sk-container-id-2 div.sk-dashed-wrapped {border: 1px dashed gray;margin: 0 0.4em 0.5em 0.4em;box-sizing: border-box;padding-bottom: 0.4em;background-color: white;}#sk-container-id-2 div.sk-label label {font-family: monospace;font-weight: bold;display: inline-block;line-height: 1.2em;}#sk-container-id-2 div.sk-label-container {text-align: center;}#sk-container-id-2 div.sk-container {/* jupyter's `normalize.less` sets `[hidden] { display: none; }` but bootstrap.min.css set `[hidden] { display: none !important; }` so we also need the `!important` here to be able to override the default hidden behavior on the sphinx rendered scikit-learn.org. See: https://github.com/scikit-learn/scikit-learn/issues/21755 */display: inline-block !important;position: relative;}#sk-container-id-2 div.sk-text-repr-fallback {display: none;}</style><div id=\"sk-container-id-2\" class=\"sk-top-container\"><div class=\"sk-text-repr-fallback\"><pre>GridSearchCV(cv=5, estimator=HistGradientBoostingRegressor(), n_jobs=-1,\n",
              "             param_grid={&#x27;l2_regularization&#x27;: [0.0, 0.1],\n",
              "                         &#x27;learning_rate&#x27;: [0.01, 0.1, 0.2],\n",
              "                         &#x27;max_depth&#x27;: [3, 5, 10], &#x27;max_iter&#x27;: [100, 200],\n",
              "                         &#x27;min_samples_leaf&#x27;: [20, 40]},\n",
              "             scoring=&#x27;r2&#x27;, verbose=1)</pre><b>In a Jupyter environment, please rerun this cell to show the HTML representation or trust the notebook. <br />On GitHub, the HTML representation is unable to render, please try loading this page with nbviewer.org.</b></div><div class=\"sk-container\" hidden><div class=\"sk-item sk-dashed-wrapped\"><div class=\"sk-label-container\"><div class=\"sk-label sk-toggleable\"><input class=\"sk-toggleable__control sk-hidden--visually\" id=\"sk-estimator-id-4\" type=\"checkbox\" ><label for=\"sk-estimator-id-4\" class=\"sk-toggleable__label sk-toggleable__label-arrow\">GridSearchCV</label><div class=\"sk-toggleable__content\"><pre>GridSearchCV(cv=5, estimator=HistGradientBoostingRegressor(), n_jobs=-1,\n",
              "             param_grid={&#x27;l2_regularization&#x27;: [0.0, 0.1],\n",
              "                         &#x27;learning_rate&#x27;: [0.01, 0.1, 0.2],\n",
              "                         &#x27;max_depth&#x27;: [3, 5, 10], &#x27;max_iter&#x27;: [100, 200],\n",
              "                         &#x27;min_samples_leaf&#x27;: [20, 40]},\n",
              "             scoring=&#x27;r2&#x27;, verbose=1)</pre></div></div></div><div class=\"sk-parallel\"><div class=\"sk-parallel-item\"><div class=\"sk-item\"><div class=\"sk-label-container\"><div class=\"sk-label sk-toggleable\"><input class=\"sk-toggleable__control sk-hidden--visually\" id=\"sk-estimator-id-5\" type=\"checkbox\" ><label for=\"sk-estimator-id-5\" class=\"sk-toggleable__label sk-toggleable__label-arrow\">estimator: HistGradientBoostingRegressor</label><div class=\"sk-toggleable__content\"><pre>HistGradientBoostingRegressor()</pre></div></div></div><div class=\"sk-serial\"><div class=\"sk-item\"><div class=\"sk-estimator sk-toggleable\"><input class=\"sk-toggleable__control sk-hidden--visually\" id=\"sk-estimator-id-6\" type=\"checkbox\" ><label for=\"sk-estimator-id-6\" class=\"sk-toggleable__label sk-toggleable__label-arrow\">HistGradientBoostingRegressor</label><div class=\"sk-toggleable__content\"><pre>HistGradientBoostingRegressor()</pre></div></div></div></div></div></div></div></div></div></div>"
            ],
            "text/plain": [
              "GridSearchCV(cv=5, estimator=HistGradientBoostingRegressor(), n_jobs=-1,\n",
              "             param_grid={'l2_regularization': [0.0, 0.1],\n",
              "                         'learning_rate': [0.01, 0.1, 0.2],\n",
              "                         'max_depth': [3, 5, 10], 'max_iter': [100, 200],\n",
              "                         'min_samples_leaf': [20, 40]},\n",
              "             scoring='r2', verbose=1)"
            ]
          },
          "execution_count": 168,
          "metadata": {},
          "output_type": "execute_result"
        }
      ],
      "source": [
        "import numpy as np\n",
        "from sklearn.experimental import enable_hist_gradient_boosting\n",
        "from sklearn.ensemble import HistGradientBoostingRegressor\n",
        "from sklearn.model_selection import GridSearchCV\n",
        "\n",
        "param_grid = {\n",
        "    'max_iter': [100, 200],\n",
        "    'max_depth': [3, 5, 10],\n",
        "    'min_samples_leaf': [20, 40],\n",
        "    'learning_rate': [0.01, 0.1, 0.2],\n",
        "    'l2_regularization': [0.0, 0.1]\n",
        "}\n",
        "\n",
        "hist_gbr = HistGradientBoostingRegressor()\n",
        "\n",
        "grid_search = GridSearchCV(estimator=hist_gbr, param_grid=param_grid, cv=5, scoring='r2', verbose=1, n_jobs=-1)\n",
        "\n",
        "grid_search.fit(X_train, y_train)"
      ]
    },
    {
      "cell_type": "code",
      "execution_count": 169,
      "id": "08de7038",
      "metadata": {},
      "outputs": [
        {
          "name": "stdout",
          "output_type": "stream",
          "text": [
            "Mejores parámetros encontrados: {'l2_regularization': 0.1, 'learning_rate': 0.2, 'max_depth': 5, 'max_iter': 100, 'min_samples_leaf': 20}\n"
          ]
        }
      ],
      "source": [
        "# Mejores parámetros HistGradientBoostingRegressor con categorias\n",
        "best_params_hist_gbr_categorias = grid_search.best_params_\n",
        "best_model_hist_gbr_categorias = grid_search.best_estimator_\n",
        "\n",
        "print(f\"Mejores parámetros encontrados: {best_params_hist_gbr_categorias}\")"
      ]
    },
    {
      "cell_type": "code",
      "execution_count": 170,
      "id": "4e8e429f",
      "metadata": {},
      "outputs": [
        {
          "name": "stdout",
          "output_type": "stream",
          "text": [
            "MAE train: 8111847.004729575\n",
            "MAE test: 11220512.778386153\n",
            "\n",
            "RMSE train: 16018202.918244757\n",
            "RMSE test: 20371537.135142952\n",
            "\n",
            "R2 train: 0.8342379865353803\n",
            "R2 test: 0.7568328659117193\n"
          ]
        }
      ],
      "source": [
        "# Evaluar para train y test. MAE, RMSE y R2\n",
        "from sklearn.metrics import mean_absolute_error, mean_squared_error, r2_score\n",
        "\n",
        "y_train_pred = best_model_hist_gbr_categorias.predict(X_train)\n",
        "y_test_pred = best_model_hist_gbr_categorias.predict(X_test)\n",
        "\n",
        "mae_train = mean_absolute_error(y_train, y_train_pred)\n",
        "rmse_train = np.sqrt(mean_squared_error(y_train, y_train_pred))\n",
        "r2_train = r2_score(y_train, y_train_pred)\n",
        "\n",
        "mae_test = mean_absolute_error(y_test, y_test_pred)\n",
        "rmse_test = np.sqrt(mean_squared_error(y_test, y_test_pred))\n",
        "r2_test = r2_score(y_test, y_test_pred)\n",
        "\n",
        "print(f\"MAE train: {mae_train}\")\n",
        "print(f\"MAE test: {mae_test}\")\n",
        "print()\n",
        "print(f\"RMSE train: {rmse_train}\")\n",
        "print(f\"RMSE test: {rmse_test}\")\n",
        "print()\n",
        "print(f\"R2 train: {r2_train}\")\n",
        "print(f\"R2 test: {r2_test}\")"
      ]
    },
    {
      "cell_type": "code",
      "execution_count": 177,
      "metadata": {},
      "outputs": [],
      "source": [
        "from sklearn.inspection import permutation_importance\n",
        "\n",
        "# Asumiendo que best_model_hist_gbr_categorias es tu modelo entrenado HistGradientBoostingRegressor\n",
        "result = permutation_importance(best_model_hist_gbr_categorias, X_train, y_train, n_repeats=10, random_state=0, n_jobs=-1)\n",
        "\n",
        "# Crear DataFrame de importancias de características\n",
        "importances = pd.DataFrame({'feature': X_train.columns, 'score': result.importances_mean})\n",
        "\n",
        "# Ordenar el DataFrame por la importancia de las características de forma descendente\n",
        "importances.sort_values(by='score', ascending=False, inplace=True)\n",
        "\n",
        "# Seleccionar las 10 características más importantes\n",
        "top_importances = importances.head(10)"
      ]
    },
    {
      "cell_type": "code",
      "execution_count": 178,
      "metadata": {},
      "outputs": [
        {
          "data": {
            "image/png": "[encoded data removed]",
            "text/plain": [
              "<Figure size 4000x2000 with 1 Axes>"
            ]
          },
          "metadata": {},
          "output_type": "display_data"
        }
      ],
      "source": [
        "# Crear un gráfico de barras\n",
        "plt.figure(figsize=(40, 20))\n",
        "plt.bar(top_importances['feature'], top_importances['score'], color='skyblue')\n",
        "plt.xlabel('feature')\n",
        "plt.ylabel('score')\n",
        "plt.title('Importancia')\n",
        "\n",
        "# Mostrar el diagrama de barras\n",
        "plt.show()"
      ]
    },
    {
      "cell_type": "code",
      "execution_count": 180,
      "metadata": {},
      "outputs": [],
      "source": [
        "# Guardar el modelo\n",
        "import pickle\n",
        "\n",
        "pickle.dump(best_model_hist_gbr_categorias, open('best_model_hist_gbr_categorias.pkl', 'wb'))"
      ]
    },
    {
      "cell_type": "markdown",
      "id": "6ce1b577",
      "metadata": {},
      "source": [
        "# Busqueda hiperparámetros XGBRegressor"
      ]
    },
    {
      "cell_type": "code",
      "execution_count": 179,
      "id": "GBmjot8yX_VE",
      "metadata": {
        "id": "GBmjot8yX_VE"
      },
      "outputs": [
        {
          "name": "stdout",
          "output_type": "stream",
          "text": [
            "Fitting 5 folds for each of 486 candidates, totalling 2430 fits\n"
          ]
        },
        {
          "data": {
            "text/html": [
              "<style>#sk-container-id-4 {color: black;background-color: white;}#sk-container-id-4 pre{padding: 0;}#sk-container-id-4 div.sk-toggleable {background-color: white;}#sk-container-id-4 label.sk-toggleable__label {cursor: pointer;display: block;width: 100%;margin-bottom: 0;padding: 0.3em;box-sizing: border-box;text-align: center;}#sk-container-id-4 label.sk-toggleable__label-arrow:before {content: \"▸\";float: left;margin-right: 0.25em;color: #696969;}#sk-container-id-4 label.sk-toggleable__label-arrow:hover:before {color: black;}#sk-container-id-4 div.sk-estimator:hover label.sk-toggleable__label-arrow:before {color: black;}#sk-container-id-4 div.sk-toggleable__content {max-height: 0;max-width: 0;overflow: hidden;text-align: left;background-color: #f0f8ff;}#sk-container-id-4 div.sk-toggleable__content pre {margin: 0.2em;color: black;border-radius: 0.25em;background-color: #f0f8ff;}#sk-container-id-4 input.sk-toggleable__control:checked~div.sk-toggleable__content {max-height: 200px;max-width: 100%;overflow: auto;}#sk-container-id-4 input.sk-toggleable__control:checked~label.sk-toggleable__label-arrow:before {content: \"▾\";}#sk-container-id-4 div.sk-estimator input.sk-toggleable__control:checked~label.sk-toggleable__label {background-color: #d4ebff;}#sk-container-id-4 div.sk-label input.sk-toggleable__control:checked~label.sk-toggleable__label {background-color: #d4ebff;}#sk-container-id-4 input.sk-hidden--visually {border: 0;clip: rect(1px 1px 1px 1px);clip: rect(1px, 1px, 1px, 1px);height: 1px;margin: -1px;overflow: hidden;padding: 0;position: absolute;width: 1px;}#sk-container-id-4 div.sk-estimator {font-family: monospace;background-color: #f0f8ff;border: 1px dotted black;border-radius: 0.25em;box-sizing: border-box;margin-bottom: 0.5em;}#sk-container-id-4 div.sk-estimator:hover {background-color: #d4ebff;}#sk-container-id-4 div.sk-parallel-item::after {content: \"\";width: 100%;border-bottom: 1px solid gray;flex-grow: 1;}#sk-container-id-4 div.sk-label:hover label.sk-toggleable__label {background-color: #d4ebff;}#sk-container-id-4 div.sk-serial::before {content: \"\";position: absolute;border-left: 1px solid gray;box-sizing: border-box;top: 0;bottom: 0;left: 50%;z-index: 0;}#sk-container-id-4 div.sk-serial {display: flex;flex-direction: column;align-items: center;background-color: white;padding-right: 0.2em;padding-left: 0.2em;position: relative;}#sk-container-id-4 div.sk-item {position: relative;z-index: 1;}#sk-container-id-4 div.sk-parallel {display: flex;align-items: stretch;justify-content: center;background-color: white;position: relative;}#sk-container-id-4 div.sk-item::before, #sk-container-id-4 div.sk-parallel-item::before {content: \"\";position: absolute;border-left: 1px solid gray;box-sizing: border-box;top: 0;bottom: 0;left: 50%;z-index: -1;}#sk-container-id-4 div.sk-parallel-item {display: flex;flex-direction: column;z-index: 1;position: relative;background-color: white;}#sk-container-id-4 div.sk-parallel-item:first-child::after {align-self: flex-end;width: 50%;}#sk-container-id-4 div.sk-parallel-item:last-child::after {align-self: flex-start;width: 50%;}#sk-container-id-4 div.sk-parallel-item:only-child::after {width: 0;}#sk-container-id-4 div.sk-dashed-wrapped {border: 1px dashed gray;margin: 0 0.4em 0.5em 0.4em;box-sizing: border-box;padding-bottom: 0.4em;background-color: white;}#sk-container-id-4 div.sk-label label {font-family: monospace;font-weight: bold;display: inline-block;line-height: 1.2em;}#sk-container-id-4 div.sk-label-container {text-align: center;}#sk-container-id-4 div.sk-container {/* jupyter's `normalize.less` sets `[hidden] { display: none; }` but bootstrap.min.css set `[hidden] { display: none !important; }` so we also need the `!important` here to be able to override the default hidden behavior on the sphinx rendered scikit-learn.org. See: https://github.com/scikit-learn/scikit-learn/issues/21755 */display: inline-block !important;position: relative;}#sk-container-id-4 div.sk-text-repr-fallback {display: none;}</style><div id=\"sk-container-id-4\" class=\"sk-top-container\"><div class=\"sk-text-repr-fallback\"><pre>GridSearchCV(cv=5,\n",
              "             estimator=XGBRegressor(base_score=None, booster=None,\n",
              "                                    callbacks=None, colsample_bylevel=None,\n",
              "                                    colsample_bynode=None,\n",
              "                                    colsample_bytree=None,\n",
              "                                    early_stopping_rounds=None,\n",
              "                                    enable_categorical=False, eval_metric=None,\n",
              "                                    feature_types=None, gamma=None, gpu_id=None,\n",
              "                                    grow_policy=None, importance_type=None,\n",
              "                                    interaction_constraints=None,\n",
              "                                    learning_rate=None, m...\n",
              "                                    min_child_weight=None, missing=nan,\n",
              "                                    monotone_constraints=None, n_estimators=100,\n",
              "                                    n_jobs=None, num_parallel_tree=None,\n",
              "                                    predictor=None, random_state=None, ...),\n",
              "             n_jobs=-1,\n",
              "             param_grid={&#x27;colsample_bytree&#x27;: [0.5, 0.7], &#x27;gamma&#x27;: [0, 0.1, 0.2],\n",
              "                         &#x27;learning_rate&#x27;: [0.01, 0.1, 0.2],\n",
              "                         &#x27;max_depth&#x27;: [3, 6, 9],\n",
              "                         &#x27;n_estimators&#x27;: [100, 200, 300],\n",
              "                         &#x27;subsample&#x27;: [0.6, 0.8, 1.0]},\n",
              "             scoring=&#x27;r2&#x27;, verbose=1)</pre><b>In a Jupyter environment, please rerun this cell to show the HTML representation or trust the notebook. <br />On GitHub, the HTML representation is unable to render, please try loading this page with nbviewer.org.</b></div><div class=\"sk-container\" hidden><div class=\"sk-item sk-dashed-wrapped\"><div class=\"sk-label-container\"><div class=\"sk-label sk-toggleable\"><input class=\"sk-toggleable__control sk-hidden--visually\" id=\"sk-estimator-id-8\" type=\"checkbox\" ><label for=\"sk-estimator-id-8\" class=\"sk-toggleable__label sk-toggleable__label-arrow\">GridSearchCV</label><div class=\"sk-toggleable__content\"><pre>GridSearchCV(cv=5,\n",
              "             estimator=XGBRegressor(base_score=None, booster=None,\n",
              "                                    callbacks=None, colsample_bylevel=None,\n",
              "                                    colsample_bynode=None,\n",
              "                                    colsample_bytree=None,\n",
              "                                    early_stopping_rounds=None,\n",
              "                                    enable_categorical=False, eval_metric=None,\n",
              "                                    feature_types=None, gamma=None, gpu_id=None,\n",
              "                                    grow_policy=None, importance_type=None,\n",
              "                                    interaction_constraints=None,\n",
              "                                    learning_rate=None, m...\n",
              "                                    min_child_weight=None, missing=nan,\n",
              "                                    monotone_constraints=None, n_estimators=100,\n",
              "                                    n_jobs=None, num_parallel_tree=None,\n",
              "                                    predictor=None, random_state=None, ...),\n",
              "             n_jobs=-1,\n",
              "             param_grid={&#x27;colsample_bytree&#x27;: [0.5, 0.7], &#x27;gamma&#x27;: [0, 0.1, 0.2],\n",
              "                         &#x27;learning_rate&#x27;: [0.01, 0.1, 0.2],\n",
              "                         &#x27;max_depth&#x27;: [3, 6, 9],\n",
              "                         &#x27;n_estimators&#x27;: [100, 200, 300],\n",
              "                         &#x27;subsample&#x27;: [0.6, 0.8, 1.0]},\n",
              "             scoring=&#x27;r2&#x27;, verbose=1)</pre></div></div></div><div class=\"sk-parallel\"><div class=\"sk-parallel-item\"><div class=\"sk-item\"><div class=\"sk-label-container\"><div class=\"sk-label sk-toggleable\"><input class=\"sk-toggleable__control sk-hidden--visually\" id=\"sk-estimator-id-9\" type=\"checkbox\" ><label for=\"sk-estimator-id-9\" class=\"sk-toggleable__label sk-toggleable__label-arrow\">estimator: XGBRegressor</label><div class=\"sk-toggleable__content\"><pre>XGBRegressor(base_score=None, booster=None, callbacks=None,\n",
              "             colsample_bylevel=None, colsample_bynode=None,\n",
              "             colsample_bytree=None, early_stopping_rounds=None,\n",
              "             enable_categorical=False, eval_metric=None, feature_types=None,\n",
              "             gamma=None, gpu_id=None, grow_policy=None, importance_type=None,\n",
              "             interaction_constraints=None, learning_rate=None, max_bin=None,\n",
              "             max_cat_threshold=None, max_cat_to_onehot=None,\n",
              "             max_delta_step=None, max_depth=None, max_leaves=None,\n",
              "             min_child_weight=None, missing=nan, monotone_constraints=None,\n",
              "             n_estimators=100, n_jobs=None, num_parallel_tree=None,\n",
              "             predictor=None, random_state=None, ...)</pre></div></div></div><div class=\"sk-serial\"><div class=\"sk-item\"><div class=\"sk-estimator sk-toggleable\"><input class=\"sk-toggleable__control sk-hidden--visually\" id=\"sk-estimator-id-10\" type=\"checkbox\" ><label for=\"sk-estimator-id-10\" class=\"sk-toggleable__label sk-toggleable__label-arrow\">XGBRegressor</label><div class=\"sk-toggleable__content\"><pre>XGBRegressor(base_score=None, booster=None, callbacks=None,\n",
              "             colsample_bylevel=None, colsample_bynode=None,\n",
              "             colsample_bytree=None, early_stopping_rounds=None,\n",
              "             enable_categorical=False, eval_metric=None, feature_types=None,\n",
              "             gamma=None, gpu_id=None, grow_policy=None, importance_type=None,\n",
              "             interaction_constraints=None, learning_rate=None, max_bin=None,\n",
              "             max_cat_threshold=None, max_cat_to_onehot=None,\n",
              "             max_delta_step=None, max_depth=None, max_leaves=None,\n",
              "             min_child_weight=None, missing=nan, monotone_constraints=None,\n",
              "             n_estimators=100, n_jobs=None, num_parallel_tree=None,\n",
              "             predictor=None, random_state=None, ...)</pre></div></div></div></div></div></div></div></div></div></div>"
            ],
            "text/plain": [
              "GridSearchCV(cv=5,\n",
              "             estimator=XGBRegressor(base_score=None, booster=None,\n",
              "                                    callbacks=None, colsample_bylevel=None,\n",
              "                                    colsample_bynode=None,\n",
              "                                    colsample_bytree=None,\n",
              "                                    early_stopping_rounds=None,\n",
              "                                    enable_categorical=False, eval_metric=None,\n",
              "                                    feature_types=None, gamma=None, gpu_id=None,\n",
              "                                    grow_policy=None, importance_type=None,\n",
              "                                    interaction_constraints=None,\n",
              "                                    learning_rate=None, m...\n",
              "                                    min_child_weight=None, missing=nan,\n",
              "                                    monotone_constraints=None, n_estimators=100,\n",
              "                                    n_jobs=None, num_parallel_tree=None,\n",
              "                                    predictor=None, random_state=None, ...),\n",
              "             n_jobs=-1,\n",
              "             param_grid={'colsample_bytree': [0.5, 0.7], 'gamma': [0, 0.1, 0.2],\n",
              "                         'learning_rate': [0.01, 0.1, 0.2],\n",
              "                         'max_depth': [3, 6, 9],\n",
              "                         'n_estimators': [100, 200, 300],\n",
              "                         'subsample': [0.6, 0.8, 1.0]},\n",
              "             scoring='r2', verbose=1)"
            ]
          },
          "execution_count": 179,
          "metadata": {},
          "output_type": "execute_result"
        }
      ],
      "source": [
        "from xgboost import XGBRegressor\n",
        "\n",
        "# Definir la cuadrícula de parámetros para XGBRegressor\n",
        "param_grid = {\n",
        "    'n_estimators': [100, 200, 300],\n",
        "    'learning_rate': [0.01, 0.1, 0.2],\n",
        "    'max_depth': [3, 6, 9],\n",
        "    'colsample_bytree': [0.5, 0.7],\n",
        "    'subsample': [0.6, 0.8, 1.0],\n",
        "    'gamma': [0, 0.1, 0.2]\n",
        "}\n",
        "\n",
        "# Inicializar el modelo XGBRegressor\n",
        "xgb_regressor = XGBRegressor(objective='reg:squarederror')\n",
        "\n",
        "# Configurar GridSearchCV\n",
        "grid_search = GridSearchCV(estimator=xgb_regressor, param_grid=param_grid, \n",
        "                           scoring='r2', cv=5, verbose=1, n_jobs=-1)\n",
        "\n",
        "# Entrenar con los datos\n",
        "grid_search.fit(X_train, y_train)"
      ]
    },
    {
      "cell_type": "code",
      "execution_count": 181,
      "metadata": {},
      "outputs": [
        {
          "name": "stdout",
          "output_type": "stream",
          "text": [
            "Mejores parámetros encontrados: {'colsample_bytree': 0.7, 'gamma': 0, 'learning_rate': 0.01, 'max_depth': 9, 'n_estimators': 100, 'subsample': 0.8}\n"
          ]
        }
      ],
      "source": [
        "# Mejores parámetros XGBRegressor con categorias\n",
        "best_params_xgb_categorias = grid_search.best_params_\n",
        "best_model_xgb_categorias = grid_search.best_estimator_\n",
        "\n",
        "print(f\"Mejores parámetros encontrados: {best_params_xgb_categorias}\")"
      ]
    },
    {
      "cell_type": "code",
      "execution_count": 182,
      "metadata": {},
      "outputs": [
        {
          "name": "stdout",
          "output_type": "stream",
          "text": [
            "MAE train: 10261177.53307495\n",
            "MAE test: 15207824.470941233\n",
            "\n",
            "RMSE train: 23283554.162158404\n",
            "RMSE test: 29066946.269227237\n",
            "\n",
            "R2 train: 0.6497678736632555\n",
            "R2 test: 0.5049419896249236\n"
          ]
        }
      ],
      "source": [
        "# Evaluar para train y test. MAE, RMSE y R2\n",
        "y_train_pred = best_model_xgb_categorias.predict(X_train)\n",
        "y_test_pred = best_model_xgb_categorias.predict(X_test)\n",
        "\n",
        "mae_train = mean_absolute_error(y_train, y_train_pred)\n",
        "mae_test = mean_absolute_error(y_test, y_test_pred)\n",
        "\n",
        "rmse_train = np.sqrt(mean_squared_error(y_train, y_train_pred))\n",
        "rmse_test = np.sqrt(mean_squared_error(y_test, y_test_pred))\n",
        "\n",
        "r2_train = r2_score(y_train, y_train_pred)\n",
        "r2_test = r2_score(y_test, y_test_pred)\n",
        "\n",
        "print(f\"MAE train: {mae_train}\")\n",
        "print(f\"MAE test: {mae_test}\")\n",
        "print()\n",
        "print(f\"RMSE train: {rmse_train}\")\n",
        "print(f\"RMSE test: {rmse_test}\")\n",
        "print()\n",
        "print(f\"R2 train: {r2_train}\")\n",
        "print(f\"R2 test: {r2_test}\")"
      ]
    },
    {
      "cell_type": "code",
      "execution_count": 183,
      "metadata": {},
      "outputs": [],
      "source": [
        "importances = pd.DataFrame({'feature': X_train.columns.array, 'score': best_model_xgb_categorias.feature_importances_})\n",
        "\n",
        "importances.sort_values(by='score', ascending=False, inplace=True)\n",
        "\n",
        "plot = importances.head(10)"
      ]
    },
    {
      "cell_type": "code",
      "execution_count": 184,
      "metadata": {},
      "outputs": [
        {
          "data": {
            "image/png": "[encoded data removed]",
            "text/plain": [
              "<Figure size 4000x2000 with 1 Axes>"
            ]
          },
          "metadata": {},
          "output_type": "display_data"
        }
      ],
      "source": [
        "plt.figure(figsize=(40, 20))\n",
        "plt.bar(plot['feature'], plot['score'], color='skyblue')\n",
        "plt.xlabel('feature')\n",
        "plt.ylabel('score')\n",
        "plt.title('Importancia')\n",
        "plt.show()"
      ]
    },
    {
      "cell_type": "code",
      "execution_count": 185,
      "metadata": {},
      "outputs": [],
      "source": [
        "# Guardar el modelo\n",
        "pickle.dump(best_model_xgb_categorias, open('best_model_xgb_categorias.pkl', 'wb'))"
      ]
    },
    {
      "cell_type": "markdown",
      "id": "3465f24e",
      "metadata": {},
      "source": [
        "# Modelo LazyRegressor sin categorías"
      ]
    },
    {
      "cell_type": "code",
      "execution_count": 186,
      "id": "895dce5c",
      "metadata": {},
      "outputs": [
        {
          "name": "stdout",
          "output_type": "stream",
          "text": [
            "<class 'pandas.core.frame.DataFrame'>\n",
            "RangeIndex: 240436 entries, 0 to 240435\n",
            "Data columns (total 35 columns):\n",
            " #   Column          Non-Null Count   Dtype         \n",
            "---  ------          --------------   -----         \n",
            " 0   fecha_de_venta  240436 non-null  datetime64[ns]\n",
            " 1   tienda          240436 non-null  object        \n",
            " 2   ventas          240436 non-null  float64       \n",
            " 3   muelle          152746 non-null  object        \n",
            " 4   hora_entera     240436 non-null  int32         \n",
            " 5   transacciones   240435 non-null  float64       \n",
            " 6   semana          240436 non-null  float64       \n",
            " 7   anio_entero     240436 non-null  float64       \n",
            " 8   mes_entero      240436 non-null  float64       \n",
            " 9   dia_entero      240436 non-null  float64       \n",
            " 10  mes_string      240436 non-null  object        \n",
            " 11  marca           240436 non-null  object        \n",
            " 12  unidades        155047 non-null  float64       \n",
            " 13  A10-A12         240436 non-null  uint8         \n",
            " 14  A2-A4           240436 non-null  uint8         \n",
            " 15  A4              240436 non-null  uint8         \n",
            " 16  A5-A6           240436 non-null  uint8         \n",
            " 17  A6-A8           240436 non-null  uint8         \n",
            " 18  A8-A10          240436 non-null  uint8         \n",
            " 19  abril           240436 non-null  uint8         \n",
            " 20  agosto          240436 non-null  uint8         \n",
            " 21  diciembre       240436 non-null  uint8         \n",
            " 22  enero           240436 non-null  uint8         \n",
            " 23  febrero         240436 non-null  uint8         \n",
            " 24  julio           240436 non-null  uint8         \n",
            " 25  junio           240436 non-null  uint8         \n",
            " 26  marzo           240436 non-null  uint8         \n",
            " 27  mayo            240436 non-null  uint8         \n",
            " 28  noviembre       240436 non-null  uint8         \n",
            " 29  octubre         240436 non-null  uint8         \n",
            " 30  septiembre      240436 non-null  uint8         \n",
            " 31  temperature     240436 non-null  float64       \n",
            " 32  wind_speed      240436 non-null  float64       \n",
            " 33  precipitation   240436 non-null  float64       \n",
            " 34  cloud_cover     240436 non-null  float64       \n",
            "dtypes: datetime64[ns](1), float64(11), int32(1), object(4), uint8(18)\n",
            "memory usage: 34.4+ MB\n"
          ]
        }
      ],
      "source": [
        "dataframe_unificado_final_sin_categorias.info()"
      ]
    },
    {
      "cell_type": "code",
      "execution_count": 187,
      "id": "52ad2d03",
      "metadata": {},
      "outputs": [
        {
          "name": "stderr",
          "output_type": "stream",
          "text": [
            " 28%|██▊       | 11/40 [00:34<02:02,  4.21s/it]"
          ]
        },
        {
          "name": "stdout",
          "output_type": "stream",
          "text": [
            "GammaRegressor model failed to execute\n",
            "Some value(s) of y are out of the valid range of the loss 'HalfGammaLoss'.\n",
            "GaussianProcessRegressor model failed to execute\n",
            "Unable to allocate 188. GiB for an array with shape (158914, 158914) and data type float64\n"
          ]
        },
        {
          "name": "stderr",
          "output_type": "stream",
          "text": [
            " 42%|████▎     | 17/40 [00:52<00:49,  2.13s/it]"
          ]
        },
        {
          "name": "stdout",
          "output_type": "stream",
          "text": [
            "KernelRidge model failed to execute\n",
            "Unable to allocate 188. GiB for an array with shape (158914, 158914) and data type float64\n"
          ]
        },
        {
          "name": "stderr",
          "output_type": "stream",
          "text": [
            " 78%|███████▊  | 31/40 [02:41<01:06,  7.36s/it]"
          ]
        },
        {
          "name": "stdout",
          "output_type": "stream",
          "text": [
            "QuantileRegressor model failed to execute\n",
            "Unable to allocate 188. GiB for an array with shape (158914, 158914) and data type float64\n"
          ]
        },
        {
          "name": "stderr",
          "output_type": "stream",
          "text": [
            "100%|██████████| 40/40 [03:22<00:00,  5.07s/it]"
          ]
        },
        {
          "name": "stdout",
          "output_type": "stream",
          "text": [
            "                                   Adjusted R-Squared               R-Squared  \\\n",
            "Model                                                                           \n",
            "RandomForestRegressor                            0.07                    0.07   \n",
            "HistGradientBoostingRegressor                    0.06                    0.06   \n",
            "LGBMRegressor                                    0.06                    0.06   \n",
            "GradientBoostingRegressor                        0.06                    0.06   \n",
            "XGBRegressor                                     0.06                    0.06   \n",
            "ExtraTreesRegressor                              0.05                    0.05   \n",
            "BaggingRegressor                                 0.04                    0.04   \n",
            "PoissonRegressor                                 0.03                    0.03   \n",
            "SGDRegressor                                     0.03                    0.03   \n",
            "Lars                                             0.02                    0.02   \n",
            "LassoLars                                        0.02                    0.02   \n",
            "Lasso                                            0.02                    0.02   \n",
            "Ridge                                            0.02                    0.02   \n",
            "RidgeCV                                          0.02                    0.02   \n",
            "LassoLarsIC                                      0.02                    0.02   \n",
            "BayesianRidge                                    0.02                    0.02   \n",
            "OrthogonalMatchingPursuit                        0.02                    0.02   \n",
            "ElasticNet                                       0.01                    0.01   \n",
            "TweedieRegressor                                 0.00                    0.00   \n",
            "OrthogonalMatchingPursuitCV                      0.00                    0.00   \n",
            "ElasticNetCV                                    -0.04                   -0.04   \n",
            "LassoLarsCV                                     -0.04                   -0.04   \n",
            "LassoCV                                         -0.04                   -0.04   \n",
            "LarsCV                                          -0.04                   -0.04   \n",
            "DummyRegressor                                  -0.04                   -0.04   \n",
            "DecisionTreeRegressor                           -0.05                   -0.05   \n",
            "ExtraTreeRegressor                              -0.06                   -0.06   \n",
            "KNeighborsRegressor                             -0.07                   -0.07   \n",
            "AdaBoostRegressor                               -0.12                   -0.12   \n",
            "HuberRegressor                                  -0.14                   -0.14   \n",
            "PassiveAggressiveRegressor                      -0.17                   -0.17   \n",
            "MLPRegressor                                    -0.31                   -0.31   \n",
            "LinearSVR                                       -0.50                   -0.50   \n",
            "RANSACRegressor                    -43443998315858.81      -43429609533158.30   \n",
            "LinearRegression              -9890659179134775296.00 -9887383363113914368.00   \n",
            "TransformedTargetRegressor    -9890659179134775296.00 -9887383363113914368.00   \n",
            "\n",
            "                                               RMSE  Time Taken  \n",
            "Model                                                            \n",
            "RandomForestRegressor                   30823982.38       37.44  \n",
            "HistGradientBoostingRegressor           30859576.27        0.57  \n",
            "LGBMRegressor                           30880530.37        0.32  \n",
            "GradientBoostingRegressor               30962247.31        9.97  \n",
            "XGBRegressor                            30964927.13        1.44  \n",
            "ExtraTreesRegressor                     31121682.81       23.89  \n",
            "BaggingRegressor                        31174645.88        3.99  \n",
            "PoissonRegressor                        31456056.09        0.17  \n",
            "SGDRegressor                            31473520.97        0.81  \n",
            "Lars                                    31492853.70        0.14  \n",
            "LassoLars                               31492853.76        0.14  \n",
            "Lasso                                   31492853.85        1.28  \n",
            "Ridge                                   31492856.39        0.13  \n",
            "RidgeCV                                 31492880.57        0.21  \n",
            "LassoLarsIC                             31493419.94        0.23  \n",
            "BayesianRidge                           31494051.08        0.18  \n",
            "OrthogonalMatchingPursuit               31600728.56        0.15  \n",
            "ElasticNet                              31708216.69        0.18  \n",
            "TweedieRegressor                        31863176.35        0.16  \n",
            "OrthogonalMatchingPursuitCV             31876899.12        0.35  \n",
            "ElasticNetCV                            32519180.13        0.67  \n",
            "LassoLarsCV                             32519180.14        0.44  \n",
            "LassoCV                                 32519180.14        0.68  \n",
            "LarsCV                                  32519180.14        0.45  \n",
            "DummyRegressor                          32519180.14        0.10  \n",
            "DecisionTreeRegressor                   32721151.81        0.63  \n",
            "ExtraTreeRegressor                      32869932.04        0.36  \n",
            "KNeighborsRegressor                     33058830.70        6.08  \n",
            "AdaBoostRegressor                       33788504.17        4.30  \n",
            "HuberRegressor                          34060584.35        0.67  \n",
            "PassiveAggressiveRegressor              34474593.01       19.66  \n",
            "MLPRegressor                            36434109.55       85.46  \n",
            "LinearSVR                               39105845.33        0.20  \n",
            "RANSACRegressor                  210172545614144.09        0.67  \n",
            "LinearRegression              100282166699291840.00        0.17  \n",
            "TransformedTargetRegressor    100282166699291840.00        0.16  \n"
          ]
        },
        {
          "name": "stderr",
          "output_type": "stream",
          "text": [
            "\n"
          ]
        }
      ],
      "source": [
        "from lazypredict.Supervised import LazyRegressor\n",
        "from sklearn import datasets\n",
        "from sklearn.utils import shuffle\n",
        "import numpy as np\n",
        "\n",
        "X = dataframe_unificado_final_sin_categorias.drop(columns=['transacciones','unidades','ventas','muelle','fecha_de_venta','mes_string','tienda','marca'])\n",
        "y = dataframe_unificado_final_sin_categorias['ventas']\n",
        "# X['transacciones'].fillna(0, inplace=True)\n",
        "\n",
        "# drop_cols = X.isna().sum().to_frame()\n",
        "# drop_cols =drop_cols.loc[drop_cols[0] > 0]\n",
        "# X = X.drop(columns=drop_cols.index.array)\n",
        "# X.isna().sum().to_frame()\n",
        "\n",
        "X_train = X[X['anio_entero']==2022]\n",
        "X_test = X[X['anio_entero']==2023]\n",
        "y_train = y[X['anio_entero']==2022]\n",
        "y_test = y[X['anio_entero']==2023]\n",
        "# Lista de modelos a excluir\n",
        "modelos_a_excluir = ['SVR', 'NuSVR', 'GaussianProcessRegressor']\n",
        "reg = LazyRegressor(verbose=0, ignore_warnings=False, custom_metric=None)\n",
        "models, predictions = reg.fit(X_train, X_test, y_train, y_test)\n",
        "\n",
        "print(models)"
      ]
    },
    {
      "cell_type": "code",
      "execution_count": 188,
      "id": "98a6cb9c",
      "metadata": {},
      "outputs": [
        {
          "data": {
            "image/png": "[encoded data removed]",
            "text/plain": [
              "<Figure size 500x1000 with 1 Axes>"
            ]
          },
          "metadata": {},
          "output_type": "display_data"
        }
      ],
      "source": [
        "plt.figure(figsize=(5, 10))\n",
        "sns.set_theme(style=\"whitegrid\")\n",
        "ax = sns.barplot(y=predictions.index[:-15], x=\"R-Squared\", data=predictions[:-15])"
      ]
    },
    {
      "cell_type": "markdown",
      "id": "842fb0b8",
      "metadata": {},
      "source": [
        "# Busqueda hiperparámetros RandomForestRegressor"
      ]
    },
    {
      "cell_type": "code",
      "execution_count": 189,
      "id": "8b75334f",
      "metadata": {},
      "outputs": [
        {
          "name": "stdout",
          "output_type": "stream",
          "text": [
            "Fitting 3 folds for each of 48 candidates, totalling 144 fits\n"
          ]
        },
        {
          "data": {
            "text/html": [
              "<style>#sk-container-id-5 {color: black;background-color: white;}#sk-container-id-5 pre{padding: 0;}#sk-container-id-5 div.sk-toggleable {background-color: white;}#sk-container-id-5 label.sk-toggleable__label {cursor: pointer;display: block;width: 100%;margin-bottom: 0;padding: 0.3em;box-sizing: border-box;text-align: center;}#sk-container-id-5 label.sk-toggleable__label-arrow:before {content: \"▸\";float: left;margin-right: 0.25em;color: #696969;}#sk-container-id-5 label.sk-toggleable__label-arrow:hover:before {color: black;}#sk-container-id-5 div.sk-estimator:hover label.sk-toggleable__label-arrow:before {color: black;}#sk-container-id-5 div.sk-toggleable__content {max-height: 0;max-width: 0;overflow: hidden;text-align: left;background-color: #f0f8ff;}#sk-container-id-5 div.sk-toggleable__content pre {margin: 0.2em;color: black;border-radius: 0.25em;background-color: #f0f8ff;}#sk-container-id-5 input.sk-toggleable__control:checked~div.sk-toggleable__content {max-height: 200px;max-width: 100%;overflow: auto;}#sk-container-id-5 input.sk-toggleable__control:checked~label.sk-toggleable__label-arrow:before {content: \"▾\";}#sk-container-id-5 div.sk-estimator input.sk-toggleable__control:checked~label.sk-toggleable__label {background-color: #d4ebff;}#sk-container-id-5 div.sk-label input.sk-toggleable__control:checked~label.sk-toggleable__label {background-color: #d4ebff;}#sk-container-id-5 input.sk-hidden--visually {border: 0;clip: rect(1px 1px 1px 1px);clip: rect(1px, 1px, 1px, 1px);height: 1px;margin: -1px;overflow: hidden;padding: 0;position: absolute;width: 1px;}#sk-container-id-5 div.sk-estimator {font-family: monospace;background-color: #f0f8ff;border: 1px dotted black;border-radius: 0.25em;box-sizing: border-box;margin-bottom: 0.5em;}#sk-container-id-5 div.sk-estimator:hover {background-color: #d4ebff;}#sk-container-id-5 div.sk-parallel-item::after {content: \"\";width: 100%;border-bottom: 1px solid gray;flex-grow: 1;}#sk-container-id-5 div.sk-label:hover label.sk-toggleable__label {background-color: #d4ebff;}#sk-container-id-5 div.sk-serial::before {content: \"\";position: absolute;border-left: 1px solid gray;box-sizing: border-box;top: 0;bottom: 0;left: 50%;z-index: 0;}#sk-container-id-5 div.sk-serial {display: flex;flex-direction: column;align-items: center;background-color: white;padding-right: 0.2em;padding-left: 0.2em;position: relative;}#sk-container-id-5 div.sk-item {position: relative;z-index: 1;}#sk-container-id-5 div.sk-parallel {display: flex;align-items: stretch;justify-content: center;background-color: white;position: relative;}#sk-container-id-5 div.sk-item::before, #sk-container-id-5 div.sk-parallel-item::before {content: \"\";position: absolute;border-left: 1px solid gray;box-sizing: border-box;top: 0;bottom: 0;left: 50%;z-index: -1;}#sk-container-id-5 div.sk-parallel-item {display: flex;flex-direction: column;z-index: 1;position: relative;background-color: white;}#sk-container-id-5 div.sk-parallel-item:first-child::after {align-self: flex-end;width: 50%;}#sk-container-id-5 div.sk-parallel-item:last-child::after {align-self: flex-start;width: 50%;}#sk-container-id-5 div.sk-parallel-item:only-child::after {width: 0;}#sk-container-id-5 div.sk-dashed-wrapped {border: 1px dashed gray;margin: 0 0.4em 0.5em 0.4em;box-sizing: border-box;padding-bottom: 0.4em;background-color: white;}#sk-container-id-5 div.sk-label label {font-family: monospace;font-weight: bold;display: inline-block;line-height: 1.2em;}#sk-container-id-5 div.sk-label-container {text-align: center;}#sk-container-id-5 div.sk-container {/* jupyter's `normalize.less` sets `[hidden] { display: none; }` but bootstrap.min.css set `[hidden] { display: none !important; }` so we also need the `!important` here to be able to override the default hidden behavior on the sphinx rendered scikit-learn.org. See: https://github.com/scikit-learn/scikit-learn/issues/21755 */display: inline-block !important;position: relative;}#sk-container-id-5 div.sk-text-repr-fallback {display: none;}</style><div id=\"sk-container-id-5\" class=\"sk-top-container\"><div class=\"sk-text-repr-fallback\"><pre>GridSearchCV(cv=3, estimator=RandomForestRegressor(random_state=0), n_jobs=-1,\n",
              "             param_grid={&#x27;max_depth&#x27;: [10, 20, None],\n",
              "                         &#x27;max_features&#x27;: [&#x27;auto&#x27;, &#x27;sqrt&#x27;],\n",
              "                         &#x27;min_samples_leaf&#x27;: [1, 2],\n",
              "                         &#x27;min_samples_split&#x27;: [2, 5],\n",
              "                         &#x27;n_estimators&#x27;: [100, 200]},\n",
              "             scoring=&#x27;r2&#x27;, verbose=1)</pre><b>In a Jupyter environment, please rerun this cell to show the HTML representation or trust the notebook. <br />On GitHub, the HTML representation is unable to render, please try loading this page with nbviewer.org.</b></div><div class=\"sk-container\" hidden><div class=\"sk-item sk-dashed-wrapped\"><div class=\"sk-label-container\"><div class=\"sk-label sk-toggleable\"><input class=\"sk-toggleable__control sk-hidden--visually\" id=\"sk-estimator-id-11\" type=\"checkbox\" ><label for=\"sk-estimator-id-11\" class=\"sk-toggleable__label sk-toggleable__label-arrow\">GridSearchCV</label><div class=\"sk-toggleable__content\"><pre>GridSearchCV(cv=3, estimator=RandomForestRegressor(random_state=0), n_jobs=-1,\n",
              "             param_grid={&#x27;max_depth&#x27;: [10, 20, None],\n",
              "                         &#x27;max_features&#x27;: [&#x27;auto&#x27;, &#x27;sqrt&#x27;],\n",
              "                         &#x27;min_samples_leaf&#x27;: [1, 2],\n",
              "                         &#x27;min_samples_split&#x27;: [2, 5],\n",
              "                         &#x27;n_estimators&#x27;: [100, 200]},\n",
              "             scoring=&#x27;r2&#x27;, verbose=1)</pre></div></div></div><div class=\"sk-parallel\"><div class=\"sk-parallel-item\"><div class=\"sk-item\"><div class=\"sk-label-container\"><div class=\"sk-label sk-toggleable\"><input class=\"sk-toggleable__control sk-hidden--visually\" id=\"sk-estimator-id-12\" type=\"checkbox\" ><label for=\"sk-estimator-id-12\" class=\"sk-toggleable__label sk-toggleable__label-arrow\">estimator: RandomForestRegressor</label><div class=\"sk-toggleable__content\"><pre>RandomForestRegressor(random_state=0)</pre></div></div></div><div class=\"sk-serial\"><div class=\"sk-item\"><div class=\"sk-estimator sk-toggleable\"><input class=\"sk-toggleable__control sk-hidden--visually\" id=\"sk-estimator-id-13\" type=\"checkbox\" ><label for=\"sk-estimator-id-13\" class=\"sk-toggleable__label sk-toggleable__label-arrow\">RandomForestRegressor</label><div class=\"sk-toggleable__content\"><pre>RandomForestRegressor(random_state=0)</pre></div></div></div></div></div></div></div></div></div></div>"
            ],
            "text/plain": [
              "GridSearchCV(cv=3, estimator=RandomForestRegressor(random_state=0), n_jobs=-1,\n",
              "             param_grid={'max_depth': [10, 20, None],\n",
              "                         'max_features': ['auto', 'sqrt'],\n",
              "                         'min_samples_leaf': [1, 2],\n",
              "                         'min_samples_split': [2, 5],\n",
              "                         'n_estimators': [100, 200]},\n",
              "             scoring='r2', verbose=1)"
            ]
          },
          "execution_count": 189,
          "metadata": {},
          "output_type": "execute_result"
        }
      ],
      "source": [
        "from sklearn.ensemble import RandomForestRegressor\n",
        "\n",
        "# Definir una cuadrícula de parámetros más pequeña y menos exhaustiva\n",
        "param_grid = {\n",
        "    'n_estimators': [100, 200],  # Menos árboles\n",
        "    'max_depth': [10, 20, None],  # Profundidad limitada y una opción sin límite\n",
        "    'min_samples_split': [2, 5],  # Menos opciones para la cantidad mínima de muestras para dividir\n",
        "    'min_samples_leaf': [1, 2],   # Menos opciones para la cantidad mínima de muestras en una hoja\n",
        "    'max_features': ['auto', 'sqrt'],  # Opciones para el número de características a considerar al buscar la mejor división\n",
        "}\n",
        "\n",
        "# Inicializar el modelo RandomForestRegressor\n",
        "rf_regressor = RandomForestRegressor(random_state=0)\n",
        "\n",
        "# Configurar GridSearchCV\n",
        "grid_search = GridSearchCV(estimator=rf_regressor, param_grid=param_grid,\n",
        "                           scoring='r2', cv=3, verbose=1, n_jobs=-1)\n",
        "\n",
        "# Entrenar con los datos\n",
        "grid_search.fit(X_train, y_train)"
      ]
    },
    {
      "cell_type": "code",
      "execution_count": 207,
      "id": "01afa09f",
      "metadata": {},
      "outputs": [
        {
          "name": "stdout",
          "output_type": "stream",
          "text": [
            "Mejores parámetros encontrados: {'learning_rate': 0.01, 'max_depth': 5, 'min_data_in_leaf': 30, 'num_leaves': 50, 'reg_alpha': 0.5}\n"
          ]
        }
      ],
      "source": [
        "# Mejores parámetros RandomForestRegressor sin categorias\n",
        "best_params_rf_sin_categorias = grid_search.best_params_\n",
        "best_model_rf_sin_categorias = grid_search.best_estimator_\n",
        "\n",
        "print(f\"Mejores parámetros encontrados: {best_params_rf_sin_categorias}\")"
      ]
    },
    {
      "cell_type": "code",
      "execution_count": 191,
      "id": "aa37a72a",
      "metadata": {},
      "outputs": [
        {
          "name": "stdout",
          "output_type": "stream",
          "text": [
            "MAE train: 14924398.460495261\n",
            "MAE test: 16056810.963051803\n",
            "\n",
            "RMSE train: 28082341.45803568\n",
            "RMSE test: 31236064.370975886\n",
            "\n",
            "R2 train: 0.0934552892887931\n",
            "R2 test: 0.04071738440460437\n"
          ]
        }
      ],
      "source": [
        "# Evaluar para train y test. MAE, RMSE y R2\n",
        "y_train_pred = best_model_rf_sin_categorias.predict(X_train)\n",
        "y_test_pred = best_model_rf_sin_categorias.predict(X_test)\n",
        "\n",
        "mae_train = mean_absolute_error(y_train, y_train_pred)\n",
        "mae_test = mean_absolute_error(y_test, y_test_pred)\n",
        "\n",
        "rmse_train = np.sqrt(mean_squared_error(y_train, y_train_pred))\n",
        "rmse_test = np.sqrt(mean_squared_error(y_test, y_test_pred))\n",
        "\n",
        "r2_train = r2_score(y_train, y_train_pred)\n",
        "r2_test = r2_score(y_test, y_test_pred)\n",
        "\n",
        "print(f\"MAE train: {mae_train}\")\n",
        "print(f\"MAE test: {mae_test}\")\n",
        "print()\n",
        "print(f\"RMSE train: {rmse_train}\")\n",
        "print(f\"RMSE test: {rmse_test}\")\n",
        "print()\n",
        "print(f\"R2 train: {r2_train}\")\n",
        "print(f\"R2 test: {r2_test}\")\n"
      ]
    },
    {
      "cell_type": "code",
      "execution_count": 192,
      "id": "aa61adcd",
      "metadata": {},
      "outputs": [],
      "source": [
        "importances = pd.DataFrame({'feature': X_train.columns.array, 'score': best_model_rf_sin_categorias.feature_importances_})\n",
        "\n",
        "importances.sort_values(by='score', ascending=False, inplace=True)\n",
        "\n",
        "plot = importances.head(10)"
      ]
    },
    {
      "cell_type": "code",
      "execution_count": 193,
      "metadata": {},
      "outputs": [
        {
          "data": {
            "image/png": "[encoded data removed]",
            "text/plain": [
              "<Figure size 4000x2000 with 1 Axes>"
            ]
          },
          "metadata": {},
          "output_type": "display_data"
        }
      ],
      "source": [
        "plt.figure(figsize=(40, 20))\n",
        "\n",
        "plt.bar(plot['feature'], plot['score'], color='skyblue')\n",
        "plt.xlabel('feature')\n",
        "plt.ylabel('score')\n",
        "plt.title('Importancia')\n",
        "plt.show()"
      ]
    },
    {
      "cell_type": "code",
      "execution_count": 194,
      "id": "7ce6eeeb",
      "metadata": {},
      "outputs": [],
      "source": [
        "# Guardar el modelo\n",
        "pickle.dump(best_model_rf_sin_categorias, open('best_model_rf_sin_categorias.pkl', 'wb'))"
      ]
    },
    {
      "cell_type": "markdown",
      "id": "d46799aa",
      "metadata": {},
      "source": [
        "# Busqueda hiperparámetros HistGradientBoostingRegressor"
      ]
    },
    {
      "cell_type": "code",
      "execution_count": 195,
      "metadata": {},
      "outputs": [
        {
          "name": "stdout",
          "output_type": "stream",
          "text": [
            "Fitting 5 folds for each of 72 candidates, totalling 360 fits\n"
          ]
        },
        {
          "data": {
            "text/html": [
              "<style>#sk-container-id-6 {color: black;background-color: white;}#sk-container-id-6 pre{padding: 0;}#sk-container-id-6 div.sk-toggleable {background-color: white;}#sk-container-id-6 label.sk-toggleable__label {cursor: pointer;display: block;width: 100%;margin-bottom: 0;padding: 0.3em;box-sizing: border-box;text-align: center;}#sk-container-id-6 label.sk-toggleable__label-arrow:before {content: \"▸\";float: left;margin-right: 0.25em;color: #696969;}#sk-container-id-6 label.sk-toggleable__label-arrow:hover:before {color: black;}#sk-container-id-6 div.sk-estimator:hover label.sk-toggleable__label-arrow:before {color: black;}#sk-container-id-6 div.sk-toggleable__content {max-height: 0;max-width: 0;overflow: hidden;text-align: left;background-color: #f0f8ff;}#sk-container-id-6 div.sk-toggleable__content pre {margin: 0.2em;color: black;border-radius: 0.25em;background-color: #f0f8ff;}#sk-container-id-6 input.sk-toggleable__control:checked~div.sk-toggleable__content {max-height: 200px;max-width: 100%;overflow: auto;}#sk-container-id-6 input.sk-toggleable__control:checked~label.sk-toggleable__label-arrow:before {content: \"▾\";}#sk-container-id-6 div.sk-estimator input.sk-toggleable__control:checked~label.sk-toggleable__label {background-color: #d4ebff;}#sk-container-id-6 div.sk-label input.sk-toggleable__control:checked~label.sk-toggleable__label {background-color: #d4ebff;}#sk-container-id-6 input.sk-hidden--visually {border: 0;clip: rect(1px 1px 1px 1px);clip: rect(1px, 1px, 1px, 1px);height: 1px;margin: -1px;overflow: hidden;padding: 0;position: absolute;width: 1px;}#sk-container-id-6 div.sk-estimator {font-family: monospace;background-color: #f0f8ff;border: 1px dotted black;border-radius: 0.25em;box-sizing: border-box;margin-bottom: 0.5em;}#sk-container-id-6 div.sk-estimator:hover {background-color: #d4ebff;}#sk-container-id-6 div.sk-parallel-item::after {content: \"\";width: 100%;border-bottom: 1px solid gray;flex-grow: 1;}#sk-container-id-6 div.sk-label:hover label.sk-toggleable__label {background-color: #d4ebff;}#sk-container-id-6 div.sk-serial::before {content: \"\";position: absolute;border-left: 1px solid gray;box-sizing: border-box;top: 0;bottom: 0;left: 50%;z-index: 0;}#sk-container-id-6 div.sk-serial {display: flex;flex-direction: column;align-items: center;background-color: white;padding-right: 0.2em;padding-left: 0.2em;position: relative;}#sk-container-id-6 div.sk-item {position: relative;z-index: 1;}#sk-container-id-6 div.sk-parallel {display: flex;align-items: stretch;justify-content: center;background-color: white;position: relative;}#sk-container-id-6 div.sk-item::before, #sk-container-id-6 div.sk-parallel-item::before {content: \"\";position: absolute;border-left: 1px solid gray;box-sizing: border-box;top: 0;bottom: 0;left: 50%;z-index: -1;}#sk-container-id-6 div.sk-parallel-item {display: flex;flex-direction: column;z-index: 1;position: relative;background-color: white;}#sk-container-id-6 div.sk-parallel-item:first-child::after {align-self: flex-end;width: 50%;}#sk-container-id-6 div.sk-parallel-item:last-child::after {align-self: flex-start;width: 50%;}#sk-container-id-6 div.sk-parallel-item:only-child::after {width: 0;}#sk-container-id-6 div.sk-dashed-wrapped {border: 1px dashed gray;margin: 0 0.4em 0.5em 0.4em;box-sizing: border-box;padding-bottom: 0.4em;background-color: white;}#sk-container-id-6 div.sk-label label {font-family: monospace;font-weight: bold;display: inline-block;line-height: 1.2em;}#sk-container-id-6 div.sk-label-container {text-align: center;}#sk-container-id-6 div.sk-container {/* jupyter's `normalize.less` sets `[hidden] { display: none; }` but bootstrap.min.css set `[hidden] { display: none !important; }` so we also need the `!important` here to be able to override the default hidden behavior on the sphinx rendered scikit-learn.org. See: https://github.com/scikit-learn/scikit-learn/issues/21755 */display: inline-block !important;position: relative;}#sk-container-id-6 div.sk-text-repr-fallback {display: none;}</style><div id=\"sk-container-id-6\" class=\"sk-top-container\"><div class=\"sk-text-repr-fallback\"><pre>GridSearchCV(cv=5, estimator=HistGradientBoostingRegressor(), n_jobs=-1,\n",
              "             param_grid={&#x27;l2_regularization&#x27;: [0.0, 0.1],\n",
              "                         &#x27;learning_rate&#x27;: [0.01, 0.1, 0.2],\n",
              "                         &#x27;max_depth&#x27;: [3, 5, 10], &#x27;max_iter&#x27;: [100, 200],\n",
              "                         &#x27;min_samples_leaf&#x27;: [20, 40]},\n",
              "             scoring=&#x27;r2&#x27;, verbose=1)</pre><b>In a Jupyter environment, please rerun this cell to show the HTML representation or trust the notebook. <br />On GitHub, the HTML representation is unable to render, please try loading this page with nbviewer.org.</b></div><div class=\"sk-container\" hidden><div class=\"sk-item sk-dashed-wrapped\"><div class=\"sk-label-container\"><div class=\"sk-label sk-toggleable\"><input class=\"sk-toggleable__control sk-hidden--visually\" id=\"sk-estimator-id-14\" type=\"checkbox\" ><label for=\"sk-estimator-id-14\" class=\"sk-toggleable__label sk-toggleable__label-arrow\">GridSearchCV</label><div class=\"sk-toggleable__content\"><pre>GridSearchCV(cv=5, estimator=HistGradientBoostingRegressor(), n_jobs=-1,\n",
              "             param_grid={&#x27;l2_regularization&#x27;: [0.0, 0.1],\n",
              "                         &#x27;learning_rate&#x27;: [0.01, 0.1, 0.2],\n",
              "                         &#x27;max_depth&#x27;: [3, 5, 10], &#x27;max_iter&#x27;: [100, 200],\n",
              "                         &#x27;min_samples_leaf&#x27;: [20, 40]},\n",
              "             scoring=&#x27;r2&#x27;, verbose=1)</pre></div></div></div><div class=\"sk-parallel\"><div class=\"sk-parallel-item\"><div class=\"sk-item\"><div class=\"sk-label-container\"><div class=\"sk-label sk-toggleable\"><input class=\"sk-toggleable__control sk-hidden--visually\" id=\"sk-estimator-id-15\" type=\"checkbox\" ><label for=\"sk-estimator-id-15\" class=\"sk-toggleable__label sk-toggleable__label-arrow\">estimator: HistGradientBoostingRegressor</label><div class=\"sk-toggleable__content\"><pre>HistGradientBoostingRegressor()</pre></div></div></div><div class=\"sk-serial\"><div class=\"sk-item\"><div class=\"sk-estimator sk-toggleable\"><input class=\"sk-toggleable__control sk-hidden--visually\" id=\"sk-estimator-id-16\" type=\"checkbox\" ><label for=\"sk-estimator-id-16\" class=\"sk-toggleable__label sk-toggleable__label-arrow\">HistGradientBoostingRegressor</label><div class=\"sk-toggleable__content\"><pre>HistGradientBoostingRegressor()</pre></div></div></div></div></div></div></div></div></div></div>"
            ],
            "text/plain": [
              "GridSearchCV(cv=5, estimator=HistGradientBoostingRegressor(), n_jobs=-1,\n",
              "             param_grid={'l2_regularization': [0.0, 0.1],\n",
              "                         'learning_rate': [0.01, 0.1, 0.2],\n",
              "                         'max_depth': [3, 5, 10], 'max_iter': [100, 200],\n",
              "                         'min_samples_leaf': [20, 40]},\n",
              "             scoring='r2', verbose=1)"
            ]
          },
          "execution_count": 195,
          "metadata": {},
          "output_type": "execute_result"
        }
      ],
      "source": [
        "from sklearn.ensemble import HistGradientBoostingRegressor\n",
        "\n",
        "# Definir una cuadrícula de parámetros más pequeña y menos exhaustiva\n",
        "param_grid = {\n",
        "    'max_iter': [100, 200],\n",
        "    'max_depth': [3, 5, 10],\n",
        "    'min_samples_leaf': [20, 40],\n",
        "    'learning_rate': [0.01, 0.1, 0.2],\n",
        "    'l2_regularization': [0.0, 0.1]\n",
        "}\n",
        "\n",
        "hist_gbr = HistGradientBoostingRegressor()\n",
        "\n",
        "grid_search = GridSearchCV(estimator=hist_gbr, param_grid=param_grid, cv=5, scoring='r2', verbose=1, n_jobs=-1)\n",
        "\n",
        "grid_search.fit(X_train, y_train)"
      ]
    },
    {
      "cell_type": "code",
      "execution_count": 196,
      "metadata": {},
      "outputs": [
        {
          "name": "stdout",
          "output_type": "stream",
          "text": [
            "Mejores parámetros encontrados: {'l2_regularization': 0.1, 'learning_rate': 0.01, 'max_depth': 3, 'max_iter': 100, 'min_samples_leaf': 40}\n"
          ]
        }
      ],
      "source": [
        "# Mejores parámetros HistGradientBoostingRegressor sin categorias\n",
        "best_params_hist_gbr_sin_categorias = grid_search.best_params_\n",
        "best_model_hist_gbr_sin_categorias = grid_search.best_estimator_\n",
        "\n",
        "print(f\"Mejores parámetros encontrados: {best_params_hist_gbr_sin_categorias}\")"
      ]
    },
    {
      "cell_type": "code",
      "execution_count": 197,
      "metadata": {},
      "outputs": [
        {
          "name": "stdout",
          "output_type": "stream",
          "text": [
            "MAE train: 15497472.352101559\n",
            "MAE test: 16409970.83440534\n",
            "\n",
            "RMSE train: 28641938.71339698\n",
            "RMSE test: 31416677.499306254\n",
            "\n",
            "R2 train: 0.056965851998639905\n",
            "R2 test: 0.029591786687418242\n"
          ]
        }
      ],
      "source": [
        "# Evaluar para train y test. MAE, RMSE y R2\n",
        "y_train_pred = best_model_hist_gbr_sin_categorias.predict(X_train)\n",
        "y_test_pred = best_model_hist_gbr_sin_categorias.predict(X_test)\n",
        "\n",
        "mae_train = mean_absolute_error(y_train, y_train_pred)\n",
        "mae_test = mean_absolute_error(y_test, y_test_pred)\n",
        "\n",
        "rmse_train = np.sqrt(mean_squared_error(y_train, y_train_pred))\n",
        "rmse_test = np.sqrt(mean_squared_error(y_test, y_test_pred))\n",
        "\n",
        "r2_train = r2_score(y_train, y_train_pred)\n",
        "r2_test = r2_score(y_test, y_test_pred)\n",
        "\n",
        "print(f\"MAE train: {mae_train}\")\n",
        "print(f\"MAE test: {mae_test}\")\n",
        "print()\n",
        "print(f\"RMSE train: {rmse_train}\")\n",
        "print(f\"RMSE test: {rmse_test}\")\n",
        "print()\n",
        "print(f\"R2 train: {r2_train}\")\n",
        "print(f\"R2 test: {r2_test}\")"
      ]
    },
    {
      "cell_type": "code",
      "execution_count": 198,
      "metadata": {},
      "outputs": [],
      "source": [
        "from sklearn.inspection import permutation_importance\n",
        "\n",
        "# Asumiendo que best_model_hist_gbr_categorias es tu modelo entrenado HistGradientBoostingRegressor\n",
        "result = permutation_importance(best_model_hist_gbr_sin_categorias, X_train, y_train, n_repeats=10, random_state=0, n_jobs=-1)\n",
        "\n",
        "# Crear DataFrame de importancias de características\n",
        "importances = pd.DataFrame({'feature': X_train.columns, 'score': result.importances_mean})\n",
        "\n",
        "# Ordenar el DataFrame por la importancia de las características de forma descendente\n",
        "importances.sort_values(by='score', ascending=False, inplace=True)\n",
        "\n",
        "# Seleccionar las 10 características más importantes\n",
        "top_importances = importances.head(10)"
      ]
    },
    {
      "cell_type": "code",
      "execution_count": 199,
      "metadata": {},
      "outputs": [
        {
          "data": {
            "image/png": "[encoded data removed]",
            "text/plain": [
              "<Figure size 4000x2000 with 1 Axes>"
            ]
          },
          "metadata": {},
          "output_type": "display_data"
        }
      ],
      "source": [
        "# Crear un gráfico de barras\n",
        "plt.figure(figsize=(40, 20))\n",
        "plt.bar(top_importances['feature'], top_importances['score'], color='skyblue')\n",
        "plt.xlabel('feature')\n",
        "plt.ylabel('score')\n",
        "plt.title('Importancia')\n",
        "\n",
        "# Mostrar el diagrama de barras\n",
        "plt.show()"
      ]
    },
    {
      "cell_type": "code",
      "execution_count": 200,
      "metadata": {},
      "outputs": [],
      "source": [
        "# Guardar el modelo\n",
        "pickle.dump(best_model_hist_gbr_sin_categorias, open('best_model_hist_gbr_sin_categorias.pkl', 'wb'))"
      ]
    },
    {
      "cell_type": "markdown",
      "id": "3fec7bf6",
      "metadata": {},
      "source": [
        "# Busqueda hiperparámetros LGBMRegressor"
      ]
    },
    {
      "cell_type": "code",
      "execution_count": 201,
      "metadata": {},
      "outputs": [
        {
          "name": "stdout",
          "output_type": "stream",
          "text": [
            "Fitting 5 folds for each of 162 candidates, totalling 810 fits\n",
            "[LightGBM] [Warning] min_data_in_leaf is set=30, min_child_samples=20 will be ignored. Current value: min_data_in_leaf=30\n"
          ]
        },
        {
          "data": {
            "text/html": [
              "<style>#sk-container-id-7 {color: black;background-color: white;}#sk-container-id-7 pre{padding: 0;}#sk-container-id-7 div.sk-toggleable {background-color: white;}#sk-container-id-7 label.sk-toggleable__label {cursor: pointer;display: block;width: 100%;margin-bottom: 0;padding: 0.3em;box-sizing: border-box;text-align: center;}#sk-container-id-7 label.sk-toggleable__label-arrow:before {content: \"▸\";float: left;margin-right: 0.25em;color: #696969;}#sk-container-id-7 label.sk-toggleable__label-arrow:hover:before {color: black;}#sk-container-id-7 div.sk-estimator:hover label.sk-toggleable__label-arrow:before {color: black;}#sk-container-id-7 div.sk-toggleable__content {max-height: 0;max-width: 0;overflow: hidden;text-align: left;background-color: #f0f8ff;}#sk-container-id-7 div.sk-toggleable__content pre {margin: 0.2em;color: black;border-radius: 0.25em;background-color: #f0f8ff;}#sk-container-id-7 input.sk-toggleable__control:checked~div.sk-toggleable__content {max-height: 200px;max-width: 100%;overflow: auto;}#sk-container-id-7 input.sk-toggleable__control:checked~label.sk-toggleable__label-arrow:before {content: \"▾\";}#sk-container-id-7 div.sk-estimator input.sk-toggleable__control:checked~label.sk-toggleable__label {background-color: #d4ebff;}#sk-container-id-7 div.sk-label input.sk-toggleable__control:checked~label.sk-toggleable__label {background-color: #d4ebff;}#sk-container-id-7 input.sk-hidden--visually {border: 0;clip: rect(1px 1px 1px 1px);clip: rect(1px, 1px, 1px, 1px);height: 1px;margin: -1px;overflow: hidden;padding: 0;position: absolute;width: 1px;}#sk-container-id-7 div.sk-estimator {font-family: monospace;background-color: #f0f8ff;border: 1px dotted black;border-radius: 0.25em;box-sizing: border-box;margin-bottom: 0.5em;}#sk-container-id-7 div.sk-estimator:hover {background-color: #d4ebff;}#sk-container-id-7 div.sk-parallel-item::after {content: \"\";width: 100%;border-bottom: 1px solid gray;flex-grow: 1;}#sk-container-id-7 div.sk-label:hover label.sk-toggleable__label {background-color: #d4ebff;}#sk-container-id-7 div.sk-serial::before {content: \"\";position: absolute;border-left: 1px solid gray;box-sizing: border-box;top: 0;bottom: 0;left: 50%;z-index: 0;}#sk-container-id-7 div.sk-serial {display: flex;flex-direction: column;align-items: center;background-color: white;padding-right: 0.2em;padding-left: 0.2em;position: relative;}#sk-container-id-7 div.sk-item {position: relative;z-index: 1;}#sk-container-id-7 div.sk-parallel {display: flex;align-items: stretch;justify-content: center;background-color: white;position: relative;}#sk-container-id-7 div.sk-item::before, #sk-container-id-7 div.sk-parallel-item::before {content: \"\";position: absolute;border-left: 1px solid gray;box-sizing: border-box;top: 0;bottom: 0;left: 50%;z-index: -1;}#sk-container-id-7 div.sk-parallel-item {display: flex;flex-direction: column;z-index: 1;position: relative;background-color: white;}#sk-container-id-7 div.sk-parallel-item:first-child::after {align-self: flex-end;width: 50%;}#sk-container-id-7 div.sk-parallel-item:last-child::after {align-self: flex-start;width: 50%;}#sk-container-id-7 div.sk-parallel-item:only-child::after {width: 0;}#sk-container-id-7 div.sk-dashed-wrapped {border: 1px dashed gray;margin: 0 0.4em 0.5em 0.4em;box-sizing: border-box;padding-bottom: 0.4em;background-color: white;}#sk-container-id-7 div.sk-label label {font-family: monospace;font-weight: bold;display: inline-block;line-height: 1.2em;}#sk-container-id-7 div.sk-label-container {text-align: center;}#sk-container-id-7 div.sk-container {/* jupyter's `normalize.less` sets `[hidden] { display: none; }` but bootstrap.min.css set `[hidden] { display: none !important; }` so we also need the `!important` here to be able to override the default hidden behavior on the sphinx rendered scikit-learn.org. See: https://github.com/scikit-learn/scikit-learn/issues/21755 */display: inline-block !important;position: relative;}#sk-container-id-7 div.sk-text-repr-fallback {display: none;}</style><div id=\"sk-container-id-7\" class=\"sk-top-container\"><div class=\"sk-text-repr-fallback\"><pre>GridSearchCV(cv=5, estimator=LGBMRegressor(), n_jobs=-1,\n",
              "             param_grid={&#x27;learning_rate&#x27;: [0.01, 0.05, 0.1],\n",
              "                         &#x27;max_depth&#x27;: [-1, 5, 10],\n",
              "                         &#x27;min_data_in_leaf&#x27;: [30, 50, 100],\n",
              "                         &#x27;num_leaves&#x27;: [31, 50, 70], &#x27;reg_alpha&#x27;: [0.1, 0.5]},\n",
              "             scoring=&#x27;r2&#x27;, verbose=1)</pre><b>In a Jupyter environment, please rerun this cell to show the HTML representation or trust the notebook. <br />On GitHub, the HTML representation is unable to render, please try loading this page with nbviewer.org.</b></div><div class=\"sk-container\" hidden><div class=\"sk-item sk-dashed-wrapped\"><div class=\"sk-label-container\"><div class=\"sk-label sk-toggleable\"><input class=\"sk-toggleable__control sk-hidden--visually\" id=\"sk-estimator-id-17\" type=\"checkbox\" ><label for=\"sk-estimator-id-17\" class=\"sk-toggleable__label sk-toggleable__label-arrow\">GridSearchCV</label><div class=\"sk-toggleable__content\"><pre>GridSearchCV(cv=5, estimator=LGBMRegressor(), n_jobs=-1,\n",
              "             param_grid={&#x27;learning_rate&#x27;: [0.01, 0.05, 0.1],\n",
              "                         &#x27;max_depth&#x27;: [-1, 5, 10],\n",
              "                         &#x27;min_data_in_leaf&#x27;: [30, 50, 100],\n",
              "                         &#x27;num_leaves&#x27;: [31, 50, 70], &#x27;reg_alpha&#x27;: [0.1, 0.5]},\n",
              "             scoring=&#x27;r2&#x27;, verbose=1)</pre></div></div></div><div class=\"sk-parallel\"><div class=\"sk-parallel-item\"><div class=\"sk-item\"><div class=\"sk-label-container\"><div class=\"sk-label sk-toggleable\"><input class=\"sk-toggleable__control sk-hidden--visually\" id=\"sk-estimator-id-18\" type=\"checkbox\" ><label for=\"sk-estimator-id-18\" class=\"sk-toggleable__label sk-toggleable__label-arrow\">estimator: LGBMRegressor</label><div class=\"sk-toggleable__content\"><pre>LGBMRegressor()</pre></div></div></div><div class=\"sk-serial\"><div class=\"sk-item\"><div class=\"sk-estimator sk-toggleable\"><input class=\"sk-toggleable__control sk-hidden--visually\" id=\"sk-estimator-id-19\" type=\"checkbox\" ><label for=\"sk-estimator-id-19\" class=\"sk-toggleable__label sk-toggleable__label-arrow\">LGBMRegressor</label><div class=\"sk-toggleable__content\"><pre>LGBMRegressor()</pre></div></div></div></div></div></div></div></div></div></div>"
            ],
            "text/plain": [
              "GridSearchCV(cv=5, estimator=LGBMRegressor(), n_jobs=-1,\n",
              "             param_grid={'learning_rate': [0.01, 0.05, 0.1],\n",
              "                         'max_depth': [-1, 5, 10],\n",
              "                         'min_data_in_leaf': [30, 50, 100],\n",
              "                         'num_leaves': [31, 50, 70], 'reg_alpha': [0.1, 0.5]},\n",
              "             scoring='r2', verbose=1)"
            ]
          },
          "execution_count": 201,
          "metadata": {},
          "output_type": "execute_result"
        }
      ],
      "source": [
        "# LGBMRegressor\n",
        "import lightgbm as lgb\n",
        "from sklearn.model_selection import GridSearchCV\n",
        "\n",
        "param_grid = {\n",
        "    'num_leaves': [31, 50, 70],\n",
        "    'reg_alpha': [0.1, 0.5],\n",
        "    'min_data_in_leaf': [30, 50, 100],\n",
        "    'learning_rate': [0.01, 0.05, 0.1],\n",
        "    'max_depth': [-1, 5, 10]\n",
        "}\n",
        "\n",
        "lgbm = lgb.LGBMRegressor()\n",
        "\n",
        "grid_search = GridSearchCV(estimator=lgbm, param_grid=param_grid, cv=5, scoring='r2', verbose=1, n_jobs=-1)\n",
        "\n",
        "grid_search.fit(X_train, y_train)"
      ]
    },
    {
      "cell_type": "code",
      "execution_count": 202,
      "metadata": {},
      "outputs": [
        {
          "name": "stdout",
          "output_type": "stream",
          "text": [
            "Mejores parámetros encontrados: {'learning_rate': 0.01, 'max_depth': 5, 'min_data_in_leaf': 30, 'num_leaves': 50, 'reg_alpha': 0.5}\n"
          ]
        }
      ],
      "source": [
        "# Mejores parámetros LBBMRegressor sin categorias\n",
        "best_params_lgbm_sin_categorias = grid_search.best_params_\n",
        "best_model_lgbm_sin_categorias = grid_search.best_estimator_\n",
        "\n",
        "print(f\"Mejores parámetros encontrados: {best_params_lgbm_sin_categorias}\")"
      ]
    },
    {
      "cell_type": "code",
      "execution_count": 203,
      "metadata": {},
      "outputs": [
        {
          "name": "stdout",
          "output_type": "stream",
          "text": [
            "MAE train: 15330679.425517218\n",
            "MAE test: 16202557.480409136\n",
            "\n",
            "RMSE train: 28468636.893144432\n",
            "RMSE test: 31341046.673040565\n",
            "\n",
            "R2 train: 0.06834323186698332\n",
            "R2 test: 0.03425838035074957\n"
          ]
        }
      ],
      "source": [
        "# Evaluar para train y test. MAE, RMSE y R2\n",
        "y_train_pred = best_model_lgbm_sin_categorias.predict(X_train)\n",
        "y_test_pred = best_model_lgbm_sin_categorias.predict(X_test)\n",
        "\n",
        "mae_train = mean_absolute_error(y_train, y_train_pred)\n",
        "mae_test = mean_absolute_error(y_test, y_test_pred)\n",
        "\n",
        "rmse_train = np.sqrt(mean_squared_error(y_train, y_train_pred))\n",
        "rmse_test = np.sqrt(mean_squared_error(y_test, y_test_pred))\n",
        "\n",
        "r2_train = r2_score(y_train, y_train_pred)\n",
        "r2_test = r2_score(y_test, y_test_pred)\n",
        "\n",
        "print(f\"MAE train: {mae_train}\")\n",
        "print(f\"MAE test: {mae_test}\")\n",
        "print()\n",
        "print(f\"RMSE train: {rmse_train}\")\n",
        "print(f\"RMSE test: {rmse_test}\")\n",
        "print()\n",
        "print(f\"R2 train: {r2_train}\")\n",
        "print(f\"R2 test: {r2_test}\")"
      ]
    },
    {
      "cell_type": "code",
      "execution_count": 204,
      "metadata": {},
      "outputs": [],
      "source": [
        "importances =pd.DataFrame({'feature': X_train.columns.array, 'score': best_model_lgbm_sin_categorias.feature_importances_})\n",
        "importances.sort_values(by='score', ascending=False, inplace=True)\n",
        "\n",
        "plot = importances.head(10)"
      ]
    },
    {
      "cell_type": "code",
      "execution_count": 205,
      "metadata": {},
      "outputs": [
        {
          "data": {
            "image/png": "[encoded data removed]",
            "text/plain": [
              "<Figure size 4000x2000 with 1 Axes>"
            ]
          },
          "metadata": {},
          "output_type": "display_data"
        }
      ],
      "source": [
        "plt.figure(figsize=(40, 20))\n",
        "plt.bar(plot['feature'], plot['score'], color='skyblue')\n",
        "plt.xlabel('feature')\n",
        "plt.ylabel('score')\n",
        "plt.title('Importancia')\n",
        "plt.show()"
      ]
    },
    {
      "cell_type": "code",
      "execution_count": 206,
      "metadata": {},
      "outputs": [],
      "source": [
        "# Guardar el modelo\n",
        "pickle.dump(best_model_lgbm_sin_categorias, open('best_model_lgbm_sin_categorias.pkl', 'wb'))"
      ]
    }
  ],
  "metadata": {
    "colab": {
      "include_colab_link": true,
      "provenance": []
    },
    "kernelspec": {
      "display_name": "Python 3 (ipykernel)",
      "language": "python",
      "name": "python3"
    },
    "language_info": {
      "codemirror_mode": {
        "name": "ipython",
        "version": 3
      },
      "file_extension": ".py",
      "mimetype": "text/x-python",
      "name": "python",
      "nbconvert_exporter": "python",
      "pygments_lexer": "ipython3",
      "version": "3.10.9"
    }
  },
  "nbformat": 4,
  "nbformat_minor": 5
}
